{
 "cells": [
  {
   "cell_type": "code",
   "execution_count": 1,
   "metadata": {},
   "outputs": [
    {
     "name": "stdout",
     "output_type": "stream",
     "text": [
      "cpu\n"
     ]
    }
   ],
   "source": [
    "%matplotlib inline\n",
    "import matplotlib.pyplot as plt\n",
    "import numpy as np\n",
    "# from scipy import signal\n",
    "# from scipy.io import wavfile\n",
    "\n",
    "from tqdm.notebook import tqdm\n",
    "\n",
    "import librosa\n",
    "import librosa.display\n",
    "\n",
    "import torch\n",
    "import torch.nn as nn\n",
    "\n",
    "from common_audio import *\n",
    "from audio_dataset import *\n",
    "\n",
    "device = torch.device('cuda' if torch.cuda.is_available() else 'cpu')\n",
    "dtype = torch.float\n",
    "\n",
    "print(device)"
   ]
  },
  {
   "cell_type": "code",
   "execution_count": 6,
   "metadata": {},
   "outputs": [],
   "source": [
    "sr = 10000\n",
    "duration = 4.9\n",
    "voice_ds = AudioDataSet('datasets/LibriSpeech/LibriSpeech/dev-clean', sr=sr, duration=duration)\n",
    "# ads = AudioDataSet('datasets/urban/UrbanSound8K/audio')\n"
   ]
  },
  {
   "cell_type": "code",
   "execution_count": 10,
   "metadata": {},
   "outputs": [],
   "source": [
    "def generate_tones(sr, duration, freq, amplitude=None):\n",
    "    if amplitude is None:\n",
    "        amplitude = np.ones_like(freq)\n",
    "    freq, amplitude = freq[:, None], amplitude[:, None]\n",
    "    length = int(sr*duration)\n",
    "    full = np.tile(np.arange(length), (freq.shape[1], 1))\n",
    "    y = amplitude * np.sin(2*np.pi/sr * freq * full)\n",
    "    return y\n"
   ]
  },
  {
   "cell_type": "code",
   "execution_count": null,
   "metadata": {},
   "outputs": [],
   "source": [
    "\n",
    "\n",
    "tone_y = generate_tones(sr, duration, np.array([1024, 2048]), np.array([1, 2]))\n",
    "play_audio(tone_y[0], sr)\n",
    "\n",
    "show_spectrogram(audio_to_spectrogram(tone_y[0], sr), sr)"
   ]
  },
  {
   "cell_type": "markdown",
   "metadata": {},
   "source": [
    "# Naive Method\n",
    "\n",
    "Make a neural network to just take out the tone"
   ]
  },
  {
   "cell_type": "code",
   "execution_count": null,
   "metadata": {},
   "outputs": [],
   "source": []
  },
  {
   "cell_type": "code",
   "execution_count": null,
   "metadata": {},
   "outputs": [],
   "source": []
  },
  {
   "cell_type": "code",
   "execution_count": null,
   "metadata": {},
   "outputs": [],
   "source": []
  },
  {
   "cell_type": "code",
   "execution_count": null,
   "metadata": {},
   "outputs": [],
   "source": []
  },
  {
   "cell_type": "markdown",
   "metadata": {},
   "source": [
    "# Our Method\n",
    "\n",
    "add details..."
   ]
  },
  {
   "cell_type": "code",
   "execution_count": null,
   "metadata": {},
   "outputs": [],
   "source": []
  },
  {
   "cell_type": "code",
   "execution_count": null,
   "metadata": {},
   "outputs": [],
   "source": []
  },
  {
   "cell_type": "code",
   "execution_count": null,
   "metadata": {},
   "outputs": [],
   "source": []
  },
  {
   "cell_type": "code",
   "execution_count": null,
   "metadata": {},
   "outputs": [],
   "source": []
  },
  {
   "cell_type": "code",
   "execution_count": 39,
   "metadata": {},
   "outputs": [],
   "source": [
    "class VoiceRecogNet(nn.Module):\n",
    "    def __init__(self):\n",
    "        super(VoiceRecogNet, self).__init__()\n",
    "        self.maxpool = nn.MaxPool2d((2,2))\n",
    "        self.conv1 = nn.Conv2d(1, 4, 3, padding=1)\n",
    "        self.conv2 = nn.Conv2d(4, 16, 3, padding=1)\n",
    "        self.conv3 = nn.Conv2d(16, 64, 3, padding=1)\n",
    "        self.linear = nn.Linear(12288, 100)\n",
    "        self.linear2 = nn.Linear(100, 10)\n",
    "        self.linear3 = nn.Linear(10, 1)\n",
    "        \n",
    "        self.opt = torch.optim.Adam(self.parameters(), lr=0.001)\n",
    "    \n",
    "    def forward(self, x):\n",
    "\n",
    "        x = self.conv1(x)\n",
    "        x = self.maxpool(x)\n",
    "        x = torch.tanh(x)\n",
    "\n",
    "        x = self.conv2(x)\n",
    "        x = self.maxpool(x)\n",
    "        x = torch.tanh(x)\n",
    "\n",
    "        x = self.conv3(x)\n",
    "        x = self.maxpool(x)\n",
    "        x = torch.tanh(x)\n",
    "        \n",
    "        x = x.view(x.shape[0], -1)\n",
    "        \n",
    "        x = self.linear(x)\n",
    "        x = torch.relu(x)\n",
    "        \n",
    "        x = self.linear2(x)\n",
    "        x = torch.relu(x)\n",
    "        \n",
    "        x = self.linear3(x)\n",
    "        x = torch.sigmoid(x)\n",
    "        \n",
    "        return x\n",
    "    \n",
    "vrn = VoiceRecogNet().to(device)"
   ]
  },
  {
   "cell_type": "code",
   "execution_count": 27,
   "metadata": {},
   "outputs": [
    {
     "data": {
      "application/vnd.jupyter.widget-view+json": {
       "model_id": "1a9f87a1a5de4abebc744d3d1864ece3",
       "version_major": 2,
       "version_minor": 0
      },
      "text/plain": [
       "HBox(children=(FloatProgress(value=1.0, bar_style='info', max=1.0), HTML(value='')))"
      ]
     },
     "metadata": {},
     "output_type": "display_data"
    }
   ],
   "source": [
    "# create test set\n",
    "voice_ds.reset_next()\n",
    "X_test_voice = voice_ds.load_next(100, pbar=tqdm())\n",
    "X_test_tone = generate_tones(sr, duration, np.linspace(500, 2000, 100))\n",
    "\n",
    "X_test = np.concatenate((X_test_voice, X_test_tone), axis=0)\n",
    "Y_test = np.concatenate((np.ones(X_test_voice.shape[0]), np.zeros(X_test_tone.shape[0])), axis=0)\n",
    "\n",
    "X_test = audios_to_spectrograms(X_test, sr, normalize=True)\n"
   ]
  },
  {
   "cell_type": "code",
   "execution_count": 69,
   "metadata": {},
   "outputs": [
    {
     "name": "stdout",
     "output_type": "stream",
     "text": [
      "Accuracy:  0.04\n"
     ]
    }
   ],
   "source": [
    "tin = torch.from_numpy(X_test).to(device,dtype)[:,None, :, :]\n",
    "tout = vrn.forward(tin).detach().cpu().numpy()[:, 0]\n",
    "\n",
    "print('Accuracy: ', ((tout>0.5) == (Y_test>0.5)).sum()/len(Y_test))"
   ]
  },
  {
   "cell_type": "code",
   "execution_count": 74,
   "metadata": {},
   "outputs": [
    {
     "data": {
      "application/vnd.jupyter.widget-view+json": {
       "model_id": "406a4453f6094758ac497d2159aebd09",
       "version_major": 2,
       "version_minor": 0
      },
      "text/plain": [
       "HBox(children=(FloatProgress(value=0.0), HTML(value='')))"
      ]
     },
     "metadata": {},
     "output_type": "display_data"
    },
    {
     "name": "stdout",
     "output_type": "stream",
     "text": [
      "0.6977925\n",
      "0.61458004\n",
      "0.48627466\n",
      "0.37102553\n",
      "0.23876016\n",
      "0.14889307\n",
      "0.06923959\n",
      "0.07224403\n",
      "0.02555867\n",
      "0.015887555\n",
      "0.005020765\n",
      "0.0011314509\n",
      "0.00027792604\n",
      "7.1111506e-05\n",
      "3.022899e-05\n",
      "1.6880458e-05\n",
      "6.1062434e-05\n",
      "2.9623563e-06\n",
      "3.8237e-06\n",
      "2.0623413e-06\n",
      "4.559757e-07\n",
      "8.936641e-05\n",
      "1.7881396e-07\n",
      "5.4902055e-05\n",
      "8.3446515e-08\n",
      "5.960465e-08\n",
      "6.556512e-08\n",
      "2.9802322e-08\n",
      "2.9802322e-08\n",
      "5.9604646e-09\n",
      "3.814711e-07\n",
      "5.9604646e-09\n",
      "4.3511582e-07\n",
      "5.9604646e-09\n",
      "2.0034155e-05\n",
      "2.0861664e-07\n",
      "0.00013091699\n",
      "0.0\n",
      "0.0\n",
      "0.0008870716\n",
      "5.9604646e-09\n",
      "5.9604646e-09\n",
      "5.9604646e-09\n",
      "0.0\n",
      "0.0\n",
      "0.0\n",
      "2.8442466e-05\n",
      "0.0\n",
      "0.0\n",
      "0.0\n",
      "0.0\n",
      "0.0\n",
      "0.0\n",
      "0.0\n",
      "5.9604646e-09\n",
      "0.0\n",
      "1.192093e-08\n",
      "3.0697167e-06\n",
      "0.0\n",
      "0.0\n",
      "4.9472095e-07\n",
      "7.4928657e-06\n",
      "0.0\n",
      "0.02365501\n",
      "0.0\n",
      "0.0\n",
      "0.0\n",
      "8.642675e-08\n",
      "2.7120336e-06\n",
      "9.1330396e-05\n",
      "0.002220119\n",
      "0.01229555\n",
      "0.00028540942\n",
      "8.538615e-06\n",
      "4.6491692e-07\n",
      "5.662442e-08\n",
      "1.4901161e-08\n",
      "5.9604646e-09\n",
      "0.0\n",
      "0.0\n",
      "0.0\n",
      "5.9604646e-09\n",
      "5.9604646e-09\n",
      "0.0\n",
      "0.0\n",
      "5.9604646e-09\n",
      "0.0\n",
      "0.0\n",
      "0.0\n",
      "0.0\n",
      "0.0\n",
      "0.0\n",
      "0.0\n",
      "0.0\n",
      "0.0\n",
      "0.0\n",
      "2.2053766e-07\n",
      "0.0\n",
      "0.0\n",
      "0.0\n",
      "\n"
     ]
    },
    {
     "data": {
      "text/plain": [
       "[<matplotlib.lines.Line2D at 0x1363f3a90>]"
      ]
     },
     "execution_count": 74,
     "metadata": {},
     "output_type": "execute_result"
    },
    {
     "data": {
      "image/png": "[encoded data removed]",
      "text/plain": [
       "<Figure size 432x288 with 1 Axes>"
      ]
     },
     "metadata": {
      "needs_background": "light"
     },
     "output_type": "display_data"
    }
   ],
   "source": [
    "crit = nn.BCELoss()\n",
    "losses = []\n",
    "batch_num = 10\n",
    "for epoch in tqdm(range(100)):\n",
    "    X_batch_voice = voice_ds.load_next(batch_num, pbar=None)\n",
    "    X_batch_tone = generate_tones(sr, duration, np.linspace(500, 2000, batch_num))\n",
    "\n",
    "    X_batch = np.concatenate((X_batch_voice, X_batch_tone), axis=0)\n",
    "    Y_batch = np.concatenate((np.ones(X_batch_voice.shape[0]), np.zeros(X_batch_tone.shape[0])), axis=0)\n",
    "\n",
    "    X_batch = audios_to_spectrograms(X_batch, sr, normalize=True)\n",
    "    X_batch = torch.from_numpy(X_batch).to(device,dtype)[:,None, :, :]\n",
    "    Y_batch = torch.from_numpy(Y_batch).to(device,dtype)\n",
    "\n",
    "    \n",
    "    vrn.opt.zero_grad()\n",
    "    Y = vrn.forward(X_batch)[:, 0]\n",
    "    loss = crit(Y, Y_batch)\n",
    "    \n",
    "    loss.backward()\n",
    "    \n",
    "    vrn.opt.step()\n",
    "    \n",
    "    loss = loss.detach().cpu().numpy()\n",
    "    losses.append(loss)\n",
    "    print(loss)\n",
    "    \n",
    "plt.plot(np.arange(len(losses)), losses)"
   ]
  },
  {
   "cell_type": "code",
   "execution_count": 75,
   "metadata": {},
   "outputs": [
    {
     "name": "stdout",
     "output_type": "stream",
     "text": [
      "Accuracy:  1.0\n"
     ]
    }
   ],
   "source": [
    "tin = torch.from_numpy(X_test).to(device,dtype)[:,None, :, :]\n",
    "tout = vrn.forward(tin).detach().cpu().numpy()[:, 0]\n",
    "\n",
    "print('Accuracy: ', ((tout>0.5) == (Y_test>0.5)).sum()/len(Y_test))"
   ]
  },
  {
   "cell_type": "code",
   "execution_count": null,
   "metadata": {},
   "outputs": [],
   "source": []
  }
 ],
 "metadata": {
  "kernelspec": {
   "display_name": "Python 3",
   "language": "python",
   "name": "python3"
  },
  "language_info": {
   "codemirror_mode": {
    "name": "ipython",
    "version": 3
   },
   "file_extension": ".py",
   "mimetype": "text/x-python",
   "name": "python",
   "nbconvert_exporter": "python",
   "pygments_lexer": "ipython3",
   "version": "3.7.1"
  }
 },
 "nbformat": 4,
 "nbformat_minor": 4
}
