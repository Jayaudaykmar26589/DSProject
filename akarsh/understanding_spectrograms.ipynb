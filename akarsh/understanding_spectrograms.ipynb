{
 "cells": [
  {
   "cell_type": "code",
   "execution_count": 1,
   "metadata": {},
   "outputs": [
    {
     "name": "stdout",
     "output_type": "stream",
     "text": [
      "cpu\n"
     ]
    }
   ],
   "source": [
    "%matplotlib inline\n",
    "import matplotlib.pyplot as plt\n",
    "import numpy as np\n",
    "# from scipy import signal\n",
    "# from scipy.io import wavfile\n",
    "\n",
    "from tqdm.notebook import tqdm\n",
    "\n",
    "import librosa\n",
    "import librosa.display\n",
    "\n",
    "import torch\n",
    "import torch.nn as nn\n",
    "\n",
    "from common_audio import *\n",
    "from audio_dataset import *\n",
    "\n",
    "device = torch.device('cuda' if torch.cuda.is_available() else 'cpu')\n",
    "dtype = torch.float\n",
    "\n",
    "print(device)"
   ]
  },
  {
   "cell_type": "code",
   "execution_count": 2,
   "metadata": {},
   "outputs": [],
   "source": [
    "def generate_tones(sr, duration, freq, amplitude=None):\n",
    "    if amplitude is None:\n",
    "        amplitude = np.ones_like(freq)\n",
    "    freq, amplitude = freq[:, None], amplitude[:, None]\n",
    "    length = int(sr*duration)\n",
    "    full = np.tile(np.arange(length), (freq.shape[1], 1))\n",
    "    y = amplitude * np.sin(2*np.pi/sr * freq * full)\n",
    "    return y\n"
   ]
  },
  {
   "cell_type": "code",
   "execution_count": 62,
   "metadata": {},
   "outputs": [],
   "source": [
    "sr=10000\n",
    "duration=4.9\n",
    "y = generate_tones(sr, duration, np.array([1000]))[0]\n",
    "y +=generate_tones(sr, duration, np.array([2000]), np.array([0.5]))[0]"
   ]
  },
  {
   "cell_type": "code",
   "execution_count": 63,
   "metadata": {},
   "outputs": [
    {
     "data": {
      "image/png": "[encoded data removed]",
      "text/plain": [
       "<Figure size 432x288 with 1 Axes>"
      ]
     },
     "metadata": {
      "needs_background": "light"
     },
     "output_type": "display_data"
    }
   ],
   "source": [
    "y_f = np.abs(np.fft.fftn(y))\n",
    "\n",
    "T = 1/sr\n",
    "N = y_f.shape[0]\n",
    "\n",
    "left = -T*y_f.shape[0]/2\n",
    "right = T*y_f.shape[0]/2\n",
    "\n",
    "\n",
    "x_f = np.linspace(-1.0/(2.0*T), 1.0/(2.0*T), N) \n",
    "\n",
    "plt.plot(x_f, y_f)\n",
    "plt.show()"
   ]
  },
  {
   "cell_type": "code",
   "execution_count": 79,
   "metadata": {},
   "outputs": [
    {
     "data": {
      "text/plain": [
       "[<matplotlib.lines.Line2D at 0x14d128710>]"
      ]
     },
     "execution_count": 79,
     "metadata": {},
     "output_type": "execute_result"
    },
    {
     "data": {
      "image/png": "[encoded data removed]",
      "text/plain": [
       "<Figure size 432x288 with 1 Axes>"
      ]
     },
     "metadata": {
      "needs_background": "light"
     },
     "output_type": "display_data"
    }
   ],
   "source": [
    "# xf = np.linspace(0.0, sr/2, N//2) \n",
    "# plt.plot(xf, 2.0/N * y_f[0:N//2])\n",
    "\n",
    "xf = np.linspace(-sr/2, sr/2, N) \n",
    "plt.plot(xf[N//2:], 2.0/N * y_f[:N//2])\n",
    "plt.plot(xf[:N//2], 2.0/N * y_f[N//2:])\n"
   ]
  },
  {
   "cell_type": "code",
   "execution_count": null,
   "metadata": {},
   "outputs": [],
   "source": []
  }
 ],
 "metadata": {
  "kernelspec": {
   "display_name": "Python 3",
   "language": "python",
   "name": "python3"
  },
  "language_info": {
   "codemirror_mode": {
    "name": "ipython",
    "version": 3
   },
   "file_extension": ".py",
   "mimetype": "text/x-python",
   "name": "python",
   "nbconvert_exporter": "python",
   "pygments_lexer": "ipython3",
   "version": "3.6.7"
  }
 },
 "nbformat": 4,
 "nbformat_minor": 4
}
