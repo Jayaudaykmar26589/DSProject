{
 "cells": [
  {
   "cell_type": "code",
   "execution_count": 21,
   "metadata": {},
   "outputs": [
    {
     "name": "stdout",
     "output_type": "stream",
     "text": [
      "cpu\n"
     ]
    }
   ],
   "source": [
    "%matplotlib inline\n",
    "import matplotlib.pyplot as plt\n",
    "import numpy as np\n",
    "# from scipy import signal\n",
    "# from scipy.io import wavfile\n",
    "\n",
    "from tqdm.notebook import tqdm\n",
    "\n",
    "import librosa\n",
    "import librosa.display\n",
    "\n",
    "import torch\n",
    "import torch.nn as nn\n",
    "\n",
    "from common_audio import *\n",
    "\n",
    "device = torch.device('cuda' if torch.cuda.is_available() else 'cpu')\n",
    "dtype = torch.float\n",
    "\n",
    "print(device)"
   ]
  },
  {
   "cell_type": "code",
   "execution_count": null,
   "metadata": {},
   "outputs": [],
   "source": []
  },
  {
   "cell_type": "code",
   "execution_count": null,
   "metadata": {},
   "outputs": [],
   "source": []
  },
  {
   "cell_type": "code",
   "execution_count": null,
   "metadata": {},
   "outputs": [],
   "source": []
  },
  {
   "cell_type": "code",
   "execution_count": null,
   "metadata": {},
   "outputs": [],
   "source": []
  },
  {
   "cell_type": "code",
   "execution_count": null,
   "metadata": {},
   "outputs": [],
   "source": []
  },
  {
   "cell_type": "code",
   "execution_count": 73,
   "metadata": {},
   "outputs": [],
   "source": []
  },
  {
   "cell_type": "code",
   "execution_count": null,
   "metadata": {},
   "outputs": [],
   "source": [
    "    \n",
    "\n",
    "voice_ds = AudioDataSet('datasets/LibriSpeech/LibriSpeech/dev-clean', sr=8000, duration=4.9)\n",
    "# ads = AudioDataSet('datasets/urban/UrbanSound8K/audio')\n"
   ]
  },
  {
   "cell_type": "code",
   "execution_count": 5,
   "metadata": {},
   "outputs": [],
   "source": [
    "X_voice_test = load_voice_batch(100)\n",
    "X_noise_test = load_noise_batch(100)"
   ]
  },
  {
   "cell_type": "code",
   "execution_count": 6,
   "metadata": {},
   "outputs": [],
   "source": [
    "Y_voice_test = np.ones(X_voice_test.shape[0])\n",
    "Y_noise_test = np.zeros(X_noise_test.shape[0])\n",
    "\n",
    "X_test = np.concatenate((X_voice_test, X_noise_test), axis=0)\n",
    "Y_test = np.concatenate((Y_voice_test, Y_noise_test), axis=0)\n",
    "\n",
    "X_test = audios_to_spectrograms(X_test, sr)[:, None, :, :]\n",
    "\n",
    "X_test = torch.from_numpy(X_test).to(device, dtype)\n",
    "Y_test = torch.from_numpy(Y_test).to(device, dtype)"
   ]
  },
  {
   "cell_type": "code",
   "execution_count": 7,
   "metadata": {},
   "outputs": [],
   "source": [
    "X_test2 = audios_to_spectrograms(X_voice_test[:1] + X_noise_test[:1], sr)[:, None, :, :]\n",
    "Y_test2 = audios_to_spectrograms(X_voice_test[:1], sr)[:, None, :, :]\n",
    "\n",
    "X_test2 = torch.from_numpy(X_test2).to(device, dtype)\n",
    "Y_test2 = torch.from_numpy(Y_test2).to(device, dtype)"
   ]
  },
  {
   "cell_type": "code",
   "execution_count": null,
   "metadata": {},
   "outputs": [],
   "source": []
  },
  {
   "cell_type": "code",
   "execution_count": null,
   "metadata": {},
   "outputs": [],
   "source": [
    "class VoiceRecogNet(nn.Module):\n",
    "    def __init__(self):\n",
    "        super(VoiceRecogNet, self).__init__()\n",
    "        self.maxpool = nn.MaxPool2d((2,2))\n",
    "        self.conv1 = nn.Conv2d(1, 4, 3, padding=1)\n",
    "        self.conv2 = nn.Conv2d(4, 16, 3, padding=1)\n",
    "        self.conv3 = nn.Conv2d(16, 64, 3, padding=1)\n",
    "        self.linear = nn.Linear(12288, 100)\n",
    "        self.linear2 = nn.Linear(100, 10)\n",
    "        self.linear3 = nn.Linear(10, 1)\n",
    "        \n",
    "        self.opt = torch.optim.Adam(self.parameters(), lr=0.001)\n",
    "    \n",
    "    def forward(self, x):\n",
    "\n",
    "        x = self.conv1(x)\n",
    "        x = self.maxpool(x)\n",
    "        x = torch.tanh(x)\n",
    "\n",
    "        x = self.conv2(x)\n",
    "        x = self.maxpool(x)\n",
    "        x = torch.tanh(x)\n",
    "\n",
    "        x = self.conv3(x)\n",
    "        x = self.maxpool(x)\n",
    "        x = torch.tanh(x)\n",
    "        \n",
    "        x = x.view(x.shape[0], -1)\n",
    "        \n",
    "        x = self.linear(x)\n",
    "        x = torch.relu(x)\n",
    "        \n",
    "        x = self.linear2(x)\n",
    "        x = torch.relu(x)\n",
    "        \n",
    "        x = self.linear3(x)\n",
    "        x = torch.sigmoid(x)\n",
    "        \n",
    "        return x\n",
    "    \n",
    "vrn = VoiceRecogNet().to(device)"
   ]
  },
  {
   "cell_type": "code",
   "execution_count": null,
   "metadata": {},
   "outputs": [],
   "source": [
    "crit = nn.BCELoss()\n",
    "\n",
    "Y_test_pred = vrn.forward(X_test)[:, 0]\n",
    "print('BSE: ', crit(Y_test_pred, Y_test))\n",
    "\n",
    "Y_test_pred_ = Y_test_pred.detach().cpu().numpy()\n",
    "Y_test_ = Y_test.detach().cpu().numpy()\n",
    "\n",
    "accuracy = ((Y_test_pred_>0.5) == (Y_test_>0.5)).sum()/len(Y_test)\n",
    "print('accuracy: ', accuracy)\n",
    "\n",
    "\n",
    "del Y_test_pred_\n",
    "del Y_test_\n"
   ]
  },
  {
   "cell_type": "code",
   "execution_count": null,
   "metadata": {
    "scrolled": true
   },
   "outputs": [],
   "source": [
    "crit = nn.BCELoss()\n",
    "losses = []\n",
    "batch_num = 5\n",
    "for epoch in tqdm(range(100)):\n",
    "    X_voice_batch = load_voice_batch(batch_num)\n",
    "    X_noise_batch = load_noise_batch(batch_num)\n",
    "    Y_voice_batch = np.ones(X_voice_batch.shape[0])\n",
    "    Y_noise_batch = np.zeros(X_noise_batch.shape[0])\n",
    "    \n",
    "    X_batch = np.concatenate((X_voice_batch, X_noise_batch), axis=0)\n",
    "    Y_batch = np.concatenate((Y_voice_batch, Y_noise_batch), axis=0)\n",
    "    \n",
    "    X_batch = audios_to_spectrograms(X_batch, sr)[:, None, :, :]\n",
    "    \n",
    "    X_batch = torch.from_numpy(X_batch).to(device, dtype)\n",
    "    Y_batch = torch.from_numpy(Y_batch).to(device, dtype)\n",
    "    \n",
    "    \n",
    "    vrn.opt.zero_grad()\n",
    "    Y = vrn.forward(X_batch)[:, 0]\n",
    "    loss = crit(Y, Y_batch)\n",
    "    \n",
    "    loss.backward()\n",
    "    \n",
    "    vrn.opt.step()\n",
    "    \n",
    "    losses.append(loss.detach().cpu().numpy())\n",
    "    print(loss.detach().cpu().numpy())\n",
    "    \n",
    "plt.plot(np.arange(len(losses)), losses)"
   ]
  },
  {
   "cell_type": "code",
   "execution_count": null,
   "metadata": {},
   "outputs": [],
   "source": [
    "crit = nn.BCELoss()\n",
    "\n",
    "Y_test_pred = vrn.forward(X_test)[:, 0]\n",
    "print('BSE: ', crit(Y_test_pred, Y_test))\n",
    "\n",
    "Y_test_pred_ = Y_test_pred.detach().cpu().numpy()\n",
    "Y_test_ = Y_test.detach().cpu().numpy()\n",
    "\n",
    "accuracy = ((Y_test_pred_>0.5) == (Y_test_>0.5)).sum()/len(Y_test)\n",
    "print('accuracy: ', accuracy)\n",
    "\n",
    "\n",
    "del Y_test_pred_\n",
    "del Y_test_\n"
   ]
  },
  {
   "cell_type": "code",
   "execution_count": null,
   "metadata": {},
   "outputs": [],
   "source": []
  },
  {
   "cell_type": "code",
   "execution_count": 8,
   "metadata": {},
   "outputs": [],
   "source": [
    "class VoiceIsolaterNet(nn.Module):\n",
    "    def __init__(self):\n",
    "        super(VoiceIsolaterNet, self).__init__()\n",
    "        self.maxpool = nn.MaxPool2d((2,2), return_indices=True)\n",
    "        self.maxunpool = nn.MaxUnpool2d((2,2))\n",
    "        self.conv1 = nn.Conv2d(1, 4, 3, padding=1)\n",
    "        self.conv2 = nn.Conv2d(4, 16, 3, padding=1)\n",
    "        self.conv3 = nn.Conv2d(16, 64, 3, padding=1)\n",
    "        \n",
    "        self.linear1 = nn.Linear(12288, 100)\n",
    "        self.linear2 = nn.Linear(100, 12288)\n",
    "        \n",
    "        self.convt1 = nn.ConvTranspose2d(64, 16, 3, padding=1)\n",
    "        self.convt2 = nn.ConvTranspose2d(16, 4, 3, padding=1)\n",
    "        self.convt3 = nn.ConvTranspose2d(4, 1, 3, padding=1)\n",
    "        \n",
    "        self.opt = torch.optim.Adam(self.parameters(), lr=0.001)\n",
    "    \n",
    "    def forward(self, x):\n",
    "\n",
    "        x = self.conv1(x)\n",
    "        x, ind1 = self.maxpool(x)\n",
    "        x = torch.tanh(x)\n",
    "\n",
    "        x = self.conv2(x)\n",
    "        x, ind2 = self.maxpool(x)\n",
    "        x = torch.tanh(x)\n",
    "\n",
    "        x = self.conv3(x)\n",
    "        x, ind3 = self.maxpool(x)\n",
    "        x = torch.tanh(x)\n",
    "        \n",
    "        sh = x.shape\n",
    "        y = x.view(x.shape[0], -1)\n",
    "        y = self.linear1(y)\n",
    "        y = torch.relu(y)\n",
    "        \n",
    "        y = self.linear2(y)\n",
    "        y = torch.relu(y)\n",
    "        \n",
    "        y = y.view(sh)\n",
    "        \n",
    "        \n",
    "        x = x+y\n",
    "        x = self.maxunpool(x, ind3)\n",
    "        x = self.convt1(x)\n",
    "        x = torch.tanh(x)\n",
    "        \n",
    "        x = self.maxunpool(x, ind2)        \n",
    "        x = self.convt2(x)\n",
    "        x = torch.tanh(x)\n",
    "        \n",
    "        x = self.maxunpool(x, ind1)\n",
    "        x = self.convt3(x)\n",
    "        x = torch.tanh(x)\n",
    "        \n",
    "        return x\n",
    "    \n",
    "vin = VoiceIsolaterNet().to(device)"
   ]
  },
  {
   "cell_type": "code",
   "execution_count": 9,
   "metadata": {},
   "outputs": [
    {
     "data": {
      "text/html": [
       "\n",
       "                <audio  controls=\"controls\" >\n",
       "                    <source src=\"data:audio/wav;base64,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\" type=\"audio/wav\" />\n",
       "                    Your browser does not support the audio element.\n",
       "                </audio>\n",
       "              "
      ],
      "text/plain": [
       "<IPython.lib.display.Audio object>"
      ]
     },
     "metadata": {},
     "output_type": "display_data"
    },
    {
     "data": {
      "image/png": "[encoded data removed]",
      "text/plain": [
       "<Figure size 720x288 with 2 Axes>"
      ]
     },
     "metadata": {
      "needs_background": "light"
     },
     "output_type": "display_data"
    }
   ],
   "source": [
    "Y_pred = vin.forward(X_test2)[0,0].detach().cpu().numpy()\n",
    "\n",
    "show_spectrogram(Y_pred, sr)\n",
    "play_audio(spectrogram_to_audio(Y_pred, sr), sr)"
   ]
  },
  {
   "cell_type": "code",
   "execution_count": 19,
   "metadata": {},
   "outputs": [
    {
     "name": "stderr",
     "output_type": "stream",
     "text": [
      "\n",
      "  0%|          | 0/500 [00:00<?, ?it/s]\u001b[A\n",
      "  0%|          | 1/500 [00:02<22:43,  2.73s/it]\u001b[A"
     ]
    },
    {
     "name": "stdout",
     "output_type": "stream",
     "text": [
      "0.07712539\n"
     ]
    },
    {
     "name": "stderr",
     "output_type": "stream",
     "text": [
      "\n",
      "  0%|          | 2/500 [00:04<20:11,  2.43s/it]\u001b[A"
     ]
    },
    {
     "name": "stdout",
     "output_type": "stream",
     "text": [
      "0.08197549\n"
     ]
    },
    {
     "name": "stderr",
     "output_type": "stream",
     "text": [
      "\n",
      "  1%|          | 3/500 [00:06<19:07,  2.31s/it]\u001b[A"
     ]
    },
    {
     "name": "stdout",
     "output_type": "stream",
     "text": [
      "0.10562257\n"
     ]
    },
    {
     "name": "stderr",
     "output_type": "stream",
     "text": [
      "\n",
      "  1%|          | 4/500 [00:08<17:16,  2.09s/it]\u001b[A"
     ]
    },
    {
     "name": "stdout",
     "output_type": "stream",
     "text": [
      "0.1754962\n"
     ]
    },
    {
     "name": "stderr",
     "output_type": "stream",
     "text": [
      "\n",
      "  1%|          | 5/500 [00:09<15:06,  1.83s/it]\u001b[A"
     ]
    },
    {
     "name": "stdout",
     "output_type": "stream",
     "text": [
      "0.09833839\n"
     ]
    },
    {
     "name": "stderr",
     "output_type": "stream",
     "text": [
      "\n",
      "  1%|          | 6/500 [00:10<14:01,  1.70s/it]\u001b[A"
     ]
    },
    {
     "name": "stdout",
     "output_type": "stream",
     "text": [
      "0.11707321\n"
     ]
    },
    {
     "name": "stderr",
     "output_type": "stream",
     "text": [
      "\n",
      "  1%|▏         | 7/500 [00:11<12:48,  1.56s/it]\u001b[A"
     ]
    },
    {
     "name": "stdout",
     "output_type": "stream",
     "text": [
      "0.086125016\n"
     ]
    },
    {
     "name": "stderr",
     "output_type": "stream",
     "text": [
      "\n",
      "  2%|▏         | 8/500 [00:13<12:18,  1.50s/it]\u001b[A"
     ]
    },
    {
     "name": "stdout",
     "output_type": "stream",
     "text": [
      "0.10904036\n"
     ]
    },
    {
     "name": "stderr",
     "output_type": "stream",
     "text": [
      "\n",
      "  2%|▏         | 9/500 [00:15<13:25,  1.64s/it]\u001b[A"
     ]
    },
    {
     "name": "stdout",
     "output_type": "stream",
     "text": [
      "0.10177757\n"
     ]
    },
    {
     "name": "stderr",
     "output_type": "stream",
     "text": [
      "\n",
      "  2%|▏         | 10/500 [00:16<13:09,  1.61s/it]\u001b[A"
     ]
    },
    {
     "name": "stdout",
     "output_type": "stream",
     "text": [
      "0.10642029\n"
     ]
    },
    {
     "name": "stderr",
     "output_type": "stream",
     "text": [
      "\n",
      "  2%|▏         | 11/500 [00:18<12:34,  1.54s/it]\u001b[A"
     ]
    },
    {
     "name": "stdout",
     "output_type": "stream",
     "text": [
      "0.104496166\n"
     ]
    },
    {
     "name": "stderr",
     "output_type": "stream",
     "text": [
      "\n",
      "  2%|▏         | 12/500 [00:19<12:56,  1.59s/it]\u001b[A"
     ]
    },
    {
     "name": "stdout",
     "output_type": "stream",
     "text": [
      "0.088683076\n"
     ]
    },
    {
     "name": "stderr",
     "output_type": "stream",
     "text": [
      "\n",
      "  3%|▎         | 13/500 [00:21<13:35,  1.67s/it]\u001b[A"
     ]
    },
    {
     "name": "stdout",
     "output_type": "stream",
     "text": [
      "0.091221236\n"
     ]
    },
    {
     "name": "stderr",
     "output_type": "stream",
     "text": [
      "\n",
      "  3%|▎         | 14/500 [00:23<13:56,  1.72s/it]\u001b[A"
     ]
    },
    {
     "name": "stdout",
     "output_type": "stream",
     "text": [
      "0.093607076\n"
     ]
    },
    {
     "name": "stderr",
     "output_type": "stream",
     "text": [
      "\n",
      "  3%|▎         | 15/500 [00:25<14:27,  1.79s/it]\u001b[A"
     ]
    },
    {
     "name": "stdout",
     "output_type": "stream",
     "text": [
      "0.099697836\n"
     ]
    },
    {
     "name": "stderr",
     "output_type": "stream",
     "text": [
      "\n",
      "  3%|▎         | 16/500 [00:27<14:05,  1.75s/it]\u001b[A"
     ]
    },
    {
     "name": "stdout",
     "output_type": "stream",
     "text": [
      "0.11526404\n"
     ]
    },
    {
     "name": "stderr",
     "output_type": "stream",
     "text": [
      "\n",
      "  3%|▎         | 17/500 [00:28<14:04,  1.75s/it]\u001b[A"
     ]
    },
    {
     "name": "stdout",
     "output_type": "stream",
     "text": [
      "0.14059502\n"
     ]
    },
    {
     "name": "stderr",
     "output_type": "stream",
     "text": [
      "\n",
      "  4%|▎         | 18/500 [00:30<14:22,  1.79s/it]\u001b[A"
     ]
    },
    {
     "name": "stdout",
     "output_type": "stream",
     "text": [
      "0.11067058\n"
     ]
    },
    {
     "name": "stderr",
     "output_type": "stream",
     "text": [
      "\n",
      "  4%|▍         | 19/500 [00:32<14:09,  1.77s/it]\u001b[A"
     ]
    },
    {
     "name": "stdout",
     "output_type": "stream",
     "text": [
      "0.096273564\n"
     ]
    },
    {
     "name": "stderr",
     "output_type": "stream",
     "text": [
      "\n",
      "  4%|▍         | 20/500 [00:34<14:01,  1.75s/it]\u001b[A"
     ]
    },
    {
     "name": "stdout",
     "output_type": "stream",
     "text": [
      "0.111506544\n"
     ]
    },
    {
     "name": "stderr",
     "output_type": "stream",
     "text": [
      "\n",
      "  4%|▍         | 21/500 [00:35<13:19,  1.67s/it]\u001b[A"
     ]
    },
    {
     "name": "stdout",
     "output_type": "stream",
     "text": [
      "0.118251085\n"
     ]
    },
    {
     "name": "stderr",
     "output_type": "stream",
     "text": [
      "\n",
      "  4%|▍         | 22/500 [00:37<13:30,  1.69s/it]\u001b[A"
     ]
    },
    {
     "name": "stdout",
     "output_type": "stream",
     "text": [
      "0.123633035\n"
     ]
    },
    {
     "name": "stderr",
     "output_type": "stream",
     "text": [
      "\n",
      "  5%|▍         | 23/500 [00:39<13:41,  1.72s/it]\u001b[A"
     ]
    },
    {
     "name": "stdout",
     "output_type": "stream",
     "text": [
      "0.13435729\n"
     ]
    },
    {
     "name": "stderr",
     "output_type": "stream",
     "text": [
      "\n",
      "  5%|▍         | 24/500 [00:41<13:45,  1.73s/it]\u001b[A"
     ]
    },
    {
     "name": "stdout",
     "output_type": "stream",
     "text": [
      "0.16362207\n"
     ]
    },
    {
     "name": "stderr",
     "output_type": "stream",
     "text": [
      "\n",
      "  5%|▌         | 25/500 [00:43<14:22,  1.82s/it]\u001b[A"
     ]
    },
    {
     "name": "stdout",
     "output_type": "stream",
     "text": [
      "0.12006011\n"
     ]
    },
    {
     "name": "stderr",
     "output_type": "stream",
     "text": [
      "\n",
      "  5%|▌         | 26/500 [00:44<13:43,  1.74s/it]\u001b[A"
     ]
    },
    {
     "name": "stdout",
     "output_type": "stream",
     "text": [
      "0.095200375\n"
     ]
    },
    {
     "name": "stderr",
     "output_type": "stream",
     "text": [
      "\n",
      "  5%|▌         | 27/500 [00:46<14:03,  1.78s/it]\u001b[A"
     ]
    },
    {
     "name": "stdout",
     "output_type": "stream",
     "text": [
      "0.104267076\n"
     ]
    },
    {
     "name": "stderr",
     "output_type": "stream",
     "text": [
      "\n",
      "  6%|▌         | 28/500 [00:48<13:50,  1.76s/it]\u001b[A"
     ]
    },
    {
     "name": "stdout",
     "output_type": "stream",
     "text": [
      "0.110975645\n"
     ]
    },
    {
     "name": "stderr",
     "output_type": "stream",
     "text": [
      "\n",
      "  6%|▌         | 29/500 [00:49<13:56,  1.78s/it]\u001b[A"
     ]
    },
    {
     "name": "stdout",
     "output_type": "stream",
     "text": [
      "0.09852481\n"
     ]
    },
    {
     "name": "stderr",
     "output_type": "stream",
     "text": [
      "\n",
      "  6%|▌         | 30/500 [00:51<14:05,  1.80s/it]\u001b[A"
     ]
    },
    {
     "name": "stdout",
     "output_type": "stream",
     "text": [
      "0.12271097\n"
     ]
    },
    {
     "name": "stderr",
     "output_type": "stream",
     "text": [
      "\n",
      "  6%|▌         | 31/500 [00:53<13:34,  1.74s/it]\u001b[A"
     ]
    },
    {
     "name": "stdout",
     "output_type": "stream",
     "text": [
      "0.13480856\n"
     ]
    },
    {
     "name": "stderr",
     "output_type": "stream",
     "text": [
      "\n",
      "  6%|▋         | 32/500 [00:55<13:35,  1.74s/it]\u001b[A"
     ]
    },
    {
     "name": "stdout",
     "output_type": "stream",
     "text": [
      "0.10671453\n"
     ]
    },
    {
     "name": "stderr",
     "output_type": "stream",
     "text": [
      "\n",
      "  7%|▋         | 33/500 [00:56<13:13,  1.70s/it]\u001b[A"
     ]
    },
    {
     "name": "stdout",
     "output_type": "stream",
     "text": [
      "0.11547418\n"
     ]
    },
    {
     "name": "stderr",
     "output_type": "stream",
     "text": [
      "\n",
      "  7%|▋         | 34/500 [00:58<13:30,  1.74s/it]\u001b[A"
     ]
    },
    {
     "name": "stdout",
     "output_type": "stream",
     "text": [
      "0.10452244\n"
     ]
    },
    {
     "name": "stderr",
     "output_type": "stream",
     "text": [
      "\n",
      "  7%|▋         | 35/500 [01:00<13:09,  1.70s/it]\u001b[A"
     ]
    },
    {
     "name": "stdout",
     "output_type": "stream",
     "text": [
      "0.105457656\n"
     ]
    },
    {
     "name": "stderr",
     "output_type": "stream",
     "text": [
      "\n",
      "  7%|▋         | 36/500 [01:02<13:24,  1.73s/it]\u001b[A"
     ]
    },
    {
     "name": "stdout",
     "output_type": "stream",
     "text": [
      "0.11490677\n"
     ]
    },
    {
     "name": "stderr",
     "output_type": "stream",
     "text": [
      "\n",
      "  7%|▋         | 37/500 [01:04<13:54,  1.80s/it]\u001b[A"
     ]
    },
    {
     "name": "stdout",
     "output_type": "stream",
     "text": [
      "0.13679408\n"
     ]
    },
    {
     "name": "stderr",
     "output_type": "stream",
     "text": [
      "\n",
      "  8%|▊         | 38/500 [01:06<14:27,  1.88s/it]\u001b[A"
     ]
    },
    {
     "name": "stdout",
     "output_type": "stream",
     "text": [
      "0.13429374\n"
     ]
    },
    {
     "name": "stderr",
     "output_type": "stream",
     "text": [
      "\n",
      "  8%|▊         | 39/500 [01:08<16:08,  2.10s/it]\u001b[A"
     ]
    },
    {
     "name": "stdout",
     "output_type": "stream",
     "text": [
      "0.10109691\n"
     ]
    },
    {
     "name": "stderr",
     "output_type": "stream",
     "text": [
      "\n",
      "  8%|▊         | 40/500 [01:10<14:54,  1.94s/it]\u001b[A"
     ]
    },
    {
     "name": "stdout",
     "output_type": "stream",
     "text": [
      "0.09715576\n"
     ]
    },
    {
     "name": "stderr",
     "output_type": "stream",
     "text": [
      "\n",
      "  8%|▊         | 41/500 [01:12<15:05,  1.97s/it]\u001b[A"
     ]
    },
    {
     "name": "stdout",
     "output_type": "stream",
     "text": [
      "0.13040668\n"
     ]
    },
    {
     "name": "stderr",
     "output_type": "stream",
     "text": [
      "\n",
      "  8%|▊         | 42/500 [01:13<14:08,  1.85s/it]\u001b[A"
     ]
    },
    {
     "name": "stdout",
     "output_type": "stream",
     "text": [
      "0.11442946\n"
     ]
    },
    {
     "name": "stderr",
     "output_type": "stream",
     "text": [
      "\n",
      "  9%|▊         | 43/500 [01:15<13:06,  1.72s/it]\u001b[A"
     ]
    },
    {
     "name": "stdout",
     "output_type": "stream",
     "text": [
      "0.115191065\n"
     ]
    },
    {
     "name": "stderr",
     "output_type": "stream",
     "text": [
      "\n",
      "  9%|▉         | 44/500 [01:16<12:07,  1.60s/it]\u001b[A"
     ]
    },
    {
     "name": "stdout",
     "output_type": "stream",
     "text": [
      "0.09423304\n"
     ]
    },
    {
     "name": "stderr",
     "output_type": "stream",
     "text": [
      "\n",
      "  9%|▉         | 45/500 [01:17<11:40,  1.54s/it]\u001b[A"
     ]
    },
    {
     "name": "stdout",
     "output_type": "stream",
     "text": [
      "0.10948798\n"
     ]
    },
    {
     "name": "stderr",
     "output_type": "stream",
     "text": [
      "\n",
      "  9%|▉         | 46/500 [01:19<11:40,  1.54s/it]\u001b[A"
     ]
    },
    {
     "name": "stdout",
     "output_type": "stream",
     "text": [
      "0.12277423\n"
     ]
    },
    {
     "name": "stderr",
     "output_type": "stream",
     "text": [
      "\n",
      "  9%|▉         | 47/500 [01:20<10:59,  1.46s/it]\u001b[A"
     ]
    },
    {
     "name": "stdout",
     "output_type": "stream",
     "text": [
      "0.1275407\n"
     ]
    },
    {
     "name": "stderr",
     "output_type": "stream",
     "text": [
      "\n",
      " 10%|▉         | 48/500 [01:22<10:53,  1.44s/it]\u001b[A"
     ]
    },
    {
     "name": "stdout",
     "output_type": "stream",
     "text": [
      "0.14242302\n"
     ]
    },
    {
     "name": "stderr",
     "output_type": "stream",
     "text": [
      "\n",
      " 10%|▉         | 49/500 [01:23<10:29,  1.40s/it]\u001b[A"
     ]
    },
    {
     "name": "stdout",
     "output_type": "stream",
     "text": [
      "0.15243737\n"
     ]
    },
    {
     "name": "stderr",
     "output_type": "stream",
     "text": [
      "\n",
      " 10%|█         | 50/500 [01:25<10:59,  1.46s/it]\u001b[A"
     ]
    },
    {
     "name": "stdout",
     "output_type": "stream",
     "text": [
      "0.13120383\n"
     ]
    },
    {
     "name": "stderr",
     "output_type": "stream",
     "text": [
      "\n",
      " 10%|█         | 51/500 [01:26<10:53,  1.45s/it]\u001b[A"
     ]
    },
    {
     "name": "stdout",
     "output_type": "stream",
     "text": [
      "0.10730388\n"
     ]
    },
    {
     "name": "stderr",
     "output_type": "stream",
     "text": [
      "\n",
      " 10%|█         | 52/500 [01:27<10:39,  1.43s/it]\u001b[A"
     ]
    },
    {
     "name": "stdout",
     "output_type": "stream",
     "text": [
      "0.12055978\n"
     ]
    },
    {
     "name": "stderr",
     "output_type": "stream",
     "text": [
      "\n",
      " 11%|█         | 53/500 [01:29<11:06,  1.49s/it]\u001b[A"
     ]
    },
    {
     "name": "stdout",
     "output_type": "stream",
     "text": [
      "0.0779311\n"
     ]
    },
    {
     "name": "stderr",
     "output_type": "stream",
     "text": [
      "\n",
      " 11%|█         | 54/500 [01:31<11:03,  1.49s/it]\u001b[A"
     ]
    },
    {
     "name": "stdout",
     "output_type": "stream",
     "text": [
      "0.10353483\n"
     ]
    },
    {
     "name": "stderr",
     "output_type": "stream",
     "text": [
      "\n",
      " 11%|█         | 55/500 [01:32<10:48,  1.46s/it]\u001b[A"
     ]
    },
    {
     "name": "stdout",
     "output_type": "stream",
     "text": [
      "0.15155801\n"
     ]
    },
    {
     "name": "stderr",
     "output_type": "stream",
     "text": [
      "\n",
      " 11%|█         | 56/500 [01:33<10:35,  1.43s/it]\u001b[A"
     ]
    },
    {
     "name": "stdout",
     "output_type": "stream",
     "text": [
      "0.12881272\n"
     ]
    },
    {
     "name": "stderr",
     "output_type": "stream",
     "text": [
      "\n",
      " 11%|█▏        | 57/500 [01:35<11:11,  1.52s/it]\u001b[A"
     ]
    },
    {
     "name": "stdout",
     "output_type": "stream",
     "text": [
      "0.10706616\n"
     ]
    },
    {
     "name": "stderr",
     "output_type": "stream",
     "text": [
      "\n",
      " 12%|█▏        | 58/500 [01:36<10:34,  1.44s/it]\u001b[A"
     ]
    },
    {
     "name": "stdout",
     "output_type": "stream",
     "text": [
      "0.12778229\n"
     ]
    },
    {
     "name": "stderr",
     "output_type": "stream",
     "text": [
      "\n",
      " 12%|█▏        | 59/500 [01:38<10:44,  1.46s/it]\u001b[A"
     ]
    },
    {
     "name": "stdout",
     "output_type": "stream",
     "text": [
      "0.12191753\n"
     ]
    },
    {
     "name": "stderr",
     "output_type": "stream",
     "text": [
      "\n",
      " 12%|█▏        | 60/500 [01:39<10:58,  1.50s/it]\u001b[A"
     ]
    },
    {
     "name": "stdout",
     "output_type": "stream",
     "text": [
      "0.112728216\n"
     ]
    },
    {
     "name": "stderr",
     "output_type": "stream",
     "text": [
      "\n",
      " 12%|█▏        | 61/500 [01:41<10:20,  1.41s/it]\u001b[A"
     ]
    },
    {
     "name": "stdout",
     "output_type": "stream",
     "text": [
      "0.11932543\n"
     ]
    },
    {
     "name": "stderr",
     "output_type": "stream",
     "text": [
      "\n",
      " 12%|█▏        | 62/500 [01:42<10:45,  1.47s/it]\u001b[A"
     ]
    },
    {
     "name": "stdout",
     "output_type": "stream",
     "text": [
      "0.10679822\n"
     ]
    },
    {
     "name": "stderr",
     "output_type": "stream",
     "text": [
      "\n",
      " 13%|█▎        | 63/500 [01:44<10:40,  1.47s/it]\u001b[A"
     ]
    },
    {
     "name": "stdout",
     "output_type": "stream",
     "text": [
      "0.10173259\n"
     ]
    },
    {
     "name": "stderr",
     "output_type": "stream",
     "text": [
      "\n",
      " 13%|█▎        | 64/500 [01:45<10:39,  1.47s/it]\u001b[A"
     ]
    },
    {
     "name": "stdout",
     "output_type": "stream",
     "text": [
      "0.099659\n"
     ]
    },
    {
     "name": "stderr",
     "output_type": "stream",
     "text": [
      "\n",
      " 13%|█▎        | 65/500 [01:47<11:20,  1.56s/it]\u001b[A"
     ]
    },
    {
     "name": "stdout",
     "output_type": "stream",
     "text": [
      "0.10310357\n"
     ]
    },
    {
     "name": "stderr",
     "output_type": "stream",
     "text": [
      "\n",
      " 13%|█▎        | 66/500 [01:49<12:13,  1.69s/it]\u001b[A"
     ]
    },
    {
     "name": "stdout",
     "output_type": "stream",
     "text": [
      "0.0845457\n"
     ]
    },
    {
     "name": "stderr",
     "output_type": "stream",
     "text": [
      "\n",
      " 13%|█▎        | 67/500 [01:51<12:35,  1.75s/it]\u001b[A"
     ]
    },
    {
     "name": "stdout",
     "output_type": "stream",
     "text": [
      "0.123436384\n"
     ]
    },
    {
     "name": "stderr",
     "output_type": "stream",
     "text": [
      "\n",
      " 14%|█▎        | 68/500 [01:53<12:46,  1.77s/it]\u001b[A"
     ]
    },
    {
     "name": "stdout",
     "output_type": "stream",
     "text": [
      "0.12664148\n"
     ]
    },
    {
     "name": "stderr",
     "output_type": "stream",
     "text": [
      "\n",
      " 14%|█▍        | 69/500 [01:55<13:02,  1.81s/it]\u001b[A"
     ]
    },
    {
     "name": "stdout",
     "output_type": "stream",
     "text": [
      "0.07258376\n"
     ]
    },
    {
     "name": "stderr",
     "output_type": "stream",
     "text": [
      "\n",
      " 14%|█▍        | 70/500 [01:56<13:18,  1.86s/it]\u001b[A"
     ]
    },
    {
     "name": "stdout",
     "output_type": "stream",
     "text": [
      "0.10262804\n"
     ]
    },
    {
     "name": "stderr",
     "output_type": "stream",
     "text": [
      "\n",
      " 14%|█▍        | 71/500 [01:58<13:03,  1.83s/it]\u001b[A"
     ]
    },
    {
     "name": "stdout",
     "output_type": "stream",
     "text": [
      "0.123347655\n"
     ]
    },
    {
     "name": "stderr",
     "output_type": "stream",
     "text": [
      "\n",
      " 14%|█▍        | 72/500 [02:00<12:48,  1.80s/it]\u001b[A"
     ]
    },
    {
     "name": "stdout",
     "output_type": "stream",
     "text": [
      "0.12209166\n"
     ]
    },
    {
     "name": "stderr",
     "output_type": "stream",
     "text": [
      "\n",
      " 15%|█▍        | 73/500 [02:02<12:20,  1.73s/it]\u001b[A"
     ]
    },
    {
     "name": "stdout",
     "output_type": "stream",
     "text": [
      "0.10673427\n"
     ]
    },
    {
     "name": "stderr",
     "output_type": "stream",
     "text": [
      "\n",
      " 15%|█▍        | 74/500 [02:03<12:17,  1.73s/it]\u001b[A"
     ]
    },
    {
     "name": "stdout",
     "output_type": "stream",
     "text": [
      "0.088229924\n"
     ]
    },
    {
     "name": "stderr",
     "output_type": "stream",
     "text": [
      "\n",
      " 15%|█▌        | 75/500 [02:05<12:14,  1.73s/it]\u001b[A"
     ]
    },
    {
     "name": "stdout",
     "output_type": "stream",
     "text": [
      "0.09382209\n"
     ]
    },
    {
     "name": "stderr",
     "output_type": "stream",
     "text": [
      "\n",
      " 15%|█▌        | 76/500 [02:06<11:27,  1.62s/it]\u001b[A"
     ]
    },
    {
     "name": "stdout",
     "output_type": "stream",
     "text": [
      "0.106135145\n"
     ]
    },
    {
     "name": "stderr",
     "output_type": "stream",
     "text": [
      "\n",
      " 15%|█▌        | 77/500 [02:08<11:01,  1.56s/it]\u001b[A"
     ]
    },
    {
     "name": "stdout",
     "output_type": "stream",
     "text": [
      "0.12149967\n"
     ]
    },
    {
     "name": "stderr",
     "output_type": "stream",
     "text": [
      "\n",
      " 16%|█▌        | 78/500 [02:09<10:24,  1.48s/it]\u001b[A"
     ]
    },
    {
     "name": "stdout",
     "output_type": "stream",
     "text": [
      "0.10813351\n"
     ]
    },
    {
     "name": "stderr",
     "output_type": "stream",
     "text": [
      "\n",
      " 16%|█▌        | 79/500 [02:11<10:42,  1.53s/it]\u001b[A"
     ]
    },
    {
     "name": "stdout",
     "output_type": "stream",
     "text": [
      "0.09019207\n"
     ]
    },
    {
     "name": "stderr",
     "output_type": "stream",
     "text": [
      "\n",
      " 16%|█▌        | 80/500 [02:12<11:12,  1.60s/it]\u001b[A"
     ]
    },
    {
     "name": "stdout",
     "output_type": "stream",
     "text": [
      "0.08764202\n"
     ]
    },
    {
     "name": "stderr",
     "output_type": "stream",
     "text": [
      "\n",
      " 16%|█▌        | 81/500 [02:14<11:25,  1.64s/it]\u001b[A"
     ]
    },
    {
     "name": "stdout",
     "output_type": "stream",
     "text": [
      "0.092194125\n"
     ]
    },
    {
     "name": "stderr",
     "output_type": "stream",
     "text": [
      "\n",
      " 16%|█▋        | 82/500 [02:16<11:11,  1.61s/it]\u001b[A"
     ]
    },
    {
     "name": "stdout",
     "output_type": "stream",
     "text": [
      "0.122517556\n"
     ]
    },
    {
     "name": "stderr",
     "output_type": "stream",
     "text": [
      "\n",
      " 17%|█▋        | 83/500 [02:17<10:48,  1.56s/it]\u001b[A"
     ]
    },
    {
     "name": "stdout",
     "output_type": "stream",
     "text": [
      "0.08655707\n"
     ]
    },
    {
     "name": "stderr",
     "output_type": "stream",
     "text": [
      "\n",
      " 17%|█▋        | 84/500 [02:19<10:28,  1.51s/it]\u001b[A"
     ]
    },
    {
     "name": "stdout",
     "output_type": "stream",
     "text": [
      "0.12823609\n"
     ]
    },
    {
     "name": "stderr",
     "output_type": "stream",
     "text": [
      "\n",
      " 17%|█▋        | 85/500 [02:20<10:19,  1.49s/it]\u001b[A"
     ]
    },
    {
     "name": "stdout",
     "output_type": "stream",
     "text": [
      "0.104022816\n"
     ]
    },
    {
     "name": "stderr",
     "output_type": "stream",
     "text": [
      "\n",
      " 17%|█▋        | 86/500 [02:21<09:58,  1.44s/it]\u001b[A"
     ]
    },
    {
     "name": "stdout",
     "output_type": "stream",
     "text": [
      "0.11852463\n"
     ]
    },
    {
     "name": "stderr",
     "output_type": "stream",
     "text": [
      "\n",
      " 17%|█▋        | 87/500 [02:23<10:09,  1.48s/it]\u001b[A"
     ]
    },
    {
     "name": "stdout",
     "output_type": "stream",
     "text": [
      "0.15948044\n"
     ]
    },
    {
     "name": "stderr",
     "output_type": "stream",
     "text": [
      "\n",
      " 18%|█▊        | 88/500 [02:24<09:30,  1.38s/it]\u001b[A"
     ]
    },
    {
     "name": "stdout",
     "output_type": "stream",
     "text": [
      "0.15709655\n"
     ]
    },
    {
     "name": "stderr",
     "output_type": "stream",
     "text": [
      "\n",
      " 18%|█▊        | 89/500 [02:26<10:12,  1.49s/it]\u001b[A"
     ]
    },
    {
     "name": "stdout",
     "output_type": "stream",
     "text": [
      "0.10271649\n"
     ]
    },
    {
     "name": "stderr",
     "output_type": "stream",
     "text": [
      "\n",
      " 18%|█▊        | 90/500 [02:27<10:06,  1.48s/it]\u001b[A"
     ]
    },
    {
     "name": "stdout",
     "output_type": "stream",
     "text": [
      "0.10795633\n"
     ]
    },
    {
     "name": "stderr",
     "output_type": "stream",
     "text": [
      "\n",
      " 18%|█▊        | 91/500 [02:29<09:56,  1.46s/it]\u001b[A"
     ]
    },
    {
     "name": "stdout",
     "output_type": "stream",
     "text": [
      "0.18963283\n"
     ]
    },
    {
     "name": "stderr",
     "output_type": "stream",
     "text": [
      "\n",
      " 18%|█▊        | 92/500 [02:30<09:31,  1.40s/it]\u001b[A"
     ]
    },
    {
     "name": "stdout",
     "output_type": "stream",
     "text": [
      "0.15762049\n"
     ]
    },
    {
     "name": "stderr",
     "output_type": "stream",
     "text": [
      "\n",
      " 19%|█▊        | 93/500 [02:32<10:25,  1.54s/it]\u001b[A"
     ]
    },
    {
     "name": "stdout",
     "output_type": "stream",
     "text": [
      "0.14793962\n"
     ]
    },
    {
     "name": "stderr",
     "output_type": "stream",
     "text": [
      "\n",
      " 19%|█▉        | 94/500 [02:33<10:28,  1.55s/it]\u001b[A"
     ]
    },
    {
     "name": "stdout",
     "output_type": "stream",
     "text": [
      "0.14152238\n"
     ]
    },
    {
     "name": "stderr",
     "output_type": "stream",
     "text": [
      "\n",
      " 19%|█▉        | 95/500 [02:35<10:07,  1.50s/it]\u001b[A"
     ]
    },
    {
     "name": "stdout",
     "output_type": "stream",
     "text": [
      "0.09809576\n"
     ]
    },
    {
     "name": "stderr",
     "output_type": "stream",
     "text": [
      "\n",
      " 19%|█▉        | 96/500 [02:36<10:11,  1.51s/it]\u001b[A"
     ]
    },
    {
     "name": "stdout",
     "output_type": "stream",
     "text": [
      "0.097367354\n"
     ]
    },
    {
     "name": "stderr",
     "output_type": "stream",
     "text": [
      "\n",
      " 19%|█▉        | 97/500 [02:38<10:32,  1.57s/it]\u001b[A"
     ]
    },
    {
     "name": "stdout",
     "output_type": "stream",
     "text": [
      "0.09152337\n"
     ]
    },
    {
     "name": "stderr",
     "output_type": "stream",
     "text": [
      "\n",
      " 20%|█▉        | 98/500 [02:39<10:12,  1.52s/it]\u001b[A"
     ]
    },
    {
     "name": "stdout",
     "output_type": "stream",
     "text": [
      "0.12692551\n"
     ]
    },
    {
     "name": "stderr",
     "output_type": "stream",
     "text": [
      "\n",
      " 20%|█▉        | 99/500 [02:41<10:12,  1.53s/it]\u001b[A"
     ]
    },
    {
     "name": "stdout",
     "output_type": "stream",
     "text": [
      "0.11870106\n"
     ]
    },
    {
     "name": "stderr",
     "output_type": "stream",
     "text": [
      "\n",
      " 20%|██        | 100/500 [02:42<10:00,  1.50s/it]\u001b[A"
     ]
    },
    {
     "name": "stdout",
     "output_type": "stream",
     "text": [
      "0.10571037\n"
     ]
    },
    {
     "name": "stderr",
     "output_type": "stream",
     "text": [
      "\n",
      " 20%|██        | 101/500 [02:44<09:17,  1.40s/it]\u001b[A"
     ]
    },
    {
     "name": "stdout",
     "output_type": "stream",
     "text": [
      "0.15539628\n"
     ]
    },
    {
     "name": "stderr",
     "output_type": "stream",
     "text": [
      "\n",
      " 20%|██        | 102/500 [02:45<08:50,  1.33s/it]\u001b[A"
     ]
    },
    {
     "name": "stdout",
     "output_type": "stream",
     "text": [
      "0.11621634\n"
     ]
    },
    {
     "name": "stderr",
     "output_type": "stream",
     "text": [
      "\n",
      " 21%|██        | 103/500 [02:46<08:45,  1.32s/it]\u001b[A"
     ]
    },
    {
     "name": "stdout",
     "output_type": "stream",
     "text": [
      "0.12704588\n"
     ]
    },
    {
     "name": "stderr",
     "output_type": "stream",
     "text": [
      "\n",
      " 21%|██        | 104/500 [02:48<09:17,  1.41s/it]\u001b[A"
     ]
    },
    {
     "name": "stdout",
     "output_type": "stream",
     "text": [
      "0.11054049\n"
     ]
    },
    {
     "name": "stderr",
     "output_type": "stream",
     "text": [
      "\n",
      " 21%|██        | 105/500 [02:49<09:32,  1.45s/it]\u001b[A"
     ]
    },
    {
     "name": "stdout",
     "output_type": "stream",
     "text": [
      "0.11558882\n"
     ]
    },
    {
     "name": "stderr",
     "output_type": "stream",
     "text": [
      "\n",
      " 21%|██        | 106/500 [02:51<09:25,  1.43s/it]\u001b[A"
     ]
    },
    {
     "name": "stdout",
     "output_type": "stream",
     "text": [
      "0.088806145\n"
     ]
    },
    {
     "name": "stderr",
     "output_type": "stream",
     "text": [
      "\n",
      " 21%|██▏       | 107/500 [02:52<09:24,  1.44s/it]\u001b[A"
     ]
    },
    {
     "name": "stdout",
     "output_type": "stream",
     "text": [
      "0.11654532\n"
     ]
    },
    {
     "name": "stderr",
     "output_type": "stream",
     "text": [
      "\n",
      " 22%|██▏       | 108/500 [02:54<09:41,  1.48s/it]\u001b[A"
     ]
    },
    {
     "name": "stdout",
     "output_type": "stream",
     "text": [
      "0.09900422\n"
     ]
    },
    {
     "name": "stderr",
     "output_type": "stream",
     "text": [
      "\n",
      " 22%|██▏       | 109/500 [02:55<10:01,  1.54s/it]\u001b[A"
     ]
    },
    {
     "name": "stdout",
     "output_type": "stream",
     "text": [
      "0.09466581\n"
     ]
    },
    {
     "name": "stderr",
     "output_type": "stream",
     "text": [
      "\n",
      " 22%|██▏       | 110/500 [02:57<09:40,  1.49s/it]\u001b[A"
     ]
    },
    {
     "name": "stdout",
     "output_type": "stream",
     "text": [
      "0.12732746\n"
     ]
    },
    {
     "name": "stderr",
     "output_type": "stream",
     "text": [
      "\n",
      " 22%|██▏       | 111/500 [02:58<09:25,  1.45s/it]\u001b[A"
     ]
    },
    {
     "name": "stdout",
     "output_type": "stream",
     "text": [
      "0.11364205\n"
     ]
    },
    {
     "name": "stderr",
     "output_type": "stream",
     "text": [
      "\n",
      " 22%|██▏       | 112/500 [02:59<09:19,  1.44s/it]\u001b[A"
     ]
    },
    {
     "name": "stdout",
     "output_type": "stream",
     "text": [
      "0.11495975\n"
     ]
    },
    {
     "name": "stderr",
     "output_type": "stream",
     "text": [
      "\n",
      " 23%|██▎       | 113/500 [03:01<08:35,  1.33s/it]\u001b[A"
     ]
    },
    {
     "name": "stdout",
     "output_type": "stream",
     "text": [
      "0.14277358\n"
     ]
    },
    {
     "name": "stderr",
     "output_type": "stream",
     "text": [
      "\n",
      " 23%|██▎       | 114/500 [03:02<08:54,  1.38s/it]\u001b[A"
     ]
    },
    {
     "name": "stdout",
     "output_type": "stream",
     "text": [
      "0.100111395\n"
     ]
    },
    {
     "name": "stderr",
     "output_type": "stream",
     "text": [
      "\n",
      " 23%|██▎       | 115/500 [03:03<08:47,  1.37s/it]\u001b[A"
     ]
    },
    {
     "name": "stdout",
     "output_type": "stream",
     "text": [
      "0.093576685\n"
     ]
    },
    {
     "name": "stderr",
     "output_type": "stream",
     "text": [
      "\n",
      " 23%|██▎       | 116/500 [03:05<08:53,  1.39s/it]\u001b[A"
     ]
    },
    {
     "name": "stdout",
     "output_type": "stream",
     "text": [
      "0.117544025\n"
     ]
    },
    {
     "name": "stderr",
     "output_type": "stream",
     "text": [
      "\n",
      " 23%|██▎       | 117/500 [03:06<08:49,  1.38s/it]\u001b[A"
     ]
    },
    {
     "name": "stdout",
     "output_type": "stream",
     "text": [
      "0.10795118\n"
     ]
    },
    {
     "name": "stderr",
     "output_type": "stream",
     "text": [
      "\n",
      " 24%|██▎       | 118/500 [03:07<08:21,  1.31s/it]\u001b[A"
     ]
    },
    {
     "name": "stdout",
     "output_type": "stream",
     "text": [
      "0.11838363\n"
     ]
    },
    {
     "name": "stderr",
     "output_type": "stream",
     "text": [
      "\n",
      " 24%|██▍       | 119/500 [03:09<08:37,  1.36s/it]\u001b[A"
     ]
    },
    {
     "name": "stdout",
     "output_type": "stream",
     "text": [
      "0.09438537\n"
     ]
    },
    {
     "name": "stderr",
     "output_type": "stream",
     "text": [
      "\n",
      " 24%|██▍       | 120/500 [03:10<08:39,  1.37s/it]\u001b[A"
     ]
    },
    {
     "name": "stdout",
     "output_type": "stream",
     "text": [
      "0.10407504\n"
     ]
    },
    {
     "name": "stderr",
     "output_type": "stream",
     "text": [
      "\n",
      " 24%|██▍       | 121/500 [03:12<08:44,  1.38s/it]\u001b[A"
     ]
    },
    {
     "name": "stdout",
     "output_type": "stream",
     "text": [
      "0.09655061\n"
     ]
    },
    {
     "name": "stderr",
     "output_type": "stream",
     "text": [
      "\n",
      " 24%|██▍       | 122/500 [03:13<08:36,  1.37s/it]\u001b[A"
     ]
    },
    {
     "name": "stdout",
     "output_type": "stream",
     "text": [
      "0.09944615\n"
     ]
    },
    {
     "name": "stderr",
     "output_type": "stream",
     "text": [
      "\n",
      " 25%|██▍       | 123/500 [03:14<08:18,  1.32s/it]\u001b[A"
     ]
    },
    {
     "name": "stdout",
     "output_type": "stream",
     "text": [
      "0.14200969\n"
     ]
    },
    {
     "name": "stderr",
     "output_type": "stream",
     "text": [
      "\n",
      " 25%|██▍       | 124/500 [03:16<08:47,  1.40s/it]\u001b[A"
     ]
    },
    {
     "name": "stdout",
     "output_type": "stream",
     "text": [
      "0.1279829\n"
     ]
    },
    {
     "name": "stderr",
     "output_type": "stream",
     "text": [
      "\n",
      " 25%|██▌       | 125/500 [03:17<09:10,  1.47s/it]\u001b[A"
     ]
    },
    {
     "name": "stdout",
     "output_type": "stream",
     "text": [
      "0.12582184\n"
     ]
    },
    {
     "name": "stderr",
     "output_type": "stream",
     "text": [
      "\n",
      " 25%|██▌       | 126/500 [03:19<08:56,  1.43s/it]\u001b[A"
     ]
    },
    {
     "name": "stdout",
     "output_type": "stream",
     "text": [
      "0.15153696\n"
     ]
    },
    {
     "name": "stderr",
     "output_type": "stream",
     "text": [
      "\n",
      " 25%|██▌       | 127/500 [03:20<08:38,  1.39s/it]\u001b[A"
     ]
    },
    {
     "name": "stdout",
     "output_type": "stream",
     "text": [
      "0.09585569\n"
     ]
    },
    {
     "name": "stderr",
     "output_type": "stream",
     "text": [
      "\n",
      " 26%|██▌       | 128/500 [03:22<08:55,  1.44s/it]\u001b[A"
     ]
    },
    {
     "name": "stdout",
     "output_type": "stream",
     "text": [
      "0.10690587\n"
     ]
    },
    {
     "name": "stderr",
     "output_type": "stream",
     "text": [
      "\n",
      " 26%|██▌       | 129/500 [03:23<08:42,  1.41s/it]\u001b[A"
     ]
    },
    {
     "name": "stdout",
     "output_type": "stream",
     "text": [
      "0.08306744\n"
     ]
    },
    {
     "name": "stderr",
     "output_type": "stream",
     "text": [
      "\n",
      " 26%|██▌       | 130/500 [03:24<08:17,  1.34s/it]\u001b[A"
     ]
    },
    {
     "name": "stdout",
     "output_type": "stream",
     "text": [
      "0.10112357\n"
     ]
    },
    {
     "name": "stderr",
     "output_type": "stream",
     "text": [
      "\n",
      " 26%|██▌       | 131/500 [03:26<08:44,  1.42s/it]\u001b[A"
     ]
    },
    {
     "name": "stdout",
     "output_type": "stream",
     "text": [
      "0.108922824\n"
     ]
    },
    {
     "name": "stderr",
     "output_type": "stream",
     "text": [
      "\n",
      " 26%|██▋       | 132/500 [03:27<08:56,  1.46s/it]\u001b[A"
     ]
    },
    {
     "name": "stdout",
     "output_type": "stream",
     "text": [
      "0.10095493\n"
     ]
    },
    {
     "name": "stderr",
     "output_type": "stream",
     "text": [
      "\n",
      " 27%|██▋       | 133/500 [03:29<09:00,  1.47s/it]\u001b[A"
     ]
    },
    {
     "name": "stdout",
     "output_type": "stream",
     "text": [
      "0.100006886\n"
     ]
    },
    {
     "name": "stderr",
     "output_type": "stream",
     "text": [
      "\n",
      " 27%|██▋       | 134/500 [03:30<08:28,  1.39s/it]\u001b[A"
     ]
    },
    {
     "name": "stdout",
     "output_type": "stream",
     "text": [
      "0.100096814\n"
     ]
    },
    {
     "name": "stderr",
     "output_type": "stream",
     "text": [
      "\n",
      " 27%|██▋       | 135/500 [03:31<08:32,  1.40s/it]\u001b[A"
     ]
    },
    {
     "name": "stdout",
     "output_type": "stream",
     "text": [
      "0.080532044\n"
     ]
    },
    {
     "name": "stderr",
     "output_type": "stream",
     "text": [
      "\n",
      " 27%|██▋       | 136/500 [03:33<08:45,  1.44s/it]\u001b[A"
     ]
    },
    {
     "name": "stdout",
     "output_type": "stream",
     "text": [
      "0.08541454\n"
     ]
    },
    {
     "name": "stderr",
     "output_type": "stream",
     "text": [
      "\n",
      " 27%|██▋       | 137/500 [03:34<08:46,  1.45s/it]\u001b[A"
     ]
    },
    {
     "name": "stdout",
     "output_type": "stream",
     "text": [
      "0.10420524\n"
     ]
    },
    {
     "name": "stderr",
     "output_type": "stream",
     "text": [
      "\n",
      " 28%|██▊       | 138/500 [03:36<08:57,  1.49s/it]\u001b[A"
     ]
    },
    {
     "name": "stdout",
     "output_type": "stream",
     "text": [
      "0.092899986\n"
     ]
    },
    {
     "name": "stderr",
     "output_type": "stream",
     "text": [
      "\n",
      " 28%|██▊       | 139/500 [03:37<08:58,  1.49s/it]\u001b[A"
     ]
    },
    {
     "name": "stdout",
     "output_type": "stream",
     "text": [
      "0.18010078\n"
     ]
    },
    {
     "name": "stderr",
     "output_type": "stream",
     "text": [
      "\n",
      " 28%|██▊       | 140/500 [03:39<09:12,  1.53s/it]\u001b[A"
     ]
    },
    {
     "name": "stdout",
     "output_type": "stream",
     "text": [
      "0.15156421\n"
     ]
    },
    {
     "name": "stderr",
     "output_type": "stream",
     "text": [
      "\n",
      " 28%|██▊       | 141/500 [03:41<09:17,  1.55s/it]\u001b[A"
     ]
    },
    {
     "name": "stdout",
     "output_type": "stream",
     "text": [
      "0.17334823\n"
     ]
    },
    {
     "name": "stderr",
     "output_type": "stream",
     "text": [
      "\n",
      " 28%|██▊       | 142/500 [03:42<09:01,  1.51s/it]\u001b[A"
     ]
    },
    {
     "name": "stdout",
     "output_type": "stream",
     "text": [
      "0.14181621\n"
     ]
    },
    {
     "name": "stderr",
     "output_type": "stream",
     "text": [
      "\n",
      " 29%|██▊       | 143/500 [03:44<09:06,  1.53s/it]\u001b[A"
     ]
    },
    {
     "name": "stdout",
     "output_type": "stream",
     "text": [
      "0.14792703\n"
     ]
    },
    {
     "name": "stderr",
     "output_type": "stream",
     "text": [
      "\n",
      " 29%|██▉       | 144/500 [03:45<09:02,  1.52s/it]\u001b[A"
     ]
    },
    {
     "name": "stdout",
     "output_type": "stream",
     "text": [
      "0.11845474\n"
     ]
    },
    {
     "name": "stderr",
     "output_type": "stream",
     "text": [
      "\n",
      " 29%|██▉       | 145/500 [03:47<09:15,  1.56s/it]\u001b[A"
     ]
    },
    {
     "name": "stdout",
     "output_type": "stream",
     "text": [
      "0.12761568\n"
     ]
    },
    {
     "name": "stderr",
     "output_type": "stream",
     "text": [
      "\n",
      " 29%|██▉       | 146/500 [03:48<08:54,  1.51s/it]\u001b[A"
     ]
    },
    {
     "name": "stdout",
     "output_type": "stream",
     "text": [
      "0.12899838\n"
     ]
    },
    {
     "name": "stderr",
     "output_type": "stream",
     "text": [
      "\n",
      " 29%|██▉       | 147/500 [03:50<09:36,  1.63s/it]\u001b[A"
     ]
    },
    {
     "name": "stdout",
     "output_type": "stream",
     "text": [
      "0.12403024\n"
     ]
    },
    {
     "name": "stderr",
     "output_type": "stream",
     "text": [
      "\n",
      " 30%|██▉       | 148/500 [03:52<09:31,  1.62s/it]\u001b[A"
     ]
    },
    {
     "name": "stdout",
     "output_type": "stream",
     "text": [
      "0.14297317\n"
     ]
    },
    {
     "name": "stderr",
     "output_type": "stream",
     "text": [
      "\n",
      " 30%|██▉       | 149/500 [03:54<09:58,  1.70s/it]\u001b[A"
     ]
    },
    {
     "name": "stdout",
     "output_type": "stream",
     "text": [
      "0.12861985\n"
     ]
    },
    {
     "name": "stderr",
     "output_type": "stream",
     "text": [
      "\n",
      " 30%|███       | 150/500 [03:55<09:29,  1.63s/it]\u001b[A"
     ]
    },
    {
     "name": "stdout",
     "output_type": "stream",
     "text": [
      "0.15165679\n"
     ]
    },
    {
     "name": "stderr",
     "output_type": "stream",
     "text": [
      "\n",
      " 30%|███       | 151/500 [03:57<09:24,  1.62s/it]\u001b[A"
     ]
    },
    {
     "name": "stdout",
     "output_type": "stream",
     "text": [
      "0.13172677\n"
     ]
    },
    {
     "name": "stderr",
     "output_type": "stream",
     "text": [
      "\n",
      " 30%|███       | 152/500 [03:58<09:15,  1.60s/it]\u001b[A"
     ]
    },
    {
     "name": "stdout",
     "output_type": "stream",
     "text": [
      "0.102918915\n"
     ]
    },
    {
     "name": "stderr",
     "output_type": "stream",
     "text": [
      "\n",
      " 31%|███       | 153/500 [04:00<08:59,  1.55s/it]\u001b[A"
     ]
    },
    {
     "name": "stdout",
     "output_type": "stream",
     "text": [
      "0.09567717\n"
     ]
    },
    {
     "name": "stderr",
     "output_type": "stream",
     "text": [
      "\n",
      " 31%|███       | 154/500 [04:01<09:13,  1.60s/it]\u001b[A"
     ]
    },
    {
     "name": "stdout",
     "output_type": "stream",
     "text": [
      "0.10016088\n"
     ]
    },
    {
     "name": "stderr",
     "output_type": "stream",
     "text": [
      "\n",
      " 31%|███       | 155/500 [04:03<08:53,  1.55s/it]\u001b[A"
     ]
    },
    {
     "name": "stdout",
     "output_type": "stream",
     "text": [
      "0.10811117\n"
     ]
    },
    {
     "name": "stderr",
     "output_type": "stream",
     "text": [
      "\n",
      " 31%|███       | 156/500 [04:04<08:56,  1.56s/it]\u001b[A"
     ]
    },
    {
     "name": "stdout",
     "output_type": "stream",
     "text": [
      "0.08274896\n"
     ]
    },
    {
     "name": "stderr",
     "output_type": "stream",
     "text": [
      "\n",
      " 31%|███▏      | 157/500 [04:06<08:59,  1.57s/it]\u001b[A"
     ]
    },
    {
     "name": "stdout",
     "output_type": "stream",
     "text": [
      "0.084735185\n"
     ]
    },
    {
     "name": "stderr",
     "output_type": "stream",
     "text": [
      "\n",
      " 32%|███▏      | 158/500 [04:07<08:38,  1.52s/it]\u001b[A"
     ]
    },
    {
     "name": "stdout",
     "output_type": "stream",
     "text": [
      "0.07906982\n"
     ]
    },
    {
     "name": "stderr",
     "output_type": "stream",
     "text": [
      "\n",
      " 32%|███▏      | 159/500 [04:09<08:31,  1.50s/it]\u001b[A"
     ]
    },
    {
     "name": "stdout",
     "output_type": "stream",
     "text": [
      "0.08622193\n"
     ]
    },
    {
     "name": "stderr",
     "output_type": "stream",
     "text": [
      "\n",
      " 32%|███▏      | 160/500 [04:10<08:33,  1.51s/it]\u001b[A"
     ]
    },
    {
     "name": "stdout",
     "output_type": "stream",
     "text": [
      "0.074968725\n"
     ]
    },
    {
     "name": "stderr",
     "output_type": "stream",
     "text": [
      "\n",
      " 32%|███▏      | 161/500 [04:12<08:22,  1.48s/it]\u001b[A"
     ]
    },
    {
     "name": "stdout",
     "output_type": "stream",
     "text": [
      "0.09959452\n"
     ]
    },
    {
     "name": "stderr",
     "output_type": "stream",
     "text": [
      "\n",
      " 32%|███▏      | 162/500 [04:13<08:16,  1.47s/it]\u001b[A"
     ]
    },
    {
     "name": "stdout",
     "output_type": "stream",
     "text": [
      "0.09559654\n"
     ]
    },
    {
     "name": "stderr",
     "output_type": "stream",
     "text": [
      "\n",
      " 33%|███▎      | 163/500 [04:15<08:00,  1.42s/it]\u001b[A"
     ]
    },
    {
     "name": "stdout",
     "output_type": "stream",
     "text": [
      "0.09604327\n"
     ]
    },
    {
     "name": "stderr",
     "output_type": "stream",
     "text": [
      "\n",
      " 33%|███▎      | 164/500 [04:16<07:51,  1.40s/it]\u001b[A"
     ]
    },
    {
     "name": "stdout",
     "output_type": "stream",
     "text": [
      "0.074517645\n"
     ]
    },
    {
     "name": "stderr",
     "output_type": "stream",
     "text": [
      "\n",
      " 33%|███▎      | 165/500 [04:17<07:52,  1.41s/it]\u001b[A"
     ]
    },
    {
     "name": "stdout",
     "output_type": "stream",
     "text": [
      "0.07400623\n"
     ]
    },
    {
     "name": "stderr",
     "output_type": "stream",
     "text": [
      "\n",
      " 33%|███▎      | 166/500 [04:19<07:46,  1.40s/it]\u001b[A"
     ]
    },
    {
     "name": "stdout",
     "output_type": "stream",
     "text": [
      "0.06833233\n"
     ]
    },
    {
     "name": "stderr",
     "output_type": "stream",
     "text": [
      "\n",
      " 33%|███▎      | 167/500 [04:20<07:37,  1.37s/it]\u001b[A"
     ]
    },
    {
     "name": "stdout",
     "output_type": "stream",
     "text": [
      "0.080662884\n"
     ]
    },
    {
     "name": "stderr",
     "output_type": "stream",
     "text": [
      "\n",
      " 34%|███▎      | 168/500 [04:21<07:26,  1.34s/it]\u001b[A"
     ]
    },
    {
     "name": "stdout",
     "output_type": "stream",
     "text": [
      "0.07363935\n"
     ]
    },
    {
     "name": "stderr",
     "output_type": "stream",
     "text": [
      "\n",
      " 34%|███▍      | 169/500 [04:23<08:02,  1.46s/it]\u001b[A"
     ]
    },
    {
     "name": "stdout",
     "output_type": "stream",
     "text": [
      "0.0927206\n"
     ]
    },
    {
     "name": "stderr",
     "output_type": "stream",
     "text": [
      "\n",
      " 34%|███▍      | 170/500 [04:25<08:07,  1.48s/it]\u001b[A"
     ]
    },
    {
     "name": "stdout",
     "output_type": "stream",
     "text": [
      "0.06605662\n"
     ]
    },
    {
     "name": "stderr",
     "output_type": "stream",
     "text": [
      "\n",
      " 34%|███▍      | 171/500 [04:26<07:43,  1.41s/it]\u001b[A"
     ]
    },
    {
     "name": "stdout",
     "output_type": "stream",
     "text": [
      "0.13120267\n"
     ]
    },
    {
     "name": "stderr",
     "output_type": "stream",
     "text": [
      "\n",
      " 34%|███▍      | 172/500 [04:27<07:17,  1.33s/it]\u001b[A"
     ]
    },
    {
     "name": "stdout",
     "output_type": "stream",
     "text": [
      "0.08418408\n"
     ]
    },
    {
     "name": "stderr",
     "output_type": "stream",
     "text": [
      "\n",
      " 35%|███▍      | 173/500 [04:29<07:56,  1.46s/it]\u001b[A"
     ]
    },
    {
     "name": "stdout",
     "output_type": "stream",
     "text": [
      "0.07856236\n"
     ]
    },
    {
     "name": "stderr",
     "output_type": "stream",
     "text": [
      "\n",
      " 35%|███▍      | 174/500 [04:30<08:08,  1.50s/it]\u001b[A"
     ]
    },
    {
     "name": "stdout",
     "output_type": "stream",
     "text": [
      "0.08012041\n"
     ]
    },
    {
     "name": "stderr",
     "output_type": "stream",
     "text": [
      "\n",
      " 35%|███▌      | 175/500 [04:32<07:58,  1.47s/it]\u001b[A"
     ]
    },
    {
     "name": "stdout",
     "output_type": "stream",
     "text": [
      "0.08335297\n"
     ]
    },
    {
     "name": "stderr",
     "output_type": "stream",
     "text": [
      "\n",
      " 35%|███▌      | 176/500 [04:33<07:46,  1.44s/it]\u001b[A"
     ]
    },
    {
     "name": "stdout",
     "output_type": "stream",
     "text": [
      "0.08405967\n"
     ]
    },
    {
     "name": "stderr",
     "output_type": "stream",
     "text": [
      "\n",
      " 35%|███▌      | 177/500 [04:34<07:37,  1.42s/it]\u001b[A"
     ]
    },
    {
     "name": "stdout",
     "output_type": "stream",
     "text": [
      "0.09351247\n"
     ]
    },
    {
     "name": "stderr",
     "output_type": "stream",
     "text": [
      "\n",
      " 36%|███▌      | 178/500 [04:36<07:19,  1.36s/it]\u001b[A"
     ]
    },
    {
     "name": "stdout",
     "output_type": "stream",
     "text": [
      "0.069797285\n"
     ]
    },
    {
     "name": "stderr",
     "output_type": "stream",
     "text": [
      "\n",
      " 36%|███▌      | 179/500 [04:37<06:59,  1.31s/it]\u001b[A"
     ]
    },
    {
     "name": "stdout",
     "output_type": "stream",
     "text": [
      "0.07988493\n"
     ]
    },
    {
     "name": "stderr",
     "output_type": "stream",
     "text": [
      "\n",
      " 36%|███▌      | 180/500 [04:38<06:41,  1.25s/it]\u001b[A"
     ]
    },
    {
     "name": "stdout",
     "output_type": "stream",
     "text": [
      "0.08447597\n"
     ]
    },
    {
     "name": "stderr",
     "output_type": "stream",
     "text": [
      "\n",
      " 36%|███▌      | 181/500 [04:39<06:53,  1.30s/it]\u001b[A"
     ]
    },
    {
     "name": "stdout",
     "output_type": "stream",
     "text": [
      "0.06995142\n"
     ]
    },
    {
     "name": "stderr",
     "output_type": "stream",
     "text": [
      "\n",
      " 36%|███▋      | 182/500 [04:41<06:38,  1.25s/it]\u001b[A"
     ]
    },
    {
     "name": "stdout",
     "output_type": "stream",
     "text": [
      "0.07599988\n"
     ]
    },
    {
     "name": "stderr",
     "output_type": "stream",
     "text": [
      "\n",
      " 37%|███▋      | 183/500 [04:42<06:43,  1.27s/it]\u001b[A"
     ]
    },
    {
     "name": "stdout",
     "output_type": "stream",
     "text": [
      "0.07348456\n"
     ]
    },
    {
     "name": "stderr",
     "output_type": "stream",
     "text": [
      "\n",
      " 37%|███▋      | 184/500 [04:43<06:26,  1.22s/it]\u001b[A"
     ]
    },
    {
     "name": "stdout",
     "output_type": "stream",
     "text": [
      "0.11040424\n"
     ]
    },
    {
     "name": "stderr",
     "output_type": "stream",
     "text": [
      "\n",
      " 37%|███▋      | 185/500 [04:44<06:34,  1.25s/it]\u001b[A"
     ]
    },
    {
     "name": "stdout",
     "output_type": "stream",
     "text": [
      "0.12414317\n"
     ]
    },
    {
     "name": "stderr",
     "output_type": "stream",
     "text": [
      "\n",
      " 37%|███▋      | 186/500 [04:46<06:53,  1.32s/it]\u001b[A"
     ]
    },
    {
     "name": "stdout",
     "output_type": "stream",
     "text": [
      "0.13167945\n"
     ]
    },
    {
     "name": "stderr",
     "output_type": "stream",
     "text": [
      "\n",
      " 37%|███▋      | 187/500 [04:47<07:16,  1.39s/it]\u001b[A"
     ]
    },
    {
     "name": "stdout",
     "output_type": "stream",
     "text": [
      "0.10442635\n"
     ]
    },
    {
     "name": "stderr",
     "output_type": "stream",
     "text": [
      "\n",
      " 38%|███▊      | 188/500 [04:49<07:01,  1.35s/it]\u001b[A"
     ]
    },
    {
     "name": "stdout",
     "output_type": "stream",
     "text": [
      "0.10319789\n"
     ]
    },
    {
     "name": "stderr",
     "output_type": "stream",
     "text": [
      "\n",
      " 38%|███▊      | 189/500 [04:50<06:45,  1.30s/it]\u001b[A"
     ]
    },
    {
     "name": "stdout",
     "output_type": "stream",
     "text": [
      "0.12585062\n"
     ]
    },
    {
     "name": "stderr",
     "output_type": "stream",
     "text": [
      "\n",
      " 38%|███▊      | 190/500 [04:51<06:34,  1.27s/it]\u001b[A"
     ]
    },
    {
     "name": "stdout",
     "output_type": "stream",
     "text": [
      "0.1310365\n"
     ]
    },
    {
     "name": "stderr",
     "output_type": "stream",
     "text": [
      "\n",
      " 38%|███▊      | 191/500 [04:52<06:30,  1.26s/it]\u001b[A"
     ]
    },
    {
     "name": "stdout",
     "output_type": "stream",
     "text": [
      "0.13839373\n"
     ]
    },
    {
     "name": "stderr",
     "output_type": "stream",
     "text": [
      "\n",
      " 38%|███▊      | 192/500 [04:54<07:07,  1.39s/it]\u001b[A"
     ]
    },
    {
     "name": "stdout",
     "output_type": "stream",
     "text": [
      "0.094096094\n"
     ]
    },
    {
     "name": "stderr",
     "output_type": "stream",
     "text": [
      "\n",
      " 39%|███▊      | 193/500 [04:55<07:05,  1.39s/it]\u001b[A"
     ]
    },
    {
     "name": "stdout",
     "output_type": "stream",
     "text": [
      "0.12539546\n"
     ]
    },
    {
     "name": "stderr",
     "output_type": "stream",
     "text": [
      "\n",
      " 39%|███▉      | 194/500 [04:57<07:17,  1.43s/it]\u001b[A"
     ]
    },
    {
     "name": "stdout",
     "output_type": "stream",
     "text": [
      "0.10153354\n"
     ]
    },
    {
     "name": "stderr",
     "output_type": "stream",
     "text": [
      "\n",
      " 39%|███▉      | 195/500 [04:58<07:15,  1.43s/it]\u001b[A"
     ]
    },
    {
     "name": "stdout",
     "output_type": "stream",
     "text": [
      "0.09961664\n"
     ]
    },
    {
     "name": "stderr",
     "output_type": "stream",
     "text": [
      "\n",
      " 39%|███▉      | 196/500 [04:59<06:59,  1.38s/it]\u001b[A"
     ]
    },
    {
     "name": "stdout",
     "output_type": "stream",
     "text": [
      "0.09356806\n"
     ]
    },
    {
     "name": "stderr",
     "output_type": "stream",
     "text": [
      "\n",
      " 39%|███▉      | 197/500 [05:01<07:10,  1.42s/it]\u001b[A"
     ]
    },
    {
     "name": "stdout",
     "output_type": "stream",
     "text": [
      "0.10503901\n"
     ]
    },
    {
     "name": "stderr",
     "output_type": "stream",
     "text": [
      "\n",
      " 40%|███▉      | 198/500 [05:02<07:06,  1.41s/it]\u001b[A"
     ]
    },
    {
     "name": "stdout",
     "output_type": "stream",
     "text": [
      "0.12665842\n"
     ]
    },
    {
     "name": "stderr",
     "output_type": "stream",
     "text": [
      "\n",
      " 40%|███▉      | 199/500 [05:04<06:50,  1.36s/it]\u001b[A"
     ]
    },
    {
     "name": "stdout",
     "output_type": "stream",
     "text": [
      "0.13247791\n"
     ]
    },
    {
     "name": "stderr",
     "output_type": "stream",
     "text": [
      "\n",
      " 40%|████      | 200/500 [05:05<06:55,  1.39s/it]\u001b[A"
     ]
    },
    {
     "name": "stdout",
     "output_type": "stream",
     "text": [
      "0.06778543\n"
     ]
    },
    {
     "name": "stderr",
     "output_type": "stream",
     "text": [
      "\n",
      " 40%|████      | 201/500 [05:06<06:41,  1.34s/it]\u001b[A"
     ]
    },
    {
     "name": "stdout",
     "output_type": "stream",
     "text": [
      "0.100042515\n"
     ]
    },
    {
     "name": "stderr",
     "output_type": "stream",
     "text": [
      "\n",
      " 40%|████      | 202/500 [05:08<06:30,  1.31s/it]\u001b[A"
     ]
    },
    {
     "name": "stdout",
     "output_type": "stream",
     "text": [
      "0.09064422\n"
     ]
    },
    {
     "name": "stderr",
     "output_type": "stream",
     "text": [
      "\n",
      " 41%|████      | 203/500 [05:09<06:24,  1.29s/it]\u001b[A"
     ]
    },
    {
     "name": "stdout",
     "output_type": "stream",
     "text": [
      "0.10584246\n"
     ]
    },
    {
     "name": "stderr",
     "output_type": "stream",
     "text": [
      "\n",
      " 41%|████      | 204/500 [05:10<06:24,  1.30s/it]\u001b[A"
     ]
    },
    {
     "name": "stdout",
     "output_type": "stream",
     "text": [
      "0.097798735\n"
     ]
    },
    {
     "name": "stderr",
     "output_type": "stream",
     "text": [
      "\n",
      " 41%|████      | 205/500 [05:11<06:17,  1.28s/it]\u001b[A"
     ]
    },
    {
     "name": "stdout",
     "output_type": "stream",
     "text": [
      "0.10608484\n"
     ]
    },
    {
     "name": "stderr",
     "output_type": "stream",
     "text": [
      "\n",
      " 41%|████      | 206/500 [05:13<06:36,  1.35s/it]\u001b[A"
     ]
    },
    {
     "name": "stdout",
     "output_type": "stream",
     "text": [
      "0.0852824\n"
     ]
    },
    {
     "name": "stderr",
     "output_type": "stream",
     "text": [
      "\n",
      " 41%|████▏     | 207/500 [05:14<06:18,  1.29s/it]\u001b[A"
     ]
    },
    {
     "name": "stdout",
     "output_type": "stream",
     "text": [
      "0.10768277\n"
     ]
    },
    {
     "name": "stderr",
     "output_type": "stream",
     "text": [
      "\n",
      " 42%|████▏     | 208/500 [05:15<06:27,  1.33s/it]\u001b[A"
     ]
    },
    {
     "name": "stdout",
     "output_type": "stream",
     "text": [
      "0.09084709\n"
     ]
    },
    {
     "name": "stderr",
     "output_type": "stream",
     "text": [
      "\n",
      " 42%|████▏     | 209/500 [05:17<06:35,  1.36s/it]\u001b[A"
     ]
    },
    {
     "name": "stdout",
     "output_type": "stream",
     "text": [
      "0.067383535\n"
     ]
    },
    {
     "name": "stderr",
     "output_type": "stream",
     "text": [
      "\n",
      " 42%|████▏     | 210/500 [05:18<06:29,  1.34s/it]\u001b[A"
     ]
    },
    {
     "name": "stdout",
     "output_type": "stream",
     "text": [
      "0.10520555\n"
     ]
    },
    {
     "name": "stderr",
     "output_type": "stream",
     "text": [
      "\n",
      " 42%|████▏     | 211/500 [05:20<06:37,  1.37s/it]\u001b[A"
     ]
    },
    {
     "name": "stdout",
     "output_type": "stream",
     "text": [
      "0.08133174\n"
     ]
    },
    {
     "name": "stderr",
     "output_type": "stream",
     "text": [
      "\n",
      " 42%|████▏     | 212/500 [05:21<06:55,  1.44s/it]\u001b[A"
     ]
    },
    {
     "name": "stdout",
     "output_type": "stream",
     "text": [
      "0.080788486\n"
     ]
    },
    {
     "name": "stderr",
     "output_type": "stream",
     "text": [
      "\n",
      " 43%|████▎     | 213/500 [05:23<07:16,  1.52s/it]\u001b[A"
     ]
    },
    {
     "name": "stdout",
     "output_type": "stream",
     "text": [
      "0.07801296\n"
     ]
    },
    {
     "name": "stderr",
     "output_type": "stream",
     "text": [
      "\n",
      " 43%|████▎     | 214/500 [05:25<07:53,  1.66s/it]\u001b[A"
     ]
    },
    {
     "name": "stdout",
     "output_type": "stream",
     "text": [
      "0.068493724\n"
     ]
    },
    {
     "name": "stderr",
     "output_type": "stream",
     "text": [
      "\n",
      " 43%|████▎     | 215/500 [05:27<09:04,  1.91s/it]\u001b[A"
     ]
    },
    {
     "name": "stdout",
     "output_type": "stream",
     "text": [
      "0.08179446\n"
     ]
    },
    {
     "name": "stderr",
     "output_type": "stream",
     "text": [
      "\n",
      " 43%|████▎     | 216/500 [05:30<09:32,  2.02s/it]\u001b[A"
     ]
    },
    {
     "name": "stdout",
     "output_type": "stream",
     "text": [
      "0.05367376\n"
     ]
    },
    {
     "name": "stderr",
     "output_type": "stream",
     "text": [
      "\n",
      " 43%|████▎     | 217/500 [05:32<09:17,  1.97s/it]\u001b[A"
     ]
    },
    {
     "name": "stdout",
     "output_type": "stream",
     "text": [
      "0.094025925\n"
     ]
    },
    {
     "name": "stderr",
     "output_type": "stream",
     "text": [
      "\n",
      " 44%|████▎     | 218/500 [05:33<09:13,  1.96s/it]\u001b[A"
     ]
    },
    {
     "name": "stdout",
     "output_type": "stream",
     "text": [
      "0.059188884\n"
     ]
    },
    {
     "name": "stderr",
     "output_type": "stream",
     "text": [
      "\n",
      " 44%|████▍     | 219/500 [05:35<08:44,  1.87s/it]\u001b[A"
     ]
    },
    {
     "name": "stdout",
     "output_type": "stream",
     "text": [
      "0.08045101\n"
     ]
    },
    {
     "name": "stderr",
     "output_type": "stream",
     "text": [
      "\n",
      " 44%|████▍     | 220/500 [05:37<08:18,  1.78s/it]\u001b[A"
     ]
    },
    {
     "name": "stdout",
     "output_type": "stream",
     "text": [
      "0.07399011\n"
     ]
    },
    {
     "name": "stderr",
     "output_type": "stream",
     "text": [
      "\n",
      " 44%|████▍     | 221/500 [05:38<07:25,  1.60s/it]\u001b[A"
     ]
    },
    {
     "name": "stdout",
     "output_type": "stream",
     "text": [
      "0.06906533\n"
     ]
    },
    {
     "name": "stderr",
     "output_type": "stream",
     "text": [
      "\n",
      " 44%|████▍     | 222/500 [05:40<08:07,  1.75s/it]\u001b[A"
     ]
    },
    {
     "name": "stdout",
     "output_type": "stream",
     "text": [
      "0.0721917\n"
     ]
    },
    {
     "name": "stderr",
     "output_type": "stream",
     "text": [
      "\n",
      " 45%|████▍     | 223/500 [05:41<07:43,  1.67s/it]\u001b[A"
     ]
    },
    {
     "name": "stdout",
     "output_type": "stream",
     "text": [
      "0.10824533\n"
     ]
    },
    {
     "name": "stderr",
     "output_type": "stream",
     "text": [
      "\n",
      " 45%|████▍     | 224/500 [05:43<07:44,  1.68s/it]\u001b[A"
     ]
    },
    {
     "name": "stdout",
     "output_type": "stream",
     "text": [
      "0.13888736\n"
     ]
    },
    {
     "name": "stderr",
     "output_type": "stream",
     "text": [
      "\n",
      " 45%|████▌     | 225/500 [05:44<07:05,  1.55s/it]\u001b[A"
     ]
    },
    {
     "name": "stdout",
     "output_type": "stream",
     "text": [
      "0.12444405\n"
     ]
    },
    {
     "name": "stderr",
     "output_type": "stream",
     "text": [
      "\n",
      " 45%|████▌     | 226/500 [05:46<06:47,  1.49s/it]\u001b[A"
     ]
    },
    {
     "name": "stdout",
     "output_type": "stream",
     "text": [
      "0.11516647\n"
     ]
    },
    {
     "name": "stderr",
     "output_type": "stream",
     "text": [
      "\n",
      " 45%|████▌     | 227/500 [05:47<06:44,  1.48s/it]\u001b[A"
     ]
    },
    {
     "name": "stdout",
     "output_type": "stream",
     "text": [
      "0.106087014\n"
     ]
    },
    {
     "name": "stderr",
     "output_type": "stream",
     "text": [
      "\n",
      " 46%|████▌     | 228/500 [05:48<06:23,  1.41s/it]\u001b[A"
     ]
    },
    {
     "name": "stdout",
     "output_type": "stream",
     "text": [
      "0.08950222\n"
     ]
    },
    {
     "name": "stderr",
     "output_type": "stream",
     "text": [
      "\n",
      " 46%|████▌     | 229/500 [05:50<06:22,  1.41s/it]\u001b[A"
     ]
    },
    {
     "name": "stdout",
     "output_type": "stream",
     "text": [
      "0.08959059\n"
     ]
    },
    {
     "name": "stderr",
     "output_type": "stream",
     "text": [
      "\n",
      " 46%|████▌     | 230/500 [05:52<06:40,  1.48s/it]\u001b[A"
     ]
    },
    {
     "name": "stdout",
     "output_type": "stream",
     "text": [
      "0.12956944\n"
     ]
    },
    {
     "name": "stderr",
     "output_type": "stream",
     "text": [
      "\n",
      " 46%|████▌     | 231/500 [05:53<06:46,  1.51s/it]\u001b[A"
     ]
    },
    {
     "name": "stdout",
     "output_type": "stream",
     "text": [
      "0.11667815\n"
     ]
    },
    {
     "name": "stderr",
     "output_type": "stream",
     "text": [
      "\n",
      " 46%|████▋     | 232/500 [05:54<06:29,  1.45s/it]\u001b[A"
     ]
    },
    {
     "name": "stdout",
     "output_type": "stream",
     "text": [
      "0.09062625\n"
     ]
    },
    {
     "name": "stderr",
     "output_type": "stream",
     "text": [
      "\n",
      " 47%|████▋     | 233/500 [05:56<06:23,  1.44s/it]\u001b[A"
     ]
    },
    {
     "name": "stdout",
     "output_type": "stream",
     "text": [
      "0.106151246\n"
     ]
    },
    {
     "name": "stderr",
     "output_type": "stream",
     "text": [
      "\n",
      " 47%|████▋     | 234/500 [05:57<06:16,  1.42s/it]\u001b[A"
     ]
    },
    {
     "name": "stdout",
     "output_type": "stream",
     "text": [
      "0.13428588\n"
     ]
    },
    {
     "name": "stderr",
     "output_type": "stream",
     "text": [
      "\n",
      " 47%|████▋     | 235/500 [05:59<06:21,  1.44s/it]\u001b[A"
     ]
    },
    {
     "name": "stdout",
     "output_type": "stream",
     "text": [
      "0.12598923\n"
     ]
    },
    {
     "name": "stderr",
     "output_type": "stream",
     "text": [
      "\n",
      " 47%|████▋     | 236/500 [06:00<06:04,  1.38s/it]\u001b[A"
     ]
    },
    {
     "name": "stdout",
     "output_type": "stream",
     "text": [
      "0.11714562\n"
     ]
    },
    {
     "name": "stderr",
     "output_type": "stream",
     "text": [
      "\n",
      " 47%|████▋     | 237/500 [06:01<06:00,  1.37s/it]\u001b[A"
     ]
    },
    {
     "name": "stdout",
     "output_type": "stream",
     "text": [
      "0.11458211\n"
     ]
    },
    {
     "name": "stderr",
     "output_type": "stream",
     "text": [
      "\n",
      " 48%|████▊     | 238/500 [06:02<05:35,  1.28s/it]\u001b[A"
     ]
    },
    {
     "name": "stdout",
     "output_type": "stream",
     "text": [
      "0.135355\n"
     ]
    },
    {
     "name": "stderr",
     "output_type": "stream",
     "text": [
      "\n",
      " 48%|████▊     | 239/500 [06:04<05:44,  1.32s/it]\u001b[A"
     ]
    },
    {
     "name": "stdout",
     "output_type": "stream",
     "text": [
      "0.14182396\n"
     ]
    },
    {
     "name": "stderr",
     "output_type": "stream",
     "text": [
      "\n",
      " 48%|████▊     | 240/500 [06:05<06:00,  1.39s/it]\u001b[A"
     ]
    },
    {
     "name": "stdout",
     "output_type": "stream",
     "text": [
      "0.11637868\n"
     ]
    },
    {
     "name": "stderr",
     "output_type": "stream",
     "text": [
      "\n",
      " 48%|████▊     | 241/500 [06:07<06:24,  1.48s/it]\u001b[A"
     ]
    },
    {
     "name": "stdout",
     "output_type": "stream",
     "text": [
      "0.11301895\n"
     ]
    },
    {
     "name": "stderr",
     "output_type": "stream",
     "text": [
      "\n",
      " 48%|████▊     | 242/500 [06:09<06:25,  1.50s/it]\u001b[A"
     ]
    },
    {
     "name": "stdout",
     "output_type": "stream",
     "text": [
      "0.09122208\n"
     ]
    },
    {
     "name": "stderr",
     "output_type": "stream",
     "text": [
      "\n",
      " 49%|████▊     | 243/500 [06:10<06:05,  1.42s/it]\u001b[A"
     ]
    },
    {
     "name": "stdout",
     "output_type": "stream",
     "text": [
      "0.0894591\n"
     ]
    },
    {
     "name": "stderr",
     "output_type": "stream",
     "text": [
      "\n",
      " 49%|████▉     | 244/500 [06:11<06:02,  1.42s/it]\u001b[A"
     ]
    },
    {
     "name": "stdout",
     "output_type": "stream",
     "text": [
      "0.061717223\n"
     ]
    },
    {
     "name": "stderr",
     "output_type": "stream",
     "text": [
      "\n",
      " 49%|████▉     | 245/500 [06:12<05:45,  1.36s/it]\u001b[A"
     ]
    },
    {
     "name": "stdout",
     "output_type": "stream",
     "text": [
      "0.07935982\n"
     ]
    },
    {
     "name": "stderr",
     "output_type": "stream",
     "text": [
      "\n",
      " 49%|████▉     | 246/500 [06:14<05:53,  1.39s/it]\u001b[A"
     ]
    },
    {
     "name": "stdout",
     "output_type": "stream",
     "text": [
      "0.07651961\n"
     ]
    },
    {
     "name": "stderr",
     "output_type": "stream",
     "text": [
      "\n",
      " 49%|████▉     | 247/500 [06:15<05:26,  1.29s/it]\u001b[A"
     ]
    },
    {
     "name": "stdout",
     "output_type": "stream",
     "text": [
      "0.09043126\n"
     ]
    },
    {
     "name": "stderr",
     "output_type": "stream",
     "text": [
      "\n",
      " 50%|████▉     | 248/500 [06:16<05:41,  1.36s/it]\u001b[A"
     ]
    },
    {
     "name": "stdout",
     "output_type": "stream",
     "text": [
      "0.071367376\n"
     ]
    },
    {
     "name": "stderr",
     "output_type": "stream",
     "text": [
      "\n",
      " 50%|████▉     | 249/500 [06:18<05:25,  1.30s/it]\u001b[A"
     ]
    },
    {
     "name": "stdout",
     "output_type": "stream",
     "text": [
      "0.07676074\n"
     ]
    },
    {
     "name": "stderr",
     "output_type": "stream",
     "text": [
      "\n",
      " 50%|█████     | 250/500 [06:19<05:30,  1.32s/it]\u001b[A"
     ]
    },
    {
     "name": "stdout",
     "output_type": "stream",
     "text": [
      "0.07770245\n"
     ]
    },
    {
     "name": "stderr",
     "output_type": "stream",
     "text": [
      "\n",
      " 50%|█████     | 251/500 [06:21<05:44,  1.38s/it]\u001b[A"
     ]
    },
    {
     "name": "stdout",
     "output_type": "stream",
     "text": [
      "0.078213975\n"
     ]
    },
    {
     "name": "stderr",
     "output_type": "stream",
     "text": [
      "\n",
      " 50%|█████     | 252/500 [06:22<05:53,  1.43s/it]\u001b[A"
     ]
    },
    {
     "name": "stdout",
     "output_type": "stream",
     "text": [
      "0.06939504\n"
     ]
    },
    {
     "name": "stderr",
     "output_type": "stream",
     "text": [
      "\n",
      " 51%|█████     | 253/500 [06:23<05:53,  1.43s/it]\u001b[A"
     ]
    },
    {
     "name": "stdout",
     "output_type": "stream",
     "text": [
      "0.06687595\n"
     ]
    },
    {
     "name": "stderr",
     "output_type": "stream",
     "text": [
      "\n",
      " 51%|█████     | 254/500 [06:25<06:12,  1.51s/it]\u001b[A"
     ]
    },
    {
     "name": "stdout",
     "output_type": "stream",
     "text": [
      "0.063160226\n"
     ]
    },
    {
     "name": "stderr",
     "output_type": "stream",
     "text": [
      "\n",
      " 51%|█████     | 255/500 [06:27<06:02,  1.48s/it]\u001b[A"
     ]
    },
    {
     "name": "stdout",
     "output_type": "stream",
     "text": [
      "0.082323\n"
     ]
    },
    {
     "name": "stderr",
     "output_type": "stream",
     "text": [
      "\n",
      " 51%|█████     | 256/500 [06:28<06:13,  1.53s/it]\u001b[A"
     ]
    },
    {
     "name": "stdout",
     "output_type": "stream",
     "text": [
      "0.11376182\n"
     ]
    },
    {
     "name": "stderr",
     "output_type": "stream",
     "text": [
      "\n",
      " 51%|█████▏    | 257/500 [06:30<06:10,  1.53s/it]\u001b[A"
     ]
    },
    {
     "name": "stdout",
     "output_type": "stream",
     "text": [
      "0.10283588\n"
     ]
    },
    {
     "name": "stderr",
     "output_type": "stream",
     "text": [
      "\n",
      " 52%|█████▏    | 258/500 [06:31<06:11,  1.53s/it]\u001b[A"
     ]
    },
    {
     "name": "stdout",
     "output_type": "stream",
     "text": [
      "0.09759749\n"
     ]
    },
    {
     "name": "stderr",
     "output_type": "stream",
     "text": [
      "\n",
      " 52%|█████▏    | 259/500 [06:33<06:06,  1.52s/it]\u001b[A"
     ]
    },
    {
     "name": "stdout",
     "output_type": "stream",
     "text": [
      "0.11614712\n"
     ]
    },
    {
     "name": "stderr",
     "output_type": "stream",
     "text": [
      "\n",
      " 52%|█████▏    | 260/500 [06:34<05:55,  1.48s/it]\u001b[A"
     ]
    },
    {
     "name": "stdout",
     "output_type": "stream",
     "text": [
      "0.17104954\n"
     ]
    },
    {
     "name": "stderr",
     "output_type": "stream",
     "text": [
      "\n",
      " 52%|█████▏    | 261/500 [06:36<05:52,  1.47s/it]\u001b[A"
     ]
    },
    {
     "name": "stdout",
     "output_type": "stream",
     "text": [
      "0.16361125\n"
     ]
    },
    {
     "name": "stderr",
     "output_type": "stream",
     "text": [
      "\n",
      " 52%|█████▏    | 262/500 [06:37<05:55,  1.49s/it]\u001b[A"
     ]
    },
    {
     "name": "stdout",
     "output_type": "stream",
     "text": [
      "0.13139683\n"
     ]
    },
    {
     "name": "stderr",
     "output_type": "stream",
     "text": [
      "\n",
      " 53%|█████▎    | 263/500 [06:39<06:01,  1.53s/it]\u001b[A"
     ]
    },
    {
     "name": "stdout",
     "output_type": "stream",
     "text": [
      "0.13016035\n"
     ]
    },
    {
     "name": "stderr",
     "output_type": "stream",
     "text": [
      "\n",
      " 53%|█████▎    | 264/500 [06:40<05:52,  1.49s/it]\u001b[A"
     ]
    },
    {
     "name": "stdout",
     "output_type": "stream",
     "text": [
      "0.11816985\n"
     ]
    },
    {
     "name": "stderr",
     "output_type": "stream",
     "text": [
      "\n",
      " 53%|█████▎    | 265/500 [06:42<05:45,  1.47s/it]\u001b[A"
     ]
    },
    {
     "name": "stdout",
     "output_type": "stream",
     "text": [
      "0.1138776\n"
     ]
    },
    {
     "name": "stderr",
     "output_type": "stream",
     "text": [
      "\n",
      " 53%|█████▎    | 266/500 [06:43<05:41,  1.46s/it]\u001b[A"
     ]
    },
    {
     "name": "stdout",
     "output_type": "stream",
     "text": [
      "0.11098504\n"
     ]
    },
    {
     "name": "stderr",
     "output_type": "stream",
     "text": [
      "\n",
      " 53%|█████▎    | 267/500 [06:44<05:29,  1.41s/it]\u001b[A"
     ]
    },
    {
     "name": "stdout",
     "output_type": "stream",
     "text": [
      "0.12366986\n"
     ]
    },
    {
     "name": "stderr",
     "output_type": "stream",
     "text": [
      "\n",
      " 54%|█████▎    | 268/500 [06:46<05:22,  1.39s/it]\u001b[A"
     ]
    },
    {
     "name": "stdout",
     "output_type": "stream",
     "text": [
      "0.122921616\n"
     ]
    },
    {
     "name": "stderr",
     "output_type": "stream",
     "text": [
      "\n",
      " 54%|█████▍    | 269/500 [06:47<05:15,  1.36s/it]\u001b[A"
     ]
    },
    {
     "name": "stdout",
     "output_type": "stream",
     "text": [
      "0.11255331\n"
     ]
    },
    {
     "name": "stderr",
     "output_type": "stream",
     "text": [
      "\n",
      " 54%|█████▍    | 270/500 [06:48<05:15,  1.37s/it]\u001b[A"
     ]
    },
    {
     "name": "stdout",
     "output_type": "stream",
     "text": [
      "0.1116539\n"
     ]
    },
    {
     "name": "stderr",
     "output_type": "stream",
     "text": [
      "\n",
      " 54%|█████▍    | 271/500 [06:50<05:15,  1.38s/it]\u001b[A"
     ]
    },
    {
     "name": "stdout",
     "output_type": "stream",
     "text": [
      "0.21551962\n"
     ]
    },
    {
     "name": "stderr",
     "output_type": "stream",
     "text": [
      "\n",
      " 54%|█████▍    | 272/500 [06:51<05:19,  1.40s/it]\u001b[A"
     ]
    },
    {
     "name": "stdout",
     "output_type": "stream",
     "text": [
      "0.15768579\n"
     ]
    },
    {
     "name": "stderr",
     "output_type": "stream",
     "text": [
      "\n",
      " 55%|█████▍    | 273/500 [06:53<05:18,  1.40s/it]\u001b[A"
     ]
    },
    {
     "name": "stdout",
     "output_type": "stream",
     "text": [
      "0.10941839\n"
     ]
    },
    {
     "name": "stderr",
     "output_type": "stream",
     "text": [
      "\n",
      " 55%|█████▍    | 274/500 [06:54<05:23,  1.43s/it]\u001b[A"
     ]
    },
    {
     "name": "stdout",
     "output_type": "stream",
     "text": [
      "0.08767555\n"
     ]
    },
    {
     "name": "stderr",
     "output_type": "stream",
     "text": [
      "\n",
      " 55%|█████▌    | 275/500 [06:56<05:30,  1.47s/it]\u001b[A"
     ]
    },
    {
     "name": "stdout",
     "output_type": "stream",
     "text": [
      "0.09260574\n"
     ]
    },
    {
     "name": "stderr",
     "output_type": "stream",
     "text": [
      "\n",
      " 55%|█████▌    | 276/500 [06:57<05:21,  1.43s/it]\u001b[A"
     ]
    },
    {
     "name": "stdout",
     "output_type": "stream",
     "text": [
      "0.08154239\n"
     ]
    },
    {
     "name": "stderr",
     "output_type": "stream",
     "text": [
      "\n",
      " 55%|█████▌    | 277/500 [06:59<05:25,  1.46s/it]\u001b[A"
     ]
    },
    {
     "name": "stdout",
     "output_type": "stream",
     "text": [
      "0.08014917\n"
     ]
    },
    {
     "name": "stderr",
     "output_type": "stream",
     "text": [
      "\n",
      " 56%|█████▌    | 278/500 [07:00<05:21,  1.45s/it]\u001b[A"
     ]
    },
    {
     "name": "stdout",
     "output_type": "stream",
     "text": [
      "0.1685917\n"
     ]
    },
    {
     "name": "stderr",
     "output_type": "stream",
     "text": [
      "\n",
      " 56%|█████▌    | 279/500 [07:01<05:23,  1.46s/it]\u001b[A"
     ]
    },
    {
     "name": "stdout",
     "output_type": "stream",
     "text": [
      "0.10405509\n"
     ]
    },
    {
     "name": "stderr",
     "output_type": "stream",
     "text": [
      "\n",
      " 56%|█████▌    | 280/500 [07:03<05:22,  1.47s/it]\u001b[A"
     ]
    },
    {
     "name": "stdout",
     "output_type": "stream",
     "text": [
      "0.104883514\n"
     ]
    },
    {
     "name": "stderr",
     "output_type": "stream",
     "text": [
      "\n",
      " 56%|█████▌    | 281/500 [07:04<05:14,  1.44s/it]\u001b[A"
     ]
    },
    {
     "name": "stdout",
     "output_type": "stream",
     "text": [
      "0.09903654\n"
     ]
    },
    {
     "name": "stderr",
     "output_type": "stream",
     "text": [
      "\n",
      " 56%|█████▋    | 282/500 [07:06<05:17,  1.45s/it]\u001b[A"
     ]
    },
    {
     "name": "stdout",
     "output_type": "stream",
     "text": [
      "0.11675836\n"
     ]
    },
    {
     "name": "stderr",
     "output_type": "stream",
     "text": [
      "\n",
      " 57%|█████▋    | 283/500 [07:07<04:59,  1.38s/it]\u001b[A"
     ]
    },
    {
     "name": "stdout",
     "output_type": "stream",
     "text": [
      "0.11435611\n"
     ]
    },
    {
     "name": "stderr",
     "output_type": "stream",
     "text": [
      "\n",
      " 57%|█████▋    | 284/500 [07:08<05:01,  1.40s/it]\u001b[A"
     ]
    },
    {
     "name": "stdout",
     "output_type": "stream",
     "text": [
      "0.098492414\n"
     ]
    },
    {
     "name": "stderr",
     "output_type": "stream",
     "text": [
      "\n",
      " 57%|█████▋    | 285/500 [07:10<05:25,  1.51s/it]\u001b[A"
     ]
    },
    {
     "name": "stdout",
     "output_type": "stream",
     "text": [
      "0.075503595\n"
     ]
    },
    {
     "name": "stderr",
     "output_type": "stream",
     "text": [
      "\n",
      " 57%|█████▋    | 286/500 [07:12<05:38,  1.58s/it]\u001b[A"
     ]
    },
    {
     "name": "stdout",
     "output_type": "stream",
     "text": [
      "0.07148945\n"
     ]
    },
    {
     "name": "stderr",
     "output_type": "stream",
     "text": [
      "\n",
      " 57%|█████▋    | 287/500 [07:13<05:15,  1.48s/it]\u001b[A"
     ]
    },
    {
     "name": "stdout",
     "output_type": "stream",
     "text": [
      "0.06434793\n"
     ]
    },
    {
     "name": "stderr",
     "output_type": "stream",
     "text": [
      "\n",
      " 58%|█████▊    | 288/500 [07:15<05:18,  1.50s/it]\u001b[A"
     ]
    },
    {
     "name": "stdout",
     "output_type": "stream",
     "text": [
      "0.049672566\n"
     ]
    },
    {
     "name": "stderr",
     "output_type": "stream",
     "text": [
      "\n",
      " 58%|█████▊    | 289/500 [07:16<05:22,  1.53s/it]\u001b[A"
     ]
    },
    {
     "name": "stdout",
     "output_type": "stream",
     "text": [
      "0.07411378\n"
     ]
    },
    {
     "name": "stderr",
     "output_type": "stream",
     "text": [
      "\n",
      " 58%|█████▊    | 290/500 [07:18<05:25,  1.55s/it]\u001b[A"
     ]
    },
    {
     "name": "stdout",
     "output_type": "stream",
     "text": [
      "0.08170338\n"
     ]
    },
    {
     "name": "stderr",
     "output_type": "stream",
     "text": [
      "\n",
      " 58%|█████▊    | 291/500 [07:20<05:29,  1.58s/it]\u001b[A"
     ]
    },
    {
     "name": "stdout",
     "output_type": "stream",
     "text": [
      "0.07786012\n"
     ]
    },
    {
     "name": "stderr",
     "output_type": "stream",
     "text": [
      "\n",
      " 58%|█████▊    | 292/500 [07:21<05:39,  1.63s/it]\u001b[A"
     ]
    },
    {
     "name": "stdout",
     "output_type": "stream",
     "text": [
      "0.061454955\n"
     ]
    },
    {
     "name": "stderr",
     "output_type": "stream",
     "text": [
      "\n",
      " 59%|█████▊    | 293/500 [07:23<05:24,  1.57s/it]\u001b[A"
     ]
    },
    {
     "name": "stdout",
     "output_type": "stream",
     "text": [
      "0.08591369\n"
     ]
    },
    {
     "name": "stderr",
     "output_type": "stream",
     "text": [
      "\n",
      " 59%|█████▉    | 294/500 [07:25<05:37,  1.64s/it]\u001b[A"
     ]
    },
    {
     "name": "stdout",
     "output_type": "stream",
     "text": [
      "0.04898908\n"
     ]
    },
    {
     "name": "stderr",
     "output_type": "stream",
     "text": [
      "\n",
      " 59%|█████▉    | 295/500 [07:26<05:26,  1.59s/it]\u001b[A"
     ]
    },
    {
     "name": "stdout",
     "output_type": "stream",
     "text": [
      "0.063791685\n"
     ]
    },
    {
     "name": "stderr",
     "output_type": "stream",
     "text": [
      "\n",
      " 59%|█████▉    | 296/500 [07:28<05:28,  1.61s/it]\u001b[A"
     ]
    },
    {
     "name": "stdout",
     "output_type": "stream",
     "text": [
      "0.10165145\n"
     ]
    },
    {
     "name": "stderr",
     "output_type": "stream",
     "text": [
      "\n",
      " 59%|█████▉    | 297/500 [07:29<05:12,  1.54s/it]\u001b[A"
     ]
    },
    {
     "name": "stdout",
     "output_type": "stream",
     "text": [
      "0.15260378\n"
     ]
    },
    {
     "name": "stderr",
     "output_type": "stream",
     "text": [
      "\n",
      " 60%|█████▉    | 298/500 [07:31<05:02,  1.50s/it]\u001b[A"
     ]
    },
    {
     "name": "stdout",
     "output_type": "stream",
     "text": [
      "0.081019305\n"
     ]
    },
    {
     "name": "stderr",
     "output_type": "stream",
     "text": [
      "\n",
      " 60%|█████▉    | 299/500 [07:32<04:50,  1.44s/it]\u001b[A"
     ]
    },
    {
     "name": "stdout",
     "output_type": "stream",
     "text": [
      "0.121570356\n"
     ]
    },
    {
     "name": "stderr",
     "output_type": "stream",
     "text": [
      "\n",
      " 60%|██████    | 300/500 [07:34<05:05,  1.53s/it]\u001b[A"
     ]
    },
    {
     "name": "stdout",
     "output_type": "stream",
     "text": [
      "0.11729963\n"
     ]
    },
    {
     "name": "stderr",
     "output_type": "stream",
     "text": [
      "\n",
      " 60%|██████    | 301/500 [07:35<04:47,  1.45s/it]\u001b[A"
     ]
    },
    {
     "name": "stdout",
     "output_type": "stream",
     "text": [
      "0.10583808\n"
     ]
    },
    {
     "name": "stderr",
     "output_type": "stream",
     "text": [
      "\n",
      " 60%|██████    | 302/500 [07:36<04:46,  1.45s/it]\u001b[A"
     ]
    },
    {
     "name": "stdout",
     "output_type": "stream",
     "text": [
      "0.1042644\n"
     ]
    },
    {
     "name": "stderr",
     "output_type": "stream",
     "text": [
      "\n",
      " 61%|██████    | 303/500 [07:38<05:12,  1.59s/it]\u001b[A"
     ]
    },
    {
     "name": "stdout",
     "output_type": "stream",
     "text": [
      "0.103892714\n"
     ]
    },
    {
     "name": "stderr",
     "output_type": "stream",
     "text": [
      "\n",
      " 61%|██████    | 304/500 [07:40<05:14,  1.61s/it]\u001b[A"
     ]
    },
    {
     "name": "stdout",
     "output_type": "stream",
     "text": [
      "0.12696524\n"
     ]
    },
    {
     "name": "stderr",
     "output_type": "stream",
     "text": [
      "\n",
      " 61%|██████    | 305/500 [07:41<05:10,  1.59s/it]\u001b[A"
     ]
    },
    {
     "name": "stdout",
     "output_type": "stream",
     "text": [
      "0.076040365\n"
     ]
    },
    {
     "name": "stderr",
     "output_type": "stream",
     "text": [
      "\n",
      " 61%|██████    | 306/500 [07:43<05:27,  1.69s/it]\u001b[A"
     ]
    },
    {
     "name": "stdout",
     "output_type": "stream",
     "text": [
      "0.07022128\n"
     ]
    },
    {
     "name": "stderr",
     "output_type": "stream",
     "text": [
      "\n",
      " 61%|██████▏   | 307/500 [07:45<05:08,  1.60s/it]\u001b[A"
     ]
    },
    {
     "name": "stdout",
     "output_type": "stream",
     "text": [
      "0.07920699\n"
     ]
    },
    {
     "name": "stderr",
     "output_type": "stream",
     "text": [
      "\n",
      " 62%|██████▏   | 308/500 [07:47<05:39,  1.77s/it]\u001b[A"
     ]
    },
    {
     "name": "stdout",
     "output_type": "stream",
     "text": [
      "0.11063196\n"
     ]
    },
    {
     "name": "stderr",
     "output_type": "stream",
     "text": [
      "\n",
      " 62%|██████▏   | 309/500 [07:48<05:18,  1.67s/it]\u001b[A"
     ]
    },
    {
     "name": "stdout",
     "output_type": "stream",
     "text": [
      "0.07804019\n"
     ]
    },
    {
     "name": "stderr",
     "output_type": "stream",
     "text": [
      "\n",
      " 62%|██████▏   | 310/500 [07:50<05:14,  1.65s/it]\u001b[A"
     ]
    },
    {
     "name": "stdout",
     "output_type": "stream",
     "text": [
      "0.0979291\n"
     ]
    },
    {
     "name": "stderr",
     "output_type": "stream",
     "text": [
      "\n",
      " 62%|██████▏   | 311/500 [07:52<05:11,  1.65s/it]\u001b[A"
     ]
    },
    {
     "name": "stdout",
     "output_type": "stream",
     "text": [
      "0.09183955\n"
     ]
    },
    {
     "name": "stderr",
     "output_type": "stream",
     "text": [
      "\n",
      " 62%|██████▏   | 312/500 [07:53<05:23,  1.72s/it]\u001b[A"
     ]
    },
    {
     "name": "stdout",
     "output_type": "stream",
     "text": [
      "0.10386541\n"
     ]
    },
    {
     "name": "stderr",
     "output_type": "stream",
     "text": [
      "\n",
      " 63%|██████▎   | 313/500 [07:55<05:10,  1.66s/it]\u001b[A"
     ]
    },
    {
     "name": "stdout",
     "output_type": "stream",
     "text": [
      "0.12599388\n"
     ]
    },
    {
     "name": "stderr",
     "output_type": "stream",
     "text": [
      "\n",
      " 63%|██████▎   | 314/500 [07:56<05:01,  1.62s/it]\u001b[A"
     ]
    },
    {
     "name": "stdout",
     "output_type": "stream",
     "text": [
      "0.10520525\n"
     ]
    },
    {
     "name": "stderr",
     "output_type": "stream",
     "text": [
      "\n",
      " 63%|██████▎   | 315/500 [07:58<04:56,  1.60s/it]\u001b[A"
     ]
    },
    {
     "name": "stdout",
     "output_type": "stream",
     "text": [
      "0.10692293\n"
     ]
    },
    {
     "name": "stderr",
     "output_type": "stream",
     "text": [
      "\n",
      " 63%|██████▎   | 316/500 [08:00<04:59,  1.63s/it]\u001b[A"
     ]
    },
    {
     "name": "stdout",
     "output_type": "stream",
     "text": [
      "0.09582284\n"
     ]
    },
    {
     "name": "stderr",
     "output_type": "stream",
     "text": [
      "\n",
      " 63%|██████▎   | 317/500 [08:01<04:47,  1.57s/it]\u001b[A"
     ]
    },
    {
     "name": "stdout",
     "output_type": "stream",
     "text": [
      "0.07095759\n"
     ]
    },
    {
     "name": "stderr",
     "output_type": "stream",
     "text": [
      "\n",
      " 64%|██████▎   | 318/500 [08:03<04:53,  1.61s/it]\u001b[A"
     ]
    },
    {
     "name": "stdout",
     "output_type": "stream",
     "text": [
      "0.08789653\n"
     ]
    },
    {
     "name": "stderr",
     "output_type": "stream",
     "text": [
      "\n",
      " 64%|██████▍   | 319/500 [08:05<05:04,  1.68s/it]\u001b[A"
     ]
    },
    {
     "name": "stdout",
     "output_type": "stream",
     "text": [
      "0.1012547\n"
     ]
    },
    {
     "name": "stderr",
     "output_type": "stream",
     "text": [
      "\n",
      " 64%|██████▍   | 320/500 [08:06<05:06,  1.71s/it]\u001b[A"
     ]
    },
    {
     "name": "stdout",
     "output_type": "stream",
     "text": [
      "0.06628232\n"
     ]
    },
    {
     "name": "stderr",
     "output_type": "stream",
     "text": [
      "\n",
      " 64%|██████▍   | 321/500 [08:08<05:04,  1.70s/it]\u001b[A"
     ]
    },
    {
     "name": "stdout",
     "output_type": "stream",
     "text": [
      "0.08437668\n"
     ]
    },
    {
     "name": "stderr",
     "output_type": "stream",
     "text": [
      "\n",
      " 64%|██████▍   | 322/500 [08:10<04:55,  1.66s/it]\u001b[A"
     ]
    },
    {
     "name": "stdout",
     "output_type": "stream",
     "text": [
      "0.091193534\n"
     ]
    },
    {
     "name": "stderr",
     "output_type": "stream",
     "text": [
      "\n",
      " 65%|██████▍   | 323/500 [08:11<04:44,  1.61s/it]\u001b[A"
     ]
    },
    {
     "name": "stdout",
     "output_type": "stream",
     "text": [
      "0.10871296\n"
     ]
    },
    {
     "name": "stderr",
     "output_type": "stream",
     "text": [
      "\n",
      " 65%|██████▍   | 324/500 [08:13<04:31,  1.54s/it]\u001b[A"
     ]
    },
    {
     "name": "stdout",
     "output_type": "stream",
     "text": [
      "0.080696106\n"
     ]
    },
    {
     "name": "stderr",
     "output_type": "stream",
     "text": [
      "\n",
      " 65%|██████▌   | 325/500 [08:14<04:42,  1.61s/it]\u001b[A"
     ]
    },
    {
     "name": "stdout",
     "output_type": "stream",
     "text": [
      "0.09746447\n"
     ]
    },
    {
     "name": "stderr",
     "output_type": "stream",
     "text": [
      "\n",
      " 65%|██████▌   | 326/500 [08:16<04:44,  1.64s/it]\u001b[A"
     ]
    },
    {
     "name": "stdout",
     "output_type": "stream",
     "text": [
      "0.09310403\n"
     ]
    },
    {
     "name": "stderr",
     "output_type": "stream",
     "text": [
      "\n",
      " 65%|██████▌   | 327/500 [08:18<05:14,  1.82s/it]\u001b[A"
     ]
    },
    {
     "name": "stdout",
     "output_type": "stream",
     "text": [
      "0.07614778\n"
     ]
    },
    {
     "name": "stderr",
     "output_type": "stream",
     "text": [
      "\n",
      " 66%|██████▌   | 328/500 [08:20<05:10,  1.80s/it]\u001b[A"
     ]
    },
    {
     "name": "stdout",
     "output_type": "stream",
     "text": [
      "0.08176534\n"
     ]
    },
    {
     "name": "stderr",
     "output_type": "stream",
     "text": [
      "\n",
      " 66%|██████▌   | 329/500 [08:21<04:37,  1.62s/it]\u001b[A"
     ]
    },
    {
     "name": "stdout",
     "output_type": "stream",
     "text": [
      "0.09563361\n"
     ]
    },
    {
     "name": "stderr",
     "output_type": "stream",
     "text": [
      "\n",
      " 66%|██████▌   | 330/500 [08:23<04:23,  1.55s/it]\u001b[A"
     ]
    },
    {
     "name": "stdout",
     "output_type": "stream",
     "text": [
      "0.10010766\n"
     ]
    },
    {
     "name": "stderr",
     "output_type": "stream",
     "text": [
      "\n",
      " 66%|██████▌   | 331/500 [08:24<04:14,  1.50s/it]\u001b[A"
     ]
    },
    {
     "name": "stdout",
     "output_type": "stream",
     "text": [
      "0.09382248\n"
     ]
    },
    {
     "name": "stderr",
     "output_type": "stream",
     "text": [
      "\n",
      " 66%|██████▋   | 332/500 [08:25<04:06,  1.46s/it]\u001b[A"
     ]
    },
    {
     "name": "stdout",
     "output_type": "stream",
     "text": [
      "0.080525704\n"
     ]
    },
    {
     "name": "stderr",
     "output_type": "stream",
     "text": [
      "\n",
      " 67%|██████▋   | 333/500 [08:27<03:56,  1.42s/it]\u001b[A"
     ]
    },
    {
     "name": "stdout",
     "output_type": "stream",
     "text": [
      "0.083188176\n"
     ]
    },
    {
     "name": "stderr",
     "output_type": "stream",
     "text": [
      "\n",
      " 67%|██████▋   | 334/500 [08:28<04:02,  1.46s/it]\u001b[A"
     ]
    },
    {
     "name": "stdout",
     "output_type": "stream",
     "text": [
      "0.08695\n"
     ]
    },
    {
     "name": "stderr",
     "output_type": "stream",
     "text": [
      "\n",
      " 67%|██████▋   | 335/500 [08:30<03:48,  1.39s/it]\u001b[A"
     ]
    },
    {
     "name": "stdout",
     "output_type": "stream",
     "text": [
      "0.09025284\n"
     ]
    },
    {
     "name": "stderr",
     "output_type": "stream",
     "text": [
      "\n",
      " 67%|██████▋   | 336/500 [08:31<03:59,  1.46s/it]\u001b[A"
     ]
    },
    {
     "name": "stdout",
     "output_type": "stream",
     "text": [
      "0.102982305\n"
     ]
    },
    {
     "name": "stderr",
     "output_type": "stream",
     "text": [
      "\n",
      " 67%|██████▋   | 337/500 [08:33<04:15,  1.57s/it]\u001b[A"
     ]
    },
    {
     "name": "stdout",
     "output_type": "stream",
     "text": [
      "0.0727878\n"
     ]
    },
    {
     "name": "stderr",
     "output_type": "stream",
     "text": [
      "\n",
      " 68%|██████▊   | 338/500 [08:35<04:21,  1.61s/it]\u001b[A"
     ]
    },
    {
     "name": "stdout",
     "output_type": "stream",
     "text": [
      "0.07433616\n"
     ]
    },
    {
     "name": "stderr",
     "output_type": "stream",
     "text": [
      "\n",
      " 68%|██████▊   | 339/500 [08:36<04:05,  1.52s/it]\u001b[A"
     ]
    },
    {
     "name": "stdout",
     "output_type": "stream",
     "text": [
      "0.07707713\n"
     ]
    },
    {
     "name": "stderr",
     "output_type": "stream",
     "text": [
      "\n",
      " 68%|██████▊   | 340/500 [08:37<03:59,  1.49s/it]\u001b[A"
     ]
    },
    {
     "name": "stdout",
     "output_type": "stream",
     "text": [
      "0.06265352\n"
     ]
    },
    {
     "name": "stderr",
     "output_type": "stream",
     "text": [
      "\n",
      " 68%|██████▊   | 341/500 [08:39<03:51,  1.45s/it]\u001b[A"
     ]
    },
    {
     "name": "stdout",
     "output_type": "stream",
     "text": [
      "0.08061257\n"
     ]
    },
    {
     "name": "stderr",
     "output_type": "stream",
     "text": [
      "\n",
      " 68%|██████▊   | 342/500 [08:40<03:46,  1.43s/it]\u001b[A"
     ]
    },
    {
     "name": "stdout",
     "output_type": "stream",
     "text": [
      "0.06329684\n"
     ]
    },
    {
     "name": "stderr",
     "output_type": "stream",
     "text": [
      "\n",
      " 69%|██████▊   | 343/500 [08:41<03:38,  1.39s/it]\u001b[A"
     ]
    },
    {
     "name": "stdout",
     "output_type": "stream",
     "text": [
      "0.08402084\n"
     ]
    },
    {
     "name": "stderr",
     "output_type": "stream",
     "text": [
      "\n",
      " 69%|██████▉   | 344/500 [08:43<03:21,  1.29s/it]\u001b[A"
     ]
    },
    {
     "name": "stdout",
     "output_type": "stream",
     "text": [
      "0.12197809\n"
     ]
    },
    {
     "name": "stderr",
     "output_type": "stream",
     "text": [
      "\n",
      " 69%|██████▉   | 345/500 [08:44<03:27,  1.34s/it]\u001b[A"
     ]
    },
    {
     "name": "stdout",
     "output_type": "stream",
     "text": [
      "0.06217679\n"
     ]
    },
    {
     "name": "stderr",
     "output_type": "stream",
     "text": [
      "\n",
      " 69%|██████▉   | 346/500 [08:45<03:26,  1.34s/it]\u001b[A"
     ]
    },
    {
     "name": "stdout",
     "output_type": "stream",
     "text": [
      "0.068635665\n"
     ]
    },
    {
     "name": "stderr",
     "output_type": "stream",
     "text": [
      "\n",
      " 69%|██████▉   | 347/500 [08:47<03:25,  1.34s/it]\u001b[A"
     ]
    },
    {
     "name": "stdout",
     "output_type": "stream",
     "text": [
      "0.06881845\n"
     ]
    },
    {
     "name": "stderr",
     "output_type": "stream",
     "text": [
      "\n",
      " 70%|██████▉   | 348/500 [08:48<03:24,  1.34s/it]\u001b[A"
     ]
    },
    {
     "name": "stdout",
     "output_type": "stream",
     "text": [
      "0.09559417\n"
     ]
    },
    {
     "name": "stderr",
     "output_type": "stream",
     "text": [
      "\n",
      " 70%|██████▉   | 349/500 [08:50<03:52,  1.54s/it]\u001b[A"
     ]
    },
    {
     "name": "stdout",
     "output_type": "stream",
     "text": [
      "0.073916905\n"
     ]
    },
    {
     "name": "stderr",
     "output_type": "stream",
     "text": [
      "\n",
      " 70%|███████   | 350/500 [08:52<04:10,  1.67s/it]\u001b[A"
     ]
    },
    {
     "name": "stdout",
     "output_type": "stream",
     "text": [
      "0.07998005\n"
     ]
    },
    {
     "name": "stderr",
     "output_type": "stream",
     "text": [
      "\n",
      " 70%|███████   | 351/500 [08:53<04:00,  1.62s/it]\u001b[A"
     ]
    },
    {
     "name": "stdout",
     "output_type": "stream",
     "text": [
      "0.08976663\n"
     ]
    },
    {
     "name": "stderr",
     "output_type": "stream",
     "text": [
      "\n",
      " 70%|███████   | 352/500 [08:55<03:54,  1.58s/it]\u001b[A"
     ]
    },
    {
     "name": "stdout",
     "output_type": "stream",
     "text": [
      "0.08040439\n"
     ]
    },
    {
     "name": "stderr",
     "output_type": "stream",
     "text": [
      "\n",
      " 71%|███████   | 353/500 [08:57<04:07,  1.68s/it]\u001b[A"
     ]
    },
    {
     "name": "stdout",
     "output_type": "stream",
     "text": [
      "0.06771537\n"
     ]
    },
    {
     "name": "stderr",
     "output_type": "stream",
     "text": [
      "\n",
      " 71%|███████   | 354/500 [08:58<03:53,  1.60s/it]\u001b[A"
     ]
    },
    {
     "name": "stdout",
     "output_type": "stream",
     "text": [
      "0.07597205\n"
     ]
    },
    {
     "name": "stderr",
     "output_type": "stream",
     "text": [
      "\n",
      " 71%|███████   | 355/500 [09:00<03:46,  1.56s/it]\u001b[A"
     ]
    },
    {
     "name": "stdout",
     "output_type": "stream",
     "text": [
      "0.0743837\n"
     ]
    },
    {
     "name": "stderr",
     "output_type": "stream",
     "text": [
      "\n",
      " 71%|███████   | 356/500 [09:01<03:41,  1.54s/it]\u001b[A"
     ]
    },
    {
     "name": "stdout",
     "output_type": "stream",
     "text": [
      "0.06357067\n"
     ]
    },
    {
     "name": "stderr",
     "output_type": "stream",
     "text": [
      "\n",
      " 71%|███████▏  | 357/500 [09:03<03:50,  1.61s/it]\u001b[A"
     ]
    },
    {
     "name": "stdout",
     "output_type": "stream",
     "text": [
      "0.059313968\n"
     ]
    },
    {
     "name": "stderr",
     "output_type": "stream",
     "text": [
      "\n",
      " 72%|███████▏  | 358/500 [09:05<03:49,  1.62s/it]\u001b[A"
     ]
    },
    {
     "name": "stdout",
     "output_type": "stream",
     "text": [
      "0.06588169\n"
     ]
    },
    {
     "name": "stderr",
     "output_type": "stream",
     "text": [
      "\n",
      " 72%|███████▏  | 359/500 [09:06<03:56,  1.68s/it]\u001b[A"
     ]
    },
    {
     "name": "stdout",
     "output_type": "stream",
     "text": [
      "0.064688854\n"
     ]
    },
    {
     "name": "stderr",
     "output_type": "stream",
     "text": [
      "\n",
      " 72%|███████▏  | 360/500 [09:09<04:14,  1.82s/it]\u001b[A"
     ]
    },
    {
     "name": "stdout",
     "output_type": "stream",
     "text": [
      "0.06993858\n"
     ]
    },
    {
     "name": "stderr",
     "output_type": "stream",
     "text": [
      "\n",
      " 72%|███████▏  | 361/500 [09:11<04:14,  1.83s/it]\u001b[A"
     ]
    },
    {
     "name": "stdout",
     "output_type": "stream",
     "text": [
      "0.07711356\n"
     ]
    },
    {
     "name": "stderr",
     "output_type": "stream",
     "text": [
      "\n",
      " 72%|███████▏  | 362/500 [09:12<04:06,  1.79s/it]\u001b[A"
     ]
    },
    {
     "name": "stdout",
     "output_type": "stream",
     "text": [
      "0.058975734\n"
     ]
    },
    {
     "name": "stderr",
     "output_type": "stream",
     "text": [
      "\n",
      " 73%|███████▎  | 363/500 [09:14<03:55,  1.72s/it]\u001b[A"
     ]
    },
    {
     "name": "stdout",
     "output_type": "stream",
     "text": [
      "0.06947661\n"
     ]
    },
    {
     "name": "stderr",
     "output_type": "stream",
     "text": [
      "\n",
      " 73%|███████▎  | 364/500 [09:16<04:03,  1.79s/it]\u001b[A"
     ]
    },
    {
     "name": "stdout",
     "output_type": "stream",
     "text": [
      "0.068387695\n"
     ]
    },
    {
     "name": "stderr",
     "output_type": "stream",
     "text": [
      "\n",
      " 73%|███████▎  | 365/500 [09:17<03:50,  1.71s/it]\u001b[A"
     ]
    },
    {
     "name": "stdout",
     "output_type": "stream",
     "text": [
      "0.07113871\n"
     ]
    },
    {
     "name": "stderr",
     "output_type": "stream",
     "text": [
      "\n",
      " 73%|███████▎  | 366/500 [09:19<03:41,  1.65s/it]\u001b[A"
     ]
    },
    {
     "name": "stdout",
     "output_type": "stream",
     "text": [
      "0.075441465\n"
     ]
    },
    {
     "name": "stderr",
     "output_type": "stream",
     "text": [
      "\n",
      " 73%|███████▎  | 367/500 [09:21<03:44,  1.69s/it]\u001b[A"
     ]
    },
    {
     "name": "stdout",
     "output_type": "stream",
     "text": [
      "0.052047126\n"
     ]
    },
    {
     "name": "stderr",
     "output_type": "stream",
     "text": [
      "\n",
      " 74%|███████▎  | 368/500 [09:22<03:48,  1.73s/it]\u001b[A"
     ]
    },
    {
     "name": "stdout",
     "output_type": "stream",
     "text": [
      "0.06529285\n"
     ]
    },
    {
     "name": "stderr",
     "output_type": "stream",
     "text": [
      "\n",
      " 74%|███████▍  | 369/500 [09:24<04:02,  1.85s/it]\u001b[A"
     ]
    },
    {
     "name": "stdout",
     "output_type": "stream",
     "text": [
      "0.056940667\n"
     ]
    },
    {
     "name": "stderr",
     "output_type": "stream",
     "text": [
      "\n",
      " 74%|███████▍  | 370/500 [09:26<03:49,  1.77s/it]\u001b[A"
     ]
    },
    {
     "name": "stdout",
     "output_type": "stream",
     "text": [
      "0.07497941\n"
     ]
    },
    {
     "name": "stderr",
     "output_type": "stream",
     "text": [
      "\n",
      " 74%|███████▍  | 371/500 [09:28<04:00,  1.87s/it]\u001b[A"
     ]
    },
    {
     "name": "stdout",
     "output_type": "stream",
     "text": [
      "0.065880656\n"
     ]
    },
    {
     "name": "stderr",
     "output_type": "stream",
     "text": [
      "\n",
      " 74%|███████▍  | 372/500 [09:30<04:04,  1.91s/it]\u001b[A"
     ]
    },
    {
     "name": "stdout",
     "output_type": "stream",
     "text": [
      "0.06296463\n"
     ]
    },
    {
     "name": "stderr",
     "output_type": "stream",
     "text": [
      "\n",
      " 75%|███████▍  | 373/500 [09:32<03:43,  1.76s/it]\u001b[A"
     ]
    },
    {
     "name": "stdout",
     "output_type": "stream",
     "text": [
      "0.07506911\n"
     ]
    },
    {
     "name": "stderr",
     "output_type": "stream",
     "text": [
      "\n",
      " 75%|███████▍  | 374/500 [09:33<03:25,  1.63s/it]\u001b[A"
     ]
    },
    {
     "name": "stdout",
     "output_type": "stream",
     "text": [
      "0.080962814\n"
     ]
    },
    {
     "name": "stderr",
     "output_type": "stream",
     "text": [
      "\n",
      " 75%|███████▌  | 375/500 [09:34<03:19,  1.59s/it]\u001b[A"
     ]
    },
    {
     "name": "stdout",
     "output_type": "stream",
     "text": [
      "0.07131349\n"
     ]
    },
    {
     "name": "stderr",
     "output_type": "stream",
     "text": [
      "\n",
      " 75%|███████▌  | 376/500 [09:36<03:02,  1.47s/it]\u001b[A"
     ]
    },
    {
     "name": "stdout",
     "output_type": "stream",
     "text": [
      "0.07162372\n"
     ]
    },
    {
     "name": "stderr",
     "output_type": "stream",
     "text": [
      "\n",
      " 75%|███████▌  | 377/500 [09:37<02:50,  1.39s/it]\u001b[A"
     ]
    },
    {
     "name": "stdout",
     "output_type": "stream",
     "text": [
      "0.06869971\n"
     ]
    },
    {
     "name": "stderr",
     "output_type": "stream",
     "text": [
      "\n",
      " 76%|███████▌  | 378/500 [09:38<02:37,  1.29s/it]\u001b[A"
     ]
    },
    {
     "name": "stdout",
     "output_type": "stream",
     "text": [
      "0.08643358\n"
     ]
    },
    {
     "name": "stderr",
     "output_type": "stream",
     "text": [
      "\n",
      " 76%|███████▌  | 379/500 [09:39<02:40,  1.33s/it]\u001b[A"
     ]
    },
    {
     "name": "stdout",
     "output_type": "stream",
     "text": [
      "0.07472441\n"
     ]
    },
    {
     "name": "stderr",
     "output_type": "stream",
     "text": [
      "\n",
      " 76%|███████▌  | 380/500 [09:41<02:40,  1.34s/it]\u001b[A"
     ]
    },
    {
     "name": "stdout",
     "output_type": "stream",
     "text": [
      "0.056513153\n"
     ]
    },
    {
     "name": "stderr",
     "output_type": "stream",
     "text": [
      "\n",
      " 76%|███████▌  | 381/500 [09:42<02:33,  1.29s/it]\u001b[A"
     ]
    },
    {
     "name": "stdout",
     "output_type": "stream",
     "text": [
      "0.080745205\n"
     ]
    },
    {
     "name": "stderr",
     "output_type": "stream",
     "text": [
      "\n",
      " 76%|███████▋  | 382/500 [09:43<02:31,  1.29s/it]\u001b[A"
     ]
    },
    {
     "name": "stdout",
     "output_type": "stream",
     "text": [
      "0.06831119\n"
     ]
    },
    {
     "name": "stderr",
     "output_type": "stream",
     "text": [
      "\n",
      " 77%|███████▋  | 383/500 [09:44<02:32,  1.30s/it]\u001b[A"
     ]
    },
    {
     "name": "stdout",
     "output_type": "stream",
     "text": [
      "0.09640615\n"
     ]
    },
    {
     "name": "stderr",
     "output_type": "stream",
     "text": [
      "\n",
      " 77%|███████▋  | 384/500 [09:46<02:31,  1.31s/it]\u001b[A"
     ]
    },
    {
     "name": "stdout",
     "output_type": "stream",
     "text": [
      "0.07256133\n"
     ]
    },
    {
     "name": "stderr",
     "output_type": "stream",
     "text": [
      "\n",
      " 77%|███████▋  | 385/500 [09:48<02:55,  1.52s/it]\u001b[A"
     ]
    },
    {
     "name": "stdout",
     "output_type": "stream",
     "text": [
      "0.060105305\n"
     ]
    },
    {
     "name": "stderr",
     "output_type": "stream",
     "text": [
      "\n",
      " 77%|███████▋  | 386/500 [09:49<02:53,  1.52s/it]\u001b[A"
     ]
    },
    {
     "name": "stdout",
     "output_type": "stream",
     "text": [
      "0.0731437\n"
     ]
    },
    {
     "name": "stderr",
     "output_type": "stream",
     "text": [
      "\n",
      " 77%|███████▋  | 387/500 [09:51<02:57,  1.57s/it]\u001b[A"
     ]
    },
    {
     "name": "stdout",
     "output_type": "stream",
     "text": [
      "0.06803204\n"
     ]
    },
    {
     "ename": "ValueError",
     "evalue": "operands could not be broadcast together with shapes (3,49000) (5,49000) ",
     "output_type": "error",
     "traceback": [
      "\u001b[0;31m---------------------------------------------------------------------------\u001b[0m",
      "\u001b[0;31mValueError\u001b[0m                                Traceback (most recent call last)",
      "\u001b[0;32m<ipython-input-19-7be002633d30>\u001b[0m in \u001b[0;36m<module>\u001b[0;34m\u001b[0m\n\u001b[1;32m      8\u001b[0m     \u001b[0mX_noise_batch\u001b[0m \u001b[0;34m=\u001b[0m \u001b[0mload_noise_batch\u001b[0m\u001b[0;34m(\u001b[0m\u001b[0mbatch_num\u001b[0m\u001b[0;34m)\u001b[0m\u001b[0;34m\u001b[0m\u001b[0;34m\u001b[0m\u001b[0m\n\u001b[1;32m      9\u001b[0m \u001b[0;34m\u001b[0m\u001b[0m\n\u001b[0;32m---> 10\u001b[0;31m     \u001b[0mX_batch\u001b[0m \u001b[0;34m=\u001b[0m \u001b[0mX_voice_batch\u001b[0m \u001b[0;34m+\u001b[0m \u001b[0mX_noise_batch\u001b[0m\u001b[0;34m\u001b[0m\u001b[0;34m\u001b[0m\u001b[0m\n\u001b[0m\u001b[1;32m     11\u001b[0m     \u001b[0mX_batch\u001b[0m \u001b[0;34m=\u001b[0m \u001b[0maudios_to_spectrograms\u001b[0m\u001b[0;34m(\u001b[0m\u001b[0mX_batch\u001b[0m\u001b[0;34m,\u001b[0m \u001b[0msr\u001b[0m\u001b[0;34m)\u001b[0m\u001b[0;34m[\u001b[0m\u001b[0;34m:\u001b[0m\u001b[0;34m,\u001b[0m \u001b[0;32mNone\u001b[0m\u001b[0;34m,\u001b[0m \u001b[0;34m:\u001b[0m\u001b[0;34m,\u001b[0m \u001b[0;34m:\u001b[0m\u001b[0;34m]\u001b[0m\u001b[0;34m\u001b[0m\u001b[0;34m\u001b[0m\u001b[0m\n\u001b[1;32m     12\u001b[0m \u001b[0;34m\u001b[0m\u001b[0m\n",
      "\u001b[0;31mValueError\u001b[0m: operands could not be broadcast together with shapes (3,49000) (5,49000) "
     ]
    }
   ],
   "source": [
    "crit = nn.MSELoss()\n",
    "losses = []\n",
    "\n",
    "batch_num = 5\n",
    "\n",
    "for epoch in tqdm(range(500)):\n",
    "    X_voice_batch = load_voice_batch(batch_num)\n",
    "    X_noise_batch = load_noise_batch(batch_num)\n",
    "    \n",
    "    X_batch = X_voice_batch + X_noise_batch\n",
    "    X_batch = audios_to_spectrograms(X_batch, sr)[:, None, :, :]\n",
    "    \n",
    "    Y_batch = audios_to_spectrograms(X_voice_batch, sr)[:, None, :, :]\n",
    "    \n",
    "    X_batch = torch.from_numpy(X_batch).to(device, dtype)\n",
    "    Y_batch = torch.from_numpy(Y_batch).to(device, dtype)\n",
    "    \n",
    "    \n",
    "    vin.opt.zero_grad()\n",
    "    Y = vin.forward(X_batch)\n",
    "    loss = crit(Y, Y_batch)\n",
    "    \n",
    "    loss.backward()\n",
    "    \n",
    "    vin.opt.step()\n",
    "    \n",
    "    losses.append(loss.detach().cpu().numpy())\n",
    "    print(loss.detach().cpu().numpy())\n",
    "    \n",
    "plt.plot(np.arange(len(losses)), losses)"
   ]
  },
  {
   "cell_type": "code",
   "execution_count": 20,
   "metadata": {},
   "outputs": [
    {
     "data": {
      "image/png": "[encoded data removed]",
      "text/plain": [
       "<Figure size 720x288 with 2 Axes>"
      ]
     },
     "metadata": {
      "needs_background": "light"
     },
     "output_type": "display_data"
    },
    {
     "data": {
      "image/png": "[encoded data removed]",
      "text/plain": [
       "<Figure size 720x288 with 2 Axes>"
      ]
     },
     "metadata": {
      "needs_background": "light"
     },
     "output_type": "display_data"
    },
    {
     "data": {
      "text/html": [
       "\n",
       "                <audio  controls=\"controls\" >\n",
       "                    <source src=\"data:audio/wav;base64,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\" type=\"audio/wav\" />\n",
       "                    Your browser does not support the audio element.\n",
       "                </audio>\n",
       "              "
      ],
      "text/plain": [
       "<IPython.lib.display.Audio object>"
      ]
     },
     "metadata": {},
     "output_type": "display_data"
    },
    {
     "data": {
      "text/html": [
       "\n",
       "                <audio  controls=\"controls\" >\n",
       "                    <source src=\"data:audio/wav;base64,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\" type=\"audio/wav\" />\n",
       "                    Your browser does not support the audio element.\n",
       "                </audio>\n",
       "              "
      ],
      "text/plain": [
       "<IPython.lib.display.Audio object>"
      ]
     },
     "metadata": {},
     "output_type": "display_data"
    }
   ],
   "source": [
    "Y_pred = vin.forward(X_test2)[0,0].detach().cpu().numpy()\n",
    "\n",
    "show_spectrogram(Y_pred, sr)\n",
    "plt.show()\n",
    "show_spectrogram(Y_test2[0,0].detach().cpu().numpy(), sr)\n",
    "plt.show()\n",
    "play_audio(spectrogram_to_audio(Y_pred, sr), sr)\n",
    "play_audio(spectrogram_to_audio(Y_test2[0,0], sr), sr)"
   ]
  },
  {
   "cell_type": "code",
   "execution_count": null,
   "metadata": {},
   "outputs": [],
   "source": []
  },
  {
   "cell_type": "code",
   "execution_count": null,
   "metadata": {},
   "outputs": [],
   "source": []
  },
  {
   "cell_type": "code",
   "execution_count": null,
   "metadata": {},
   "outputs": [],
   "source": []
  },
  {
   "cell_type": "code",
   "execution_count": null,
   "metadata": {},
   "outputs": [],
   "source": []
  },
  {
   "cell_type": "code",
   "execution_count": null,
   "metadata": {},
   "outputs": [],
   "source": []
  },
  {
   "cell_type": "code",
   "execution_count": null,
   "metadata": {},
   "outputs": [],
   "source": []
  },
  {
   "cell_type": "code",
   "execution_count": null,
   "metadata": {},
   "outputs": [],
   "source": []
  },
  {
   "cell_type": "code",
   "execution_count": null,
   "metadata": {},
   "outputs": [],
   "source": []
  },
  {
   "cell_type": "code",
   "execution_count": null,
   "metadata": {},
   "outputs": [],
   "source": []
  },
  {
   "cell_type": "code",
   "execution_count": null,
   "metadata": {},
   "outputs": [],
   "source": [
    "class TempNet(nn.Module):\n",
    "    def __init__(self):\n",
    "        super(TempNet, self).__init__()\n",
    "        self.conv1 = nn.Conv2d(1, 2, 3, padding=1)\n",
    "        self.conv2 = nn.Conv2d(2, 4, 3, padding=1)\n",
    "        self.conv3 = nn.Conv2d(4, 8, 3, padding=1)\n",
    "        \n",
    "        self.convt1 = nn.ConvTranspose2d(8, 4, 3, padding=1)\n",
    "        self.convt2 = nn.ConvTranspose2d(4, 2, 3, padding=1)\n",
    "        self.convt3 = nn.ConvTranspose2d(2, 1, 3, padding=1)\n",
    "        \n",
    "        self.opt = torch.optim.Adam(self.parameters(), lr=0.001)\n",
    "    \n",
    "    def forward(self, x):\n",
    "        x = self.conv1(x)\n",
    "        x = self.conv2(x)\n",
    "        x = self.conv3(x)\n",
    "        \n",
    "        x = self.convt1(x)\n",
    "        x = self.convt2(x)\n",
    "        x = self.convt3(x)\n",
    "        x = torch.tanh(x)\n",
    "        \n",
    "        return x\n",
    "    \n",
    "tn = TempNet().to(device)"
   ]
  },
  {
   "cell_type": "code",
   "execution_count": null,
   "metadata": {},
   "outputs": [],
   "source": [
    "X = torch.from_numpy(spectrogram)[None, None, ...].float()"
   ]
  },
  {
   "cell_type": "code",
   "execution_count": null,
   "metadata": {},
   "outputs": [],
   "source": [
    "spectrogramp = tn.forward(X).detach().cpu().numpy()[0,0]\n",
    "show_spectrogram(spectrogramp, sr)\n",
    "plt.show()\n",
    "play_audio(spectrogram_to_audio(spectrogramp, sr, normalize=True), sr)"
   ]
  },
  {
   "cell_type": "code",
   "execution_count": null,
   "metadata": {
    "scrolled": true
   },
   "outputs": [],
   "source": [
    "crit = nn.MSELoss()\n",
    "losses = []\n",
    "for epoch in tqdm(range(500)):\n",
    "    Y = tn.forward(X)\n",
    "    loss = crit(X, Y)\n",
    "    \n",
    "    loss.backward()\n",
    "    \n",
    "    tn.opt.step()\n",
    "    tn.opt.zero_grad()\n",
    "    \n",
    "    losses.append(loss.detach().cpu().numpy())\n",
    "    \n",
    "plt.plot(np.arange(len(losses)), losses)"
   ]
  },
  {
   "cell_type": "code",
   "execution_count": null,
   "metadata": {},
   "outputs": [],
   "source": [
    "spectrogramp = tn.forward(X).detach().cpu().numpy()[0,0]\n",
    "show_spectrogram(spectrogramp, sr)\n",
    "play_audio(spectrogram_to_audio(spectrogramp, sr, normalize=True), sr)"
   ]
  },
  {
   "cell_type": "markdown",
   "metadata": {},
   "source": [
    "# Idea for the future:\n",
    "\n",
    "\n",
    "so we make a audio classifer. Train it heavily with lots of data and use Conv1d\n",
    "\n",
    "D: raw audio -> is human speech or not\n",
    "\n",
    "\n",
    "Then we train network to take mixed audio signal and seperate it into speech and noise\n",
    "\n",
    "we make sure speech is speech with D. we can make sure noise is noise with ~D. the sum should be the signal\n",
    "\n",
    "\n",
    "compare these results with the simple noisy -> speech model\n"
   ]
  }
 ],
 "metadata": {
  "kernelspec": {
   "display_name": "Python 3",
   "language": "python",
   "name": "python3"
  },
  "language_info": {
   "codemirror_mode": {
    "name": "ipython",
    "version": 3
   },
   "file_extension": ".py",
   "mimetype": "text/x-python",
   "name": "python",
   "nbconvert_exporter": "python",
   "pygments_lexer": "ipython3",
   "version": "3.7.1"
  }
 },
 "nbformat": 4,
 "nbformat_minor": 4
}
