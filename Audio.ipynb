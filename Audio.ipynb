{
 "cells": [
  {
   "cell_type": "code",
   "execution_count": 1,
   "metadata": {},
   "outputs": [
    {
     "name": "stdout",
     "output_type": "stream",
     "text": [
      "cpu\n"
     ]
    }
   ],
   "source": [
    "%matplotlib inline\n",
    "import matplotlib.pyplot as plt\n",
    "import numpy as np\n",
    "# from scipy import signal\n",
    "# from scipy.io import wavfile\n",
    "\n",
    "from tqdm import tqdm\n",
    "\n",
    "import librosa\n",
    "import librosa.display\n",
    "\n",
    "import torch\n",
    "import torch.nn as nn\n",
    "\n",
    "\n",
    "device = torch.device('cuda' if torch.cuda.is_available() else 'cpu')\n",
    "dtype = torch.float\n",
    "\n",
    "print(device)"
   ]
  },
  {
   "cell_type": "code",
   "execution_count": 2,
   "metadata": {},
   "outputs": [],
   "source": [
    "from IPython.display import Audio, display, clear_output\n",
    "\n",
    "def play_audio(y, sr, autoplay=False):\n",
    "    display(Audio(y, rate=sr, autoplay=autoplay))\n",
    "    \n",
    "def audio_to_spectrogram(y, sr, normalize=True):\n",
    "    spectrogram = librosa.feature.melspectrogram(y=y, sr=sr)\n",
    "    spectrogram = librosa.power_to_db(spectrogram, ref=np.max)\n",
    "    if normalize:\n",
    "        spectrogram = np.interp(spectrogram, (-80., 0.), (-1., +1.))\n",
    "    return spectrogram\n",
    "def audios_to_spectrograms(ys, sr, normalize=True):\n",
    "    spectrograms = []\n",
    "    for y in ys:\n",
    "        spectrograms.append(audio_to_spectrogram(y, sr, normalize))\n",
    "    return np.array(spectrograms)\n",
    "def spectrogram_to_audio(spectrogram, sr, normalize=True):\n",
    "    if normalize:\n",
    "        spectrogram = np.interp(spectrogram, (-1., +1.), (-80., 0.))\n",
    "    spectrogram = librosa.db_to_power(spectrogram)\n",
    "    yp = librosa.feature.inverse.mel_to_audio(spectrogram, sr=sr)\n",
    "    return yp\n",
    "\n",
    "# def my_audio_to_spectrogram(y, sr):\n",
    "#     return librosa.stft(y)\n",
    "\n",
    "# def my_spectrogram_to_audio(spectrogram, sr):\n",
    "#     return librosa.istft(spectrogram)\n",
    "\n",
    "\n",
    "def add_spectrograms(*spectrograms, normalize=True):\n",
    "    result = np.zeros_like(spectrograms[0])\n",
    "    for spectrogram in spectrograms:\n",
    "        if normalize:\n",
    "            spectrogram = np.interp(spectrogram, (-1., +1.), (-80., 0.))\n",
    "        result += librosa.db_to_power(spectrogram)\n",
    "    result = librosa.power_to_db(result)\n",
    "    if normalize:\n",
    "        result = np.interp(result, (-80., 0.), (-1., +1.))\n",
    "    return result\n",
    "# first - second - third, etc.\n",
    "def subtract_spectrograms(*spectrograms, normalize=True):\n",
    "    result = spectrograms[0]\n",
    "    if normalize:\n",
    "        result = np.interp(result, (-1., +1.), (-80., 0.))\n",
    "    result = librosa.db_to_power(result)\n",
    "\n",
    "    for i in range(1, len(spectrograms)):\n",
    "        spectrogram = spectrograms[i]\n",
    "        if normalize:\n",
    "            spectrogram = np.interp(spectrogram, (-1., +1.), (-80., 0.))\n",
    "        result -= librosa.db_to_power(spectrogram)\n",
    "    result = librosa.power_to_db(result)\n",
    "    if normalize:\n",
    "        result = np.interp(result, (-80., 0.), (-1., +1.))\n",
    "    return result\n",
    "\n",
    "\n",
    "\n",
    "def show_audio(y, sr):\n",
    "    librosa.display.waveplot(y=y, sr=sr)\n",
    "\n",
    "def show_spectrogram(spectrogram, sr):\n",
    "    plt.figure(figsize=(10, 4))\n",
    "    librosa.display.specshow(spectrogram, x_axis='time', y_axis='mel', sr=sr, fmax=8000, cmap='gray')\n",
    "    plt.colorbar(format='%2.2f')\n",
    "    plt.title('Mel-frequency spectrogram')\n",
    "    plt.tight_layout()"
   ]
  },
  {
   "cell_type": "code",
   "execution_count": null,
   "metadata": {},
   "outputs": [],
   "source": [
    "y, sr = librosa.load('datasets/samples/bee.wav', sr=None, mono=True, offset=0.0, duration=None)\n",
    "print('sample rate: ',sr)\n",
    "print('y.shape', y.shape)"
   ]
  },
  {
   "cell_type": "code",
   "execution_count": null,
   "metadata": {},
   "outputs": [],
   "source": [
    "y, sr = librosa.load('/Users/akarshkumar0101/Developer/Class/DSProject/datasets/LibriSpeech/LibriSpeech/dev-clean/2078/142845/2078-142845-0036.flac', sr=None, mono=True, offset=0.0, duration=None)\n",
    "print('sample rate: ',sr)\n",
    "print('y.shape', y.shape)"
   ]
  },
  {
   "cell_type": "code",
   "execution_count": null,
   "metadata": {},
   "outputs": [],
   "source": [
    "y, sr = librosa.load(librosa.util.example_audio_file(), sr=None, mono=True, offset=0.0, duration=None)\n",
    "print('sample rate: ',sr)\n",
    "print('y.shape', y.shape)"
   ]
  },
  {
   "cell_type": "code",
   "execution_count": null,
   "metadata": {},
   "outputs": [],
   "source": [
    "sr = 10000\n",
    "full = np.arange(sr*10)\n",
    "y = np.sin(0.3*full)#*np.sqrt(full))\n",
    "y2 = np.sin(0.5*full)\n",
    "del full\n",
    "\n",
    "# y=y[0:500]\n",
    "print('sample rate: ',sr)\n",
    "print('y.shape', y.shape)\n",
    "\n"
   ]
  },
  {
   "cell_type": "code",
   "execution_count": null,
   "metadata": {},
   "outputs": [],
   "source": [
    "show_audio(y, sr)\n",
    "plt.title('original audio')\n",
    "plt.show()\n",
    "\n",
    "play_audio(y, sr)"
   ]
  },
  {
   "cell_type": "code",
   "execution_count": null,
   "metadata": {},
   "outputs": [],
   "source": [
    "spectrogram = audio_to_spectrogram(y, sr, normalize=True)\n",
    "\n",
    "show_spectrogram(spectrogram, sr)\n",
    "plt.show()"
   ]
  },
  {
   "cell_type": "code",
   "execution_count": null,
   "metadata": {},
   "outputs": [],
   "source": [
    "yp = spectrogram_to_audio(spectrogram, sr, normalize=True)\n",
    "show_audio(yp, sr)\n",
    "plt.title('reconstructed audio')\n",
    "plt.show()\n",
    "play_audio(yp, sr)"
   ]
  },
  {
   "cell_type": "code",
   "execution_count": null,
   "metadata": {},
   "outputs": [],
   "source": []
  },
  {
   "cell_type": "code",
   "execution_count": null,
   "metadata": {},
   "outputs": [],
   "source": [
    "y_noise = 0.3*np.sin(0.2 * np.arange(len(y)))\n",
    "\n",
    "sy1 = audio_to_spectrogram(y, sr)\n",
    "sy2 = audio_to_spectrogram(y_noise, sr)\n",
    "sz = audio_to_spectrogram(y+y_noise, sr)\n",
    "sz2 = add_spectrograms(sy1, sy2)\n",
    "\n",
    "sy1re = subtract_spectrograms(sz2, sy2)\n",
    "\n",
    "\n",
    "#     spectrogram = librosa.feature.melspectrogram(y=y, sr=sr)\n",
    "#     spectrogram = librosa.power_to_db(spectrogram, ref=np.max)\n",
    "#     if normalize:\n",
    "#         spectrogram = np.interp(spectrogram, (-80., 0.), (-1., +1.))\n",
    "\n",
    "\n",
    "# spectrogram = librosa.db_to_power(spectrogram)\n",
    "#     yp = librosa.feature.inverse.mel_to_audio(spectrogram, sr=sr)\n",
    "\n",
    "play_audio(y+y_noise, sr)\n",
    "# play_audio(spectrogram_to_audio(sz, sr), sr)\n",
    "\n",
    "# play_audio(spectrogram_to_audio(sz2, sr), sr)\n",
    "play_audio(spectrogram_to_audio(sy1re, sr), sr)\n",
    "\n",
    "\n"
   ]
  },
  {
   "cell_type": "code",
   "execution_count": null,
   "metadata": {},
   "outputs": [],
   "source": []
  },
  {
   "cell_type": "code",
   "execution_count": null,
   "metadata": {},
   "outputs": [],
   "source": []
  },
  {
   "cell_type": "code",
   "execution_count": null,
   "metadata": {},
   "outputs": [],
   "source": []
  },
  {
   "cell_type": "code",
   "execution_count": null,
   "metadata": {},
   "outputs": [],
   "source": []
  },
  {
   "cell_type": "code",
   "execution_count": null,
   "metadata": {},
   "outputs": [],
   "source": []
  },
  {
   "cell_type": "code",
   "execution_count": null,
   "metadata": {},
   "outputs": [],
   "source": []
  },
  {
   "cell_type": "code",
   "execution_count": 3,
   "metadata": {},
   "outputs": [],
   "source": [
    "import os\n",
    "voice_dir = 'datasets/LibriSpeech/LibriSpeech/dev-clean'\n",
    "noise_dir = 'datasets/urban/UrbanSound8K/audio'\n",
    "\n",
    "voice_files, noise_files = [], []\n",
    "\n",
    "for r, d, f in os.walk(voice_dir):\n",
    "    for file in f:\n",
    "        if file.endswith('.flac'):\n",
    "            voice_files.append(os.path.join(r, file))\n",
    "\n",
    "for r, d, f in os.walk(noise_dir):\n",
    "    for file in f:\n",
    "        if file.endswith('.wav'):\n",
    "            noise_files.append(os.path.join(r, file))\n"
   ]
  },
  {
   "cell_type": "code",
   "execution_count": 4,
   "metadata": {},
   "outputs": [],
   "source": [
    "global current_voice_i\n",
    "global current_noise_i\n",
    "current_voice_i = 0\n",
    "current_noise_i = 0\n",
    "\n",
    "sr = 10000\n",
    "duration = 4.9\n",
    "sample_length = int(duration * sr)\n",
    "\n",
    "\n",
    "def set_sample_length(y, sample_length):\n",
    "    if len(y) > sample_length:\n",
    "        y = y[:sample_length]\n",
    "    if len(y) < sample_length:\n",
    "        factor = sample_length//len(y)\n",
    "        oy = y.copy()\n",
    "        for i in range(factor-1):\n",
    "            y = np.concatenate((y, oy), axis=0)\n",
    "        leftover = sample_length - len(y)\n",
    "        y = np.concatenate((y, oy[:leftover]), axis=0)\n",
    "    return y\n",
    "\n",
    "def load_voice_batch(batch_num):\n",
    "    global current_voice_i\n",
    "    i = current_voice_i % len(voice_files)\n",
    "    files = voice_files[i: i+batch_num]\n",
    "    current_voice_i += batch_num\n",
    "    \n",
    "    ys = []\n",
    "    for file in files:\n",
    "        y, _ = librosa.load(file, sr=sr, mono=True, offset=0.0, duration=None)\n",
    "        y = set_sample_length(y, sample_length)\n",
    "        ys.append(y)\n",
    "    return np.array(ys)\n",
    "    \n",
    "def load_noise_batch(batch_num):\n",
    "    global current_noise_i\n",
    "    i = current_noise_i % len(noise_files)\n",
    "    files = noise_files[i: i+batch_num]\n",
    "    current_noise_i += batch_num\n",
    "    \n",
    "    ys = []\n",
    "    for file in files:\n",
    "        y, _ = librosa.load(file, sr=sr, mono=True, offset=0.0, duration=None)\n",
    "        y = set_sample_length(y, sample_length)\n",
    "        ys.append(y)\n",
    "    return np.array(ys)\n"
   ]
  },
  {
   "cell_type": "code",
   "execution_count": 5,
   "metadata": {},
   "outputs": [],
   "source": [
    "X_voice_test = load_voice_batch(100)\n",
    "X_noise_test = load_noise_batch(100)"
   ]
  },
  {
   "cell_type": "code",
   "execution_count": 6,
   "metadata": {},
   "outputs": [],
   "source": [
    "Y_voice_test = np.ones(X_voice_test.shape[0])\n",
    "Y_noise_test = np.zeros(X_noise_test.shape[0])\n",
    "\n",
    "X_test = np.concatenate((X_voice_test, X_noise_test), axis=0)\n",
    "Y_test = np.concatenate((Y_voice_test, Y_noise_test), axis=0)\n",
    "\n",
    "X_test = audios_to_spectrograms(X_test, sr)[:, None, :, :]\n",
    "\n",
    "X_test = torch.from_numpy(X_test).to(device, dtype)\n",
    "Y_test = torch.from_numpy(Y_test).to(device, dtype)"
   ]
  },
  {
   "cell_type": "code",
   "execution_count": 7,
   "metadata": {},
   "outputs": [],
   "source": [
    "X_test2 = audios_to_spectrograms(X_voice_test[:1] + X_noise_test[:1], sr)[:, None, :, :]\n",
    "Y_test2 = audios_to_spectrograms(X_voice_test[:1], sr)[:, None, :, :]\n",
    "\n",
    "X_test2 = torch.from_numpy(X_test2).to(device, dtype)\n",
    "Y_test2 = torch.from_numpy(Y_test2).to(device, dtype)"
   ]
  },
  {
   "cell_type": "code",
   "execution_count": null,
   "metadata": {},
   "outputs": [],
   "source": []
  },
  {
   "cell_type": "code",
   "execution_count": null,
   "metadata": {},
   "outputs": [],
   "source": [
    "class VoiceRecogNet(nn.Module):\n",
    "    def __init__(self):\n",
    "        super(VoiceRecogNet, self).__init__()\n",
    "        self.maxpool = nn.MaxPool2d((2,2))\n",
    "        self.conv1 = nn.Conv2d(1, 4, 3, padding=1)\n",
    "        self.conv2 = nn.Conv2d(4, 16, 3, padding=1)\n",
    "        self.conv3 = nn.Conv2d(16, 64, 3, padding=1)\n",
    "        self.linear = nn.Linear(12288, 100)\n",
    "        self.linear2 = nn.Linear(100, 10)\n",
    "        self.linear3 = nn.Linear(10, 1)\n",
    "        \n",
    "        self.opt = torch.optim.Adam(self.parameters(), lr=0.001)\n",
    "    \n",
    "    def forward(self, x):\n",
    "\n",
    "        x = self.conv1(x)\n",
    "        x = self.maxpool(x)\n",
    "        x = torch.tanh(x)\n",
    "\n",
    "        x = self.conv2(x)\n",
    "        x = self.maxpool(x)\n",
    "        x = torch.tanh(x)\n",
    "\n",
    "        x = self.conv3(x)\n",
    "        x = self.maxpool(x)\n",
    "        x = torch.tanh(x)\n",
    "        \n",
    "        x = x.view(x.shape[0], -1)\n",
    "        \n",
    "        x = self.linear(x)\n",
    "        x = torch.relu(x)\n",
    "        \n",
    "        x = self.linear2(x)\n",
    "        x = torch.relu(x)\n",
    "        \n",
    "        x = self.linear3(x)\n",
    "        x = torch.sigmoid(x)\n",
    "        \n",
    "        return x\n",
    "    \n",
    "vrn = VoiceRecogNet().to(device)"
   ]
  },
  {
   "cell_type": "code",
   "execution_count": null,
   "metadata": {},
   "outputs": [],
   "source": [
    "crit = nn.BCELoss()\n",
    "\n",
    "Y_test_pred = vrn.forward(X_test)[:, 0]\n",
    "print('BSE: ', crit(Y_test_pred, Y_test))\n",
    "\n",
    "Y_test_pred_ = Y_test_pred.detach().cpu().numpy()\n",
    "Y_test_ = Y_test.detach().cpu().numpy()\n",
    "\n",
    "accuracy = ((Y_test_pred_>0.5) == (Y_test_>0.5)).sum()/len(Y_test)\n",
    "print('accuracy: ', accuracy)\n",
    "\n",
    "\n",
    "del Y_test_pred_\n",
    "del Y_test_\n"
   ]
  },
  {
   "cell_type": "code",
   "execution_count": null,
   "metadata": {
    "scrolled": true
   },
   "outputs": [],
   "source": [
    "crit = nn.BCELoss()\n",
    "losses = []\n",
    "batch_num = 5\n",
    "for epoch in tqdm(range(100)):\n",
    "    X_voice_batch = load_voice_batch(batch_num)\n",
    "    X_noise_batch = load_noise_batch(batch_num)\n",
    "    Y_voice_batch = np.ones(X_voice_batch.shape[0])\n",
    "    Y_noise_batch = np.zeros(X_noise_batch.shape[0])\n",
    "    \n",
    "    X_batch = np.concatenate((X_voice_batch, X_noise_batch), axis=0)\n",
    "    Y_batch = np.concatenate((Y_voice_batch, Y_noise_batch), axis=0)\n",
    "    \n",
    "    X_batch = audios_to_spectrograms(X_batch, sr)[:, None, :, :]\n",
    "    \n",
    "    X_batch = torch.from_numpy(X_batch).to(device, dtype)\n",
    "    Y_batch = torch.from_numpy(Y_batch).to(device, dtype)\n",
    "    \n",
    "    \n",
    "    vrn.opt.zero_grad()\n",
    "    Y = vrn.forward(X_batch)[:, 0]\n",
    "    loss = crit(Y, Y_batch)\n",
    "    \n",
    "    loss.backward()\n",
    "    \n",
    "    vrn.opt.step()\n",
    "    \n",
    "    losses.append(loss.detach().cpu().numpy())\n",
    "    print(loss.detach().cpu().numpy())\n",
    "    \n",
    "plt.plot(np.arange(len(losses)), losses)"
   ]
  },
  {
   "cell_type": "code",
   "execution_count": null,
   "metadata": {},
   "outputs": [],
   "source": [
    "crit = nn.BCELoss()\n",
    "\n",
    "Y_test_pred = vrn.forward(X_test)[:, 0]\n",
    "print('BSE: ', crit(Y_test_pred, Y_test))\n",
    "\n",
    "Y_test_pred_ = Y_test_pred.detach().cpu().numpy()\n",
    "Y_test_ = Y_test.detach().cpu().numpy()\n",
    "\n",
    "accuracy = ((Y_test_pred_>0.5) == (Y_test_>0.5)).sum()/len(Y_test)\n",
    "print('accuracy: ', accuracy)\n",
    "\n",
    "\n",
    "del Y_test_pred_\n",
    "del Y_test_\n"
   ]
  },
  {
   "cell_type": "code",
   "execution_count": null,
   "metadata": {},
   "outputs": [],
   "source": []
  },
  {
   "cell_type": "code",
   "execution_count": 8,
   "metadata": {},
   "outputs": [],
   "source": [
    "class VoiceIsolaterNet(nn.Module):\n",
    "    def __init__(self):\n",
    "        super(VoiceIsolaterNet, self).__init__()\n",
    "        self.maxpool = nn.MaxPool2d((2,2), return_indices=True)\n",
    "        self.maxunpool = nn.MaxUnpool2d((2,2))\n",
    "        self.conv1 = nn.Conv2d(1, 4, 3, padding=1)\n",
    "        self.conv2 = nn.Conv2d(4, 16, 3, padding=1)\n",
    "        self.conv3 = nn.Conv2d(16, 64, 3, padding=1)\n",
    "        \n",
    "        self.linear1 = nn.Linear(12288, 100)\n",
    "        self.linear2 = nn.Linear(100, 12288)\n",
    "        \n",
    "        self.convt1 = nn.ConvTranspose2d(64, 16, 3, padding=1)\n",
    "        self.convt2 = nn.ConvTranspose2d(16, 4, 3, padding=1)\n",
    "        self.convt3 = nn.ConvTranspose2d(4, 1, 3, padding=1)\n",
    "        \n",
    "        self.opt = torch.optim.Adam(self.parameters(), lr=0.001)\n",
    "    \n",
    "    def forward(self, x):\n",
    "\n",
    "        x = self.conv1(x)\n",
    "        x, ind1 = self.maxpool(x)\n",
    "        x = torch.tanh(x)\n",
    "\n",
    "        x = self.conv2(x)\n",
    "        x, ind2 = self.maxpool(x)\n",
    "        x = torch.tanh(x)\n",
    "\n",
    "        x = self.conv3(x)\n",
    "        x, ind3 = self.maxpool(x)\n",
    "        x = torch.tanh(x)\n",
    "        \n",
    "        sh = x.shape\n",
    "        y = x.view(x.shape[0], -1)\n",
    "        y = self.linear1(y)\n",
    "        y = torch.relu(y)\n",
    "        \n",
    "        y = self.linear2(y)\n",
    "        y = torch.relu(y)\n",
    "        \n",
    "        y = y.view(sh)\n",
    "        \n",
    "        \n",
    "        x = x+y\n",
    "        x = self.maxunpool(x, ind3)\n",
    "        x = self.convt1(x)\n",
    "        x = torch.tanh(x)\n",
    "        \n",
    "        x = self.maxunpool(x, ind2)        \n",
    "        x = self.convt2(x)\n",
    "        x = torch.tanh(x)\n",
    "        \n",
    "        x = self.maxunpool(x, ind1)\n",
    "        x = self.convt3(x)\n",
    "        x = torch.tanh(x)\n",
    "        \n",
    "        return x\n",
    "    \n",
    "vin = VoiceIsolaterNet().to(device)"
   ]
  },
  {
   "cell_type": "code",
   "execution_count": 9,
   "metadata": {},
   "outputs": [
    {
     "data": {
      "text/html": [
       "\n",
       "                <audio  controls=\"controls\" >\n",
       "                    <source src=\"data:audio/wav;base64,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\" type=\"audio/wav\" />\n",
       "                    Your browser does not support the audio element.\n",
       "                </audio>\n",
       "              "
      ],
      "text/plain": [
       "<IPython.lib.display.Audio object>"
      ]
     },
     "metadata": {},
     "output_type": "display_data"
    },
    {
     "data": {
      "image/png": "[encoded data removed]",
      "text/plain": [
       "<Figure size 720x288 with 2 Axes>"
      ]
     },
     "metadata": {
      "needs_background": "light"
     },
     "output_type": "display_data"
    }
   ],
   "source": [
    "Y_pred = vin.forward(X_test2)[0,0].detach().cpu().numpy()\n",
    "\n",
    "show_spectrogram(Y_pred, sr)\n",
    "play_audio(spectrogram_to_audio(Y_pred, sr), sr)"
   ]
  },
  {
   "cell_type": "code",
   "execution_count": 19,
   "metadata": {},
   "outputs": [
    {
     "name": "stderr",
     "output_type": "stream",
     "text": [
      "\n",
      "  0%|          | 0/500 [00:00<?, ?it/s]\u001b[A\n",
      "  0%|          | 1/500 [00:02<22:43,  2.73s/it]\u001b[A"
     ]
    },
    {
     "name": "stdout",
     "output_type": "stream",
     "text": [
      "0.07712539\n"
     ]
    },
    {
     "name": "stderr",
     "output_type": "stream",
     "text": [
      "\n",
      "  0%|          | 2/500 [00:04<20:11,  2.43s/it]\u001b[A"
     ]
    },
    {
     "name": "stdout",
     "output_type": "stream",
     "text": [
      "0.08197549\n"
     ]
    },
    {
     "name": "stderr",
     "output_type": "stream",
     "text": [
      "\n",
      "  1%|          | 3/500 [00:06<19:07,  2.31s/it]\u001b[A"
     ]
    },
    {
     "name": "stdout",
     "output_type": "stream",
     "text": [
      "0.10562257\n"
     ]
    },
    {
     "name": "stderr",
     "output_type": "stream",
     "text": [
      "\n",
      "  1%|          | 4/500 [00:08<17:16,  2.09s/it]\u001b[A"
     ]
    },
    {
     "name": "stdout",
     "output_type": "stream",
     "text": [
      "0.1754962\n"
     ]
    },
    {
     "name": "stderr",
     "output_type": "stream",
     "text": [
      "\n",
      "  1%|          | 5/500 [00:09<15:06,  1.83s/it]\u001b[A"
     ]
    },
    {
     "name": "stdout",
     "output_type": "stream",
     "text": [
      "0.09833839\n"
     ]
    },
    {
     "name": "stderr",
     "output_type": "stream",
     "text": [
      "\n",
      "  1%|          | 6/500 [00:10<14:01,  1.70s/it]\u001b[A"
     ]
    },
    {
     "name": "stdout",
     "output_type": "stream",
     "text": [
      "0.11707321\n"
     ]
    },
    {
     "name": "stderr",
     "output_type": "stream",
     "text": [
      "\n",
      "  1%|▏         | 7/500 [00:11<12:48,  1.56s/it]\u001b[A"
     ]
    },
    {
     "name": "stdout",
     "output_type": "stream",
     "text": [
      "0.086125016\n"
     ]
    },
    {
     "name": "stderr",
     "output_type": "stream",
     "text": [
      "\n",
      "  2%|▏         | 8/500 [00:13<12:18,  1.50s/it]\u001b[A"
     ]
    },
    {
     "name": "stdout",
     "output_type": "stream",
     "text": [
      "0.10904036\n"
     ]
    },
    {
     "name": "stderr",
     "output_type": "stream",
     "text": [
      "\n",
      "  2%|▏         | 9/500 [00:15<13:25,  1.64s/it]\u001b[A"
     ]
    },
    {
     "name": "stdout",
     "output_type": "stream",
     "text": [
      "0.10177757\n"
     ]
    },
    {
     "name": "stderr",
     "output_type": "stream",
     "text": [
      "\n",
      "  2%|▏         | 10/500 [00:16<13:09,  1.61s/it]\u001b[A"
     ]
    },
    {
     "name": "stdout",
     "output_type": "stream",
     "text": [
      "0.10642029\n"
     ]
    },
    {
     "name": "stderr",
     "output_type": "stream",
     "text": [
      "\n",
      "  2%|▏         | 11/500 [00:18<12:34,  1.54s/it]\u001b[A"
     ]
    },
    {
     "name": "stdout",
     "output_type": "stream",
     "text": [
      "0.104496166\n"
     ]
    },
    {
     "name": "stderr",
     "output_type": "stream",
     "text": [
      "\n",
      "  2%|▏         | 12/500 [00:19<12:56,  1.59s/it]\u001b[A"
     ]
    },
    {
     "name": "stdout",
     "output_type": "stream",
     "text": [
      "0.088683076\n"
     ]
    },
    {
     "name": "stderr",
     "output_type": "stream",
     "text": [
      "\n",
      "  3%|▎         | 13/500 [00:21<13:35,  1.67s/it]\u001b[A"
     ]
    },
    {
     "name": "stdout",
     "output_type": "stream",
     "text": [
      "0.091221236\n"
     ]
    },
    {
     "name": "stderr",
     "output_type": "stream",
     "text": [
      "\n",
      "  3%|▎         | 14/500 [00:23<13:56,  1.72s/it]\u001b[A"
     ]
    },
    {
     "name": "stdout",
     "output_type": "stream",
     "text": [
      "0.093607076\n"
     ]
    },
    {
     "name": "stderr",
     "output_type": "stream",
     "text": [
      "\n",
      "  3%|▎         | 15/500 [00:25<14:27,  1.79s/it]\u001b[A"
     ]
    },
    {
     "name": "stdout",
     "output_type": "stream",
     "text": [
      "0.099697836\n"
     ]
    },
    {
     "name": "stderr",
     "output_type": "stream",
     "text": [
      "\n",
      "  3%|▎         | 16/500 [00:27<14:05,  1.75s/it]\u001b[A"
     ]
    },
    {
     "name": "stdout",
     "output_type": "stream",
     "text": [
      "0.11526404\n"
     ]
    },
    {
     "name": "stderr",
     "output_type": "stream",
     "text": [
      "\n",
      "  3%|▎         | 17/500 [00:28<14:04,  1.75s/it]\u001b[A"
     ]
    },
    {
     "name": "stdout",
     "output_type": "stream",
     "text": [
      "0.14059502\n"
     ]
    },
    {
     "name": "stderr",
     "output_type": "stream",
     "text": [
      "\n",
      "  4%|▎         | 18/500 [00:30<14:22,  1.79s/it]\u001b[A"
     ]
    },
    {
     "name": "stdout",
     "output_type": "stream",
     "text": [
      "0.11067058\n"
     ]
    },
    {
     "name": "stderr",
     "output_type": "stream",
     "text": [
      "\n",
      "  4%|▍         | 19/500 [00:32<14:09,  1.77s/it]\u001b[A"
     ]
    },
    {
     "name": "stdout",
     "output_type": "stream",
     "text": [
      "0.096273564\n"
     ]
    },
    {
     "name": "stderr",
     "output_type": "stream",
     "text": [
      "\n",
      "  4%|▍         | 20/500 [00:34<14:01,  1.75s/it]\u001b[A"
     ]
    },
    {
     "name": "stdout",
     "output_type": "stream",
     "text": [
      "0.111506544\n"
     ]
    },
    {
     "name": "stderr",
     "output_type": "stream",
     "text": [
      "\n",
      "  4%|▍         | 21/500 [00:35<13:19,  1.67s/it]\u001b[A"
     ]
    },
    {
     "name": "stdout",
     "output_type": "stream",
     "text": [
      "0.118251085\n"
     ]
    },
    {
     "name": "stderr",
     "output_type": "stream",
     "text": [
      "\n",
      "  4%|▍         | 22/500 [00:37<13:30,  1.69s/it]\u001b[A"
     ]
    },
    {
     "name": "stdout",
     "output_type": "stream",
     "text": [
      "0.123633035\n"
     ]
    },
    {
     "name": "stderr",
     "output_type": "stream",
     "text": [
      "\n",
      "  5%|▍         | 23/500 [00:39<13:41,  1.72s/it]\u001b[A"
     ]
    },
    {
     "name": "stdout",
     "output_type": "stream",
     "text": [
      "0.13435729\n"
     ]
    },
    {
     "name": "stderr",
     "output_type": "stream",
     "text": [
      "\n",
      "  5%|▍         | 24/500 [00:41<13:45,  1.73s/it]\u001b[A"
     ]
    },
    {
     "name": "stdout",
     "output_type": "stream",
     "text": [
      "0.16362207\n"
     ]
    },
    {
     "name": "stderr",
     "output_type": "stream",
     "text": [
      "\n",
      "  5%|▌         | 25/500 [00:43<14:22,  1.82s/it]\u001b[A"
     ]
    },
    {
     "name": "stdout",
     "output_type": "stream",
     "text": [
      "0.12006011\n"
     ]
    },
    {
     "name": "stderr",
     "output_type": "stream",
     "text": [
      "\n",
      "  5%|▌         | 26/500 [00:44<13:43,  1.74s/it]\u001b[A"
     ]
    },
    {
     "name": "stdout",
     "output_type": "stream",
     "text": [
      "0.095200375\n"
     ]
    },
    {
     "name": "stderr",
     "output_type": "stream",
     "text": [
      "\n",
      "  5%|▌         | 27/500 [00:46<14:03,  1.78s/it]\u001b[A"
     ]
    },
    {
     "name": "stdout",
     "output_type": "stream",
     "text": [
      "0.104267076\n"
     ]
    },
    {
     "name": "stderr",
     "output_type": "stream",
     "text": [
      "\n",
      "  6%|▌         | 28/500 [00:48<13:50,  1.76s/it]\u001b[A"
     ]
    },
    {
     "name": "stdout",
     "output_type": "stream",
     "text": [
      "0.110975645\n"
     ]
    },
    {
     "name": "stderr",
     "output_type": "stream",
     "text": [
      "\n",
      "  6%|▌         | 29/500 [00:49<13:56,  1.78s/it]\u001b[A"
     ]
    },
    {
     "name": "stdout",
     "output_type": "stream",
     "text": [
      "0.09852481\n"
     ]
    },
    {
     "name": "stderr",
     "output_type": "stream",
     "text": [
      "\n",
      "  6%|▌         | 30/500 [00:51<14:05,  1.80s/it]\u001b[A"
     ]
    },
    {
     "name": "stdout",
     "output_type": "stream",
     "text": [
      "0.12271097\n"
     ]
    },
    {
     "name": "stderr",
     "output_type": "stream",
     "text": [
      "\n",
      "  6%|▌         | 31/500 [00:53<13:34,  1.74s/it]\u001b[A"
     ]
    },
    {
     "name": "stdout",
     "output_type": "stream",
     "text": [
      "0.13480856\n"
     ]
    },
    {
     "name": "stderr",
     "output_type": "stream",
     "text": [
      "\n",
      "  6%|▋         | 32/500 [00:55<13:35,  1.74s/it]\u001b[A"
     ]
    },
    {
     "name": "stdout",
     "output_type": "stream",
     "text": [
      "0.10671453\n"
     ]
    },
    {
     "name": "stderr",
     "output_type": "stream",
     "text": [
      "\n",
      "  7%|▋         | 33/500 [00:56<13:13,  1.70s/it]\u001b[A"
     ]
    },
    {
     "name": "stdout",
     "output_type": "stream",
     "text": [
      "0.11547418\n"
     ]
    },
    {
     "name": "stderr",
     "output_type": "stream",
     "text": [
      "\n",
      "  7%|▋         | 34/500 [00:58<13:30,  1.74s/it]\u001b[A"
     ]
    },
    {
     "name": "stdout",
     "output_type": "stream",
     "text": [
      "0.10452244\n"
     ]
    },
    {
     "name": "stderr",
     "output_type": "stream",
     "text": [
      "\n",
      "  7%|▋         | 35/500 [01:00<13:09,  1.70s/it]\u001b[A"
     ]
    },
    {
     "name": "stdout",
     "output_type": "stream",
     "text": [
      "0.105457656\n"
     ]
    },
    {
     "name": "stderr",
     "output_type": "stream",
     "text": [
      "\n",
      "  7%|▋         | 36/500 [01:02<13:24,  1.73s/it]\u001b[A"
     ]
    },
    {
     "name": "stdout",
     "output_type": "stream",
     "text": [
      "0.11490677\n"
     ]
    },
    {
     "name": "stderr",
     "output_type": "stream",
     "text": [
      "\n",
      "  7%|▋         | 37/500 [01:04<13:54,  1.80s/it]\u001b[A"
     ]
    },
    {
     "name": "stdout",
     "output_type": "stream",
     "text": [
      "0.13679408\n"
     ]
    },
    {
     "name": "stderr",
     "output_type": "stream",
     "text": [
      "\n",
      "  8%|▊         | 38/500 [01:06<14:27,  1.88s/it]\u001b[A"
     ]
    },
    {
     "name": "stdout",
     "output_type": "stream",
     "text": [
      "0.13429374\n"
     ]
    },
    {
     "name": "stderr",
     "output_type": "stream",
     "text": [
      "\n",
      "  8%|▊         | 39/500 [01:08<16:08,  2.10s/it]\u001b[A"
     ]
    },
    {
     "name": "stdout",
     "output_type": "stream",
     "text": [
      "0.10109691\n"
     ]
    },
    {
     "name": "stderr",
     "output_type": "stream",
     "text": [
      "\n",
      "  8%|▊         | 40/500 [01:10<14:54,  1.94s/it]\u001b[A"
     ]
    },
    {
     "name": "stdout",
     "output_type": "stream",
     "text": [
      "0.09715576\n"
     ]
    },
    {
     "name": "stderr",
     "output_type": "stream",
     "text": [
      "\n",
      "  8%|▊         | 41/500 [01:12<15:05,  1.97s/it]\u001b[A"
     ]
    },
    {
     "name": "stdout",
     "output_type": "stream",
     "text": [
      "0.13040668\n"
     ]
    },
    {
     "name": "stderr",
     "output_type": "stream",
     "text": [
      "\n",
      "  8%|▊         | 42/500 [01:13<14:08,  1.85s/it]\u001b[A"
     ]
    },
    {
     "name": "stdout",
     "output_type": "stream",
     "text": [
      "0.11442946\n"
     ]
    },
    {
     "name": "stderr",
     "output_type": "stream",
     "text": [
      "\n",
      "  9%|▊         | 43/500 [01:15<13:06,  1.72s/it]\u001b[A"
     ]
    },
    {
     "name": "stdout",
     "output_type": "stream",
     "text": [
      "0.115191065\n"
     ]
    },
    {
     "name": "stderr",
     "output_type": "stream",
     "text": [
      "\n",
      "  9%|▉         | 44/500 [01:16<12:07,  1.60s/it]\u001b[A"
     ]
    },
    {
     "name": "stdout",
     "output_type": "stream",
     "text": [
      "0.09423304\n"
     ]
    },
    {
     "name": "stderr",
     "output_type": "stream",
     "text": [
      "\n",
      "  9%|▉         | 45/500 [01:17<11:40,  1.54s/it]\u001b[A"
     ]
    },
    {
     "name": "stdout",
     "output_type": "stream",
     "text": [
      "0.10948798\n"
     ]
    },
    {
     "name": "stderr",
     "output_type": "stream",
     "text": [
      "\n",
      "  9%|▉         | 46/500 [01:19<11:40,  1.54s/it]\u001b[A"
     ]
    },
    {
     "name": "stdout",
     "output_type": "stream",
     "text": [
      "0.12277423\n"
     ]
    },
    {
     "name": "stderr",
     "output_type": "stream",
     "text": [
      "\n",
      "  9%|▉         | 47/500 [01:20<10:59,  1.46s/it]\u001b[A"
     ]
    },
    {
     "name": "stdout",
     "output_type": "stream",
     "text": [
      "0.1275407\n"
     ]
    },
    {
     "name": "stderr",
     "output_type": "stream",
     "text": [
      "\n",
      " 10%|▉         | 48/500 [01:22<10:53,  1.44s/it]\u001b[A"
     ]
    },
    {
     "name": "stdout",
     "output_type": "stream",
     "text": [
      "0.14242302\n"
     ]
    },
    {
     "name": "stderr",
     "output_type": "stream",
     "text": [
      "\n",
      " 10%|▉         | 49/500 [01:23<10:29,  1.40s/it]\u001b[A"
     ]
    },
    {
     "name": "stdout",
     "output_type": "stream",
     "text": [
      "0.15243737\n"
     ]
    },
    {
     "name": "stderr",
     "output_type": "stream",
     "text": [
      "\n",
      " 10%|█         | 50/500 [01:25<10:59,  1.46s/it]\u001b[A"
     ]
    },
    {
     "name": "stdout",
     "output_type": "stream",
     "text": [
      "0.13120383\n"
     ]
    },
    {
     "name": "stderr",
     "output_type": "stream",
     "text": [
      "\n",
      " 10%|█         | 51/500 [01:26<10:53,  1.45s/it]\u001b[A"
     ]
    },
    {
     "name": "stdout",
     "output_type": "stream",
     "text": [
      "0.10730388\n"
     ]
    },
    {
     "name": "stderr",
     "output_type": "stream",
     "text": [
      "\n",
      " 10%|█         | 52/500 [01:27<10:39,  1.43s/it]\u001b[A"
     ]
    },
    {
     "name": "stdout",
     "output_type": "stream",
     "text": [
      "0.12055978\n"
     ]
    },
    {
     "name": "stderr",
     "output_type": "stream",
     "text": [
      "\n",
      " 11%|█         | 53/500 [01:29<11:06,  1.49s/it]\u001b[A"
     ]
    },
    {
     "name": "stdout",
     "output_type": "stream",
     "text": [
      "0.0779311\n"
     ]
    },
    {
     "name": "stderr",
     "output_type": "stream",
     "text": [
      "\n",
      " 11%|█         | 54/500 [01:31<11:03,  1.49s/it]\u001b[A"
     ]
    },
    {
     "name": "stdout",
     "output_type": "stream",
     "text": [
      "0.10353483\n"
     ]
    },
    {
     "name": "stderr",
     "output_type": "stream",
     "text": [
      "\n",
      " 11%|█         | 55/500 [01:32<10:48,  1.46s/it]\u001b[A"
     ]
    },
    {
     "name": "stdout",
     "output_type": "stream",
     "text": [
      "0.15155801\n"
     ]
    },
    {
     "name": "stderr",
     "output_type": "stream",
     "text": [
      "\n",
      " 11%|█         | 56/500 [01:33<10:35,  1.43s/it]\u001b[A"
     ]
    },
    {
     "name": "stdout",
     "output_type": "stream",
     "text": [
      "0.12881272\n"
     ]
    },
    {
     "name": "stderr",
     "output_type": "stream",
     "text": [
      "\n",
      " 11%|█▏        | 57/500 [01:35<11:11,  1.52s/it]\u001b[A"
     ]
    },
    {
     "name": "stdout",
     "output_type": "stream",
     "text": [
      "0.10706616\n"
     ]
    },
    {
     "name": "stderr",
     "output_type": "stream",
     "text": [
      "\n",
      " 12%|█▏        | 58/500 [01:36<10:34,  1.44s/it]\u001b[A"
     ]
    },
    {
     "name": "stdout",
     "output_type": "stream",
     "text": [
      "0.12778229\n"
     ]
    },
    {
     "name": "stderr",
     "output_type": "stream",
     "text": [
      "\n",
      " 12%|█▏        | 59/500 [01:38<10:44,  1.46s/it]\u001b[A"
     ]
    },
    {
     "name": "stdout",
     "output_type": "stream",
     "text": [
      "0.12191753\n"
     ]
    },
    {
     "name": "stderr",
     "output_type": "stream",
     "text": [
      "\n",
      " 12%|█▏        | 60/500 [01:39<10:58,  1.50s/it]\u001b[A"
     ]
    },
    {
     "name": "stdout",
     "output_type": "stream",
     "text": [
      "0.112728216\n"
     ]
    },
    {
     "name": "stderr",
     "output_type": "stream",
     "text": [
      "\n",
      " 12%|█▏        | 61/500 [01:41<10:20,  1.41s/it]\u001b[A"
     ]
    },
    {
     "name": "stdout",
     "output_type": "stream",
     "text": [
      "0.11932543\n"
     ]
    },
    {
     "name": "stderr",
     "output_type": "stream",
     "text": [
      "\n",
      " 12%|█▏        | 62/500 [01:42<10:45,  1.47s/it]\u001b[A"
     ]
    },
    {
     "name": "stdout",
     "output_type": "stream",
     "text": [
      "0.10679822\n"
     ]
    },
    {
     "name": "stderr",
     "output_type": "stream",
     "text": [
      "\n",
      " 13%|█▎        | 63/500 [01:44<10:40,  1.47s/it]\u001b[A"
     ]
    },
    {
     "name": "stdout",
     "output_type": "stream",
     "text": [
      "0.10173259\n"
     ]
    },
    {
     "name": "stderr",
     "output_type": "stream",
     "text": [
      "\n",
      " 13%|█▎        | 64/500 [01:45<10:39,  1.47s/it]\u001b[A"
     ]
    },
    {
     "name": "stdout",
     "output_type": "stream",
     "text": [
      "0.099659\n"
     ]
    },
    {
     "name": "stderr",
     "output_type": "stream",
     "text": [
      "\n",
      " 13%|█▎        | 65/500 [01:47<11:20,  1.56s/it]\u001b[A"
     ]
    },
    {
     "name": "stdout",
     "output_type": "stream",
     "text": [
      "0.10310357\n"
     ]
    },
    {
     "name": "stderr",
     "output_type": "stream",
     "text": [
      "\n",
      " 13%|█▎        | 66/500 [01:49<12:13,  1.69s/it]\u001b[A"
     ]
    },
    {
     "name": "stdout",
     "output_type": "stream",
     "text": [
      "0.0845457\n"
     ]
    },
    {
     "name": "stderr",
     "output_type": "stream",
     "text": [
      "\n",
      " 13%|█▎        | 67/500 [01:51<12:35,  1.75s/it]\u001b[A"
     ]
    },
    {
     "name": "stdout",
     "output_type": "stream",
     "text": [
      "0.123436384\n"
     ]
    },
    {
     "name": "stderr",
     "output_type": "stream",
     "text": [
      "\n",
      " 14%|█▎        | 68/500 [01:53<12:46,  1.77s/it]\u001b[A"
     ]
    },
    {
     "name": "stdout",
     "output_type": "stream",
     "text": [
      "0.12664148\n"
     ]
    },
    {
     "name": "stderr",
     "output_type": "stream",
     "text": [
      "\n",
      " 14%|█▍        | 69/500 [01:55<13:02,  1.81s/it]\u001b[A"
     ]
    },
    {
     "name": "stdout",
     "output_type": "stream",
     "text": [
      "0.07258376\n"
     ]
    },
    {
     "name": "stderr",
     "output_type": "stream",
     "text": [
      "\n",
      " 14%|█▍        | 70/500 [01:56<13:18,  1.86s/it]\u001b[A"
     ]
    },
    {
     "name": "stdout",
     "output_type": "stream",
     "text": [
      "0.10262804\n"
     ]
    },
    {
     "name": "stderr",
     "output_type": "stream",
     "text": [
      "\n",
      " 14%|█▍        | 71/500 [01:58<13:03,  1.83s/it]\u001b[A"
     ]
    },
    {
     "name": "stdout",
     "output_type": "stream",
     "text": [
      "0.123347655\n"
     ]
    },
    {
     "name": "stderr",
     "output_type": "stream",
     "text": [
      "\n",
      " 14%|█▍        | 72/500 [02:00<12:48,  1.80s/it]\u001b[A"
     ]
    },
    {
     "name": "stdout",
     "output_type": "stream",
     "text": [
      "0.12209166\n"
     ]
    },
    {
     "name": "stderr",
     "output_type": "stream",
     "text": [
      "\n",
      " 15%|█▍        | 73/500 [02:02<12:20,  1.73s/it]\u001b[A"
     ]
    },
    {
     "name": "stdout",
     "output_type": "stream",
     "text": [
      "0.10673427\n"
     ]
    },
    {
     "name": "stderr",
     "output_type": "stream",
     "text": [
      "\n",
      " 15%|█▍        | 74/500 [02:03<12:17,  1.73s/it]\u001b[A"
     ]
    },
    {
     "name": "stdout",
     "output_type": "stream",
     "text": [
      "0.088229924\n"
     ]
    },
    {
     "name": "stderr",
     "output_type": "stream",
     "text": [
      "\n",
      " 15%|█▌        | 75/500 [02:05<12:14,  1.73s/it]\u001b[A"
     ]
    },
    {
     "name": "stdout",
     "output_type": "stream",
     "text": [
      "0.09382209\n"
     ]
    },
    {
     "name": "stderr",
     "output_type": "stream",
     "text": [
      "\n",
      " 15%|█▌        | 76/500 [02:06<11:27,  1.62s/it]\u001b[A"
     ]
    },
    {
     "name": "stdout",
     "output_type": "stream",
     "text": [
      "0.106135145\n"
     ]
    },
    {
     "name": "stderr",
     "output_type": "stream",
     "text": [
      "\n",
      " 15%|█▌        | 77/500 [02:08<11:01,  1.56s/it]\u001b[A"
     ]
    },
    {
     "name": "stdout",
     "output_type": "stream",
     "text": [
      "0.12149967\n"
     ]
    },
    {
     "name": "stderr",
     "output_type": "stream",
     "text": [
      "\n",
      " 16%|█▌        | 78/500 [02:09<10:24,  1.48s/it]\u001b[A"
     ]
    },
    {
     "name": "stdout",
     "output_type": "stream",
     "text": [
      "0.10813351\n"
     ]
    },
    {
     "name": "stderr",
     "output_type": "stream",
     "text": [
      "\n",
      " 16%|█▌        | 79/500 [02:11<10:42,  1.53s/it]\u001b[A"
     ]
    },
    {
     "name": "stdout",
     "output_type": "stream",
     "text": [
      "0.09019207\n"
     ]
    },
    {
     "name": "stderr",
     "output_type": "stream",
     "text": [
      "\n",
      " 16%|█▌        | 80/500 [02:12<11:12,  1.60s/it]\u001b[A"
     ]
    },
    {
     "name": "stdout",
     "output_type": "stream",
     "text": [
      "0.08764202\n"
     ]
    },
    {
     "name": "stderr",
     "output_type": "stream",
     "text": [
      "\n",
      " 16%|█▌        | 81/500 [02:14<11:25,  1.64s/it]\u001b[A"
     ]
    },
    {
     "name": "stdout",
     "output_type": "stream",
     "text": [
      "0.092194125\n"
     ]
    },
    {
     "name": "stderr",
     "output_type": "stream",
     "text": [
      "\n",
      " 16%|█▋        | 82/500 [02:16<11:11,  1.61s/it]\u001b[A"
     ]
    },
    {
     "name": "stdout",
     "output_type": "stream",
     "text": [
      "0.122517556\n"
     ]
    },
    {
     "name": "stderr",
     "output_type": "stream",
     "text": [
      "\n",
      " 17%|█▋        | 83/500 [02:17<10:48,  1.56s/it]\u001b[A"
     ]
    },
    {
     "name": "stdout",
     "output_type": "stream",
     "text": [
      "0.08655707\n"
     ]
    },
    {
     "name": "stderr",
     "output_type": "stream",
     "text": [
      "\n",
      " 17%|█▋        | 84/500 [02:19<10:28,  1.51s/it]\u001b[A"
     ]
    },
    {
     "name": "stdout",
     "output_type": "stream",
     "text": [
      "0.12823609\n"
     ]
    },
    {
     "name": "stderr",
     "output_type": "stream",
     "text": [
      "\n",
      " 17%|█▋        | 85/500 [02:20<10:19,  1.49s/it]\u001b[A"
     ]
    },
    {
     "name": "stdout",
     "output_type": "stream",
     "text": [
      "0.104022816\n"
     ]
    },
    {
     "name": "stderr",
     "output_type": "stream",
     "text": [
      "\n",
      " 17%|█▋        | 86/500 [02:21<09:58,  1.44s/it]\u001b[A"
     ]
    },
    {
     "name": "stdout",
     "output_type": "stream",
     "text": [
      "0.11852463\n"
     ]
    },
    {
     "name": "stderr",
     "output_type": "stream",
     "text": [
      "\n",
      " 17%|█▋        | 87/500 [02:23<10:09,  1.48s/it]\u001b[A"
     ]
    },
    {
     "name": "stdout",
     "output_type": "stream",
     "text": [
      "0.15948044\n"
     ]
    },
    {
     "name": "stderr",
     "output_type": "stream",
     "text": [
      "\n",
      " 18%|█▊        | 88/500 [02:24<09:30,  1.38s/it]\u001b[A"
     ]
    },
    {
     "name": "stdout",
     "output_type": "stream",
     "text": [
      "0.15709655\n"
     ]
    },
    {
     "name": "stderr",
     "output_type": "stream",
     "text": [
      "\n",
      " 18%|█▊        | 89/500 [02:26<10:12,  1.49s/it]\u001b[A"
     ]
    },
    {
     "name": "stdout",
     "output_type": "stream",
     "text": [
      "0.10271649\n"
     ]
    },
    {
     "name": "stderr",
     "output_type": "stream",
     "text": [
      "\n",
      " 18%|█▊        | 90/500 [02:27<10:06,  1.48s/it]\u001b[A"
     ]
    },
    {
     "name": "stdout",
     "output_type": "stream",
     "text": [
      "0.10795633\n"
     ]
    },
    {
     "name": "stderr",
     "output_type": "stream",
     "text": [
      "\n",
      " 18%|█▊        | 91/500 [02:29<09:56,  1.46s/it]\u001b[A"
     ]
    },
    {
     "name": "stdout",
     "output_type": "stream",
     "text": [
      "0.18963283\n"
     ]
    },
    {
     "name": "stderr",
     "output_type": "stream",
     "text": [
      "\n",
      " 18%|█▊        | 92/500 [02:30<09:31,  1.40s/it]\u001b[A"
     ]
    },
    {
     "name": "stdout",
     "output_type": "stream",
     "text": [
      "0.15762049\n"
     ]
    },
    {
     "name": "stderr",
     "output_type": "stream",
     "text": [
      "\n",
      " 19%|█▊        | 93/500 [02:32<10:25,  1.54s/it]\u001b[A"
     ]
    },
    {
     "name": "stdout",
     "output_type": "stream",
     "text": [
      "0.14793962\n"
     ]
    },
    {
     "name": "stderr",
     "output_type": "stream",
     "text": [
      "\n",
      " 19%|█▉        | 94/500 [02:33<10:28,  1.55s/it]\u001b[A"
     ]
    },
    {
     "name": "stdout",
     "output_type": "stream",
     "text": [
      "0.14152238\n"
     ]
    },
    {
     "name": "stderr",
     "output_type": "stream",
     "text": [
      "\n",
      " 19%|█▉        | 95/500 [02:35<10:07,  1.50s/it]\u001b[A"
     ]
    },
    {
     "name": "stdout",
     "output_type": "stream",
     "text": [
      "0.09809576\n"
     ]
    },
    {
     "name": "stderr",
     "output_type": "stream",
     "text": [
      "\n",
      " 19%|█▉        | 96/500 [02:36<10:11,  1.51s/it]\u001b[A"
     ]
    },
    {
     "name": "stdout",
     "output_type": "stream",
     "text": [
      "0.097367354\n"
     ]
    },
    {
     "name": "stderr",
     "output_type": "stream",
     "text": [
      "\n",
      " 19%|█▉        | 97/500 [02:38<10:32,  1.57s/it]\u001b[A"
     ]
    },
    {
     "name": "stdout",
     "output_type": "stream",
     "text": [
      "0.09152337\n"
     ]
    },
    {
     "name": "stderr",
     "output_type": "stream",
     "text": [
      "\n",
      " 20%|█▉        | 98/500 [02:39<10:12,  1.52s/it]\u001b[A"
     ]
    },
    {
     "name": "stdout",
     "output_type": "stream",
     "text": [
      "0.12692551\n"
     ]
    },
    {
     "name": "stderr",
     "output_type": "stream",
     "text": [
      "\n",
      " 20%|█▉        | 99/500 [02:41<10:12,  1.53s/it]\u001b[A"
     ]
    },
    {
     "name": "stdout",
     "output_type": "stream",
     "text": [
      "0.11870106\n"
     ]
    },
    {
     "name": "stderr",
     "output_type": "stream",
     "text": [
      "\n",
      " 20%|██        | 100/500 [02:42<10:00,  1.50s/it]\u001b[A"
     ]
    },
    {
     "name": "stdout",
     "output_type": "stream",
     "text": [
      "0.10571037\n"
     ]
    },
    {
     "name": "stderr",
     "output_type": "stream",
     "text": [
      "\n",
      " 20%|██        | 101/500 [02:44<09:17,  1.40s/it]\u001b[A"
     ]
    },
    {
     "name": "stdout",
     "output_type": "stream",
     "text": [
      "0.15539628\n"
     ]
    },
    {
     "name": "stderr",
     "output_type": "stream",
     "text": [
      "\n",
      " 20%|██        | 102/500 [02:45<08:50,  1.33s/it]\u001b[A"
     ]
    },
    {
     "name": "stdout",
     "output_type": "stream",
     "text": [
      "0.11621634\n"
     ]
    },
    {
     "name": "stderr",
     "output_type": "stream",
     "text": [
      "\n",
      " 21%|██        | 103/500 [02:46<08:45,  1.32s/it]\u001b[A"
     ]
    },
    {
     "name": "stdout",
     "output_type": "stream",
     "text": [
      "0.12704588\n"
     ]
    },
    {
     "name": "stderr",
     "output_type": "stream",
     "text": [
      "\n",
      " 21%|██        | 104/500 [02:48<09:17,  1.41s/it]\u001b[A"
     ]
    },
    {
     "name": "stdout",
     "output_type": "stream",
     "text": [
      "0.11054049\n"
     ]
    },
    {
     "name": "stderr",
     "output_type": "stream",
     "text": [
      "\n",
      " 21%|██        | 105/500 [02:49<09:32,  1.45s/it]\u001b[A"
     ]
    },
    {
     "name": "stdout",
     "output_type": "stream",
     "text": [
      "0.11558882\n"
     ]
    },
    {
     "name": "stderr",
     "output_type": "stream",
     "text": [
      "\n",
      " 21%|██        | 106/500 [02:51<09:25,  1.43s/it]\u001b[A"
     ]
    },
    {
     "name": "stdout",
     "output_type": "stream",
     "text": [
      "0.088806145\n"
     ]
    },
    {
     "name": "stderr",
     "output_type": "stream",
     "text": [
      "\n",
      " 21%|██▏       | 107/500 [02:52<09:24,  1.44s/it]\u001b[A"
     ]
    },
    {
     "name": "stdout",
     "output_type": "stream",
     "text": [
      "0.11654532\n"
     ]
    },
    {
     "name": "stderr",
     "output_type": "stream",
     "text": [
      "\n",
      " 22%|██▏       | 108/500 [02:54<09:41,  1.48s/it]\u001b[A"
     ]
    },
    {
     "name": "stdout",
     "output_type": "stream",
     "text": [
      "0.09900422\n"
     ]
    },
    {
     "name": "stderr",
     "output_type": "stream",
     "text": [
      "\n",
      " 22%|██▏       | 109/500 [02:55<10:01,  1.54s/it]\u001b[A"
     ]
    },
    {
     "name": "stdout",
     "output_type": "stream",
     "text": [
      "0.09466581\n"
     ]
    },
    {
     "name": "stderr",
     "output_type": "stream",
     "text": [
      "\n",
      " 22%|██▏       | 110/500 [02:57<09:40,  1.49s/it]\u001b[A"
     ]
    },
    {
     "name": "stdout",
     "output_type": "stream",
     "text": [
      "0.12732746\n"
     ]
    },
    {
     "name": "stderr",
     "output_type": "stream",
     "text": [
      "\n",
      " 22%|██▏       | 111/500 [02:58<09:25,  1.45s/it]\u001b[A"
     ]
    },
    {
     "name": "stdout",
     "output_type": "stream",
     "text": [
      "0.11364205\n"
     ]
    },
    {
     "name": "stderr",
     "output_type": "stream",
     "text": [
      "\n",
      " 22%|██▏       | 112/500 [02:59<09:19,  1.44s/it]\u001b[A"
     ]
    },
    {
     "name": "stdout",
     "output_type": "stream",
     "text": [
      "0.11495975\n"
     ]
    },
    {
     "name": "stderr",
     "output_type": "stream",
     "text": [
      "\n",
      " 23%|██▎       | 113/500 [03:01<08:35,  1.33s/it]\u001b[A"
     ]
    },
    {
     "name": "stdout",
     "output_type": "stream",
     "text": [
      "0.14277358\n"
     ]
    },
    {
     "name": "stderr",
     "output_type": "stream",
     "text": [
      "\n",
      " 23%|██▎       | 114/500 [03:02<08:54,  1.38s/it]\u001b[A"
     ]
    },
    {
     "name": "stdout",
     "output_type": "stream",
     "text": [
      "0.100111395\n"
     ]
    },
    {
     "name": "stderr",
     "output_type": "stream",
     "text": [
      "\n",
      " 23%|██▎       | 115/500 [03:03<08:47,  1.37s/it]\u001b[A"
     ]
    },
    {
     "name": "stdout",
     "output_type": "stream",
     "text": [
      "0.093576685\n"
     ]
    },
    {
     "name": "stderr",
     "output_type": "stream",
     "text": [
      "\n",
      " 23%|██▎       | 116/500 [03:05<08:53,  1.39s/it]\u001b[A"
     ]
    },
    {
     "name": "stdout",
     "output_type": "stream",
     "text": [
      "0.117544025\n"
     ]
    },
    {
     "name": "stderr",
     "output_type": "stream",
     "text": [
      "\n",
      " 23%|██▎       | 117/500 [03:06<08:49,  1.38s/it]\u001b[A"
     ]
    },
    {
     "name": "stdout",
     "output_type": "stream",
     "text": [
      "0.10795118\n"
     ]
    },
    {
     "name": "stderr",
     "output_type": "stream",
     "text": [
      "\n",
      " 24%|██▎       | 118/500 [03:07<08:21,  1.31s/it]\u001b[A"
     ]
    },
    {
     "name": "stdout",
     "output_type": "stream",
     "text": [
      "0.11838363\n"
     ]
    },
    {
     "name": "stderr",
     "output_type": "stream",
     "text": [
      "\n",
      " 24%|██▍       | 119/500 [03:09<08:37,  1.36s/it]\u001b[A"
     ]
    },
    {
     "name": "stdout",
     "output_type": "stream",
     "text": [
      "0.09438537\n"
     ]
    },
    {
     "name": "stderr",
     "output_type": "stream",
     "text": [
      "\n",
      " 24%|██▍       | 120/500 [03:10<08:39,  1.37s/it]\u001b[A"
     ]
    },
    {
     "name": "stdout",
     "output_type": "stream",
     "text": [
      "0.10407504\n"
     ]
    },
    {
     "name": "stderr",
     "output_type": "stream",
     "text": [
      "\n",
      " 24%|██▍       | 121/500 [03:12<08:44,  1.38s/it]\u001b[A"
     ]
    },
    {
     "name": "stdout",
     "output_type": "stream",
     "text": [
      "0.09655061\n"
     ]
    },
    {
     "name": "stderr",
     "output_type": "stream",
     "text": [
      "\n",
      " 24%|██▍       | 122/500 [03:13<08:36,  1.37s/it]\u001b[A"
     ]
    },
    {
     "name": "stdout",
     "output_type": "stream",
     "text": [
      "0.09944615\n"
     ]
    },
    {
     "name": "stderr",
     "output_type": "stream",
     "text": [
      "\n",
      " 25%|██▍       | 123/500 [03:14<08:18,  1.32s/it]\u001b[A"
     ]
    },
    {
     "name": "stdout",
     "output_type": "stream",
     "text": [
      "0.14200969\n"
     ]
    },
    {
     "name": "stderr",
     "output_type": "stream",
     "text": [
      "\n",
      " 25%|██▍       | 124/500 [03:16<08:47,  1.40s/it]\u001b[A"
     ]
    },
    {
     "name": "stdout",
     "output_type": "stream",
     "text": [
      "0.1279829\n"
     ]
    },
    {
     "name": "stderr",
     "output_type": "stream",
     "text": [
      "\n",
      " 25%|██▌       | 125/500 [03:17<09:10,  1.47s/it]\u001b[A"
     ]
    },
    {
     "name": "stdout",
     "output_type": "stream",
     "text": [
      "0.12582184\n"
     ]
    },
    {
     "name": "stderr",
     "output_type": "stream",
     "text": [
      "\n",
      " 25%|██▌       | 126/500 [03:19<08:56,  1.43s/it]\u001b[A"
     ]
    },
    {
     "name": "stdout",
     "output_type": "stream",
     "text": [
      "0.15153696\n"
     ]
    },
    {
     "name": "stderr",
     "output_type": "stream",
     "text": [
      "\n",
      " 25%|██▌       | 127/500 [03:20<08:38,  1.39s/it]\u001b[A"
     ]
    },
    {
     "name": "stdout",
     "output_type": "stream",
     "text": [
      "0.09585569\n"
     ]
    },
    {
     "name": "stderr",
     "output_type": "stream",
     "text": [
      "\n",
      " 26%|██▌       | 128/500 [03:22<08:55,  1.44s/it]\u001b[A"
     ]
    },
    {
     "name": "stdout",
     "output_type": "stream",
     "text": [
      "0.10690587\n"
     ]
    },
    {
     "name": "stderr",
     "output_type": "stream",
     "text": [
      "\n",
      " 26%|██▌       | 129/500 [03:23<08:42,  1.41s/it]\u001b[A"
     ]
    },
    {
     "name": "stdout",
     "output_type": "stream",
     "text": [
      "0.08306744\n"
     ]
    },
    {
     "name": "stderr",
     "output_type": "stream",
     "text": [
      "\n",
      " 26%|██▌       | 130/500 [03:24<08:17,  1.34s/it]\u001b[A"
     ]
    },
    {
     "name": "stdout",
     "output_type": "stream",
     "text": [
      "0.10112357\n"
     ]
    },
    {
     "name": "stderr",
     "output_type": "stream",
     "text": [
      "\n",
      " 26%|██▌       | 131/500 [03:26<08:44,  1.42s/it]\u001b[A"
     ]
    },
    {
     "name": "stdout",
     "output_type": "stream",
     "text": [
      "0.108922824\n"
     ]
    },
    {
     "name": "stderr",
     "output_type": "stream",
     "text": [
      "\n",
      " 26%|██▋       | 132/500 [03:27<08:56,  1.46s/it]\u001b[A"
     ]
    },
    {
     "name": "stdout",
     "output_type": "stream",
     "text": [
      "0.10095493\n"
     ]
    },
    {
     "name": "stderr",
     "output_type": "stream",
     "text": [
      "\n",
      " 27%|██▋       | 133/500 [03:29<09:00,  1.47s/it]\u001b[A"
     ]
    },
    {
     "name": "stdout",
     "output_type": "stream",
     "text": [
      "0.100006886\n"
     ]
    },
    {
     "name": "stderr",
     "output_type": "stream",
     "text": [
      "\n",
      " 27%|██▋       | 134/500 [03:30<08:28,  1.39s/it]\u001b[A"
     ]
    },
    {
     "name": "stdout",
     "output_type": "stream",
     "text": [
      "0.100096814\n"
     ]
    },
    {
     "name": "stderr",
     "output_type": "stream",
     "text": [
      "\n",
      " 27%|██▋       | 135/500 [03:31<08:32,  1.40s/it]\u001b[A"
     ]
    },
    {
     "name": "stdout",
     "output_type": "stream",
     "text": [
      "0.080532044\n"
     ]
    },
    {
     "name": "stderr",
     "output_type": "stream",
     "text": [
      "\n",
      " 27%|██▋       | 136/500 [03:33<08:45,  1.44s/it]\u001b[A"
     ]
    },
    {
     "name": "stdout",
     "output_type": "stream",
     "text": [
      "0.08541454\n"
     ]
    },
    {
     "name": "stderr",
     "output_type": "stream",
     "text": [
      "\n",
      " 27%|██▋       | 137/500 [03:34<08:46,  1.45s/it]\u001b[A"
     ]
    },
    {
     "name": "stdout",
     "output_type": "stream",
     "text": [
      "0.10420524\n"
     ]
    },
    {
     "name": "stderr",
     "output_type": "stream",
     "text": [
      "\n",
      " 28%|██▊       | 138/500 [03:36<08:57,  1.49s/it]\u001b[A"
     ]
    },
    {
     "name": "stdout",
     "output_type": "stream",
     "text": [
      "0.092899986\n"
     ]
    },
    {
     "name": "stderr",
     "output_type": "stream",
     "text": [
      "\n",
      " 28%|██▊       | 139/500 [03:37<08:58,  1.49s/it]\u001b[A"
     ]
    },
    {
     "name": "stdout",
     "output_type": "stream",
     "text": [
      "0.18010078\n"
     ]
    },
    {
     "name": "stderr",
     "output_type": "stream",
     "text": [
      "\n",
      " 28%|██▊       | 140/500 [03:39<09:12,  1.53s/it]\u001b[A"
     ]
    },
    {
     "name": "stdout",
     "output_type": "stream",
     "text": [
      "0.15156421\n"
     ]
    },
    {
     "name": "stderr",
     "output_type": "stream",
     "text": [
      "\n",
      " 28%|██▊       | 141/500 [03:41<09:17,  1.55s/it]\u001b[A"
     ]
    },
    {
     "name": "stdout",
     "output_type": "stream",
     "text": [
      "0.17334823\n"
     ]
    },
    {
     "name": "stderr",
     "output_type": "stream",
     "text": [
      "\n",
      " 28%|██▊       | 142/500 [03:42<09:01,  1.51s/it]\u001b[A"
     ]
    },
    {
     "name": "stdout",
     "output_type": "stream",
     "text": [
      "0.14181621\n"
     ]
    },
    {
     "name": "stderr",
     "output_type": "stream",
     "text": [
      "\n",
      " 29%|██▊       | 143/500 [03:44<09:06,  1.53s/it]\u001b[A"
     ]
    },
    {
     "name": "stdout",
     "output_type": "stream",
     "text": [
      "0.14792703\n"
     ]
    },
    {
     "name": "stderr",
     "output_type": "stream",
     "text": [
      "\n",
      " 29%|██▉       | 144/500 [03:45<09:02,  1.52s/it]\u001b[A"
     ]
    },
    {
     "name": "stdout",
     "output_type": "stream",
     "text": [
      "0.11845474\n"
     ]
    },
    {
     "name": "stderr",
     "output_type": "stream",
     "text": [
      "\n",
      " 29%|██▉       | 145/500 [03:47<09:15,  1.56s/it]\u001b[A"
     ]
    },
    {
     "name": "stdout",
     "output_type": "stream",
     "text": [
      "0.12761568\n"
     ]
    },
    {
     "name": "stderr",
     "output_type": "stream",
     "text": [
      "\n",
      " 29%|██▉       | 146/500 [03:48<08:54,  1.51s/it]\u001b[A"
     ]
    },
    {
     "name": "stdout",
     "output_type": "stream",
     "text": [
      "0.12899838\n"
     ]
    },
    {
     "name": "stderr",
     "output_type": "stream",
     "text": [
      "\n",
      " 29%|██▉       | 147/500 [03:50<09:36,  1.63s/it]\u001b[A"
     ]
    },
    {
     "name": "stdout",
     "output_type": "stream",
     "text": [
      "0.12403024\n"
     ]
    },
    {
     "name": "stderr",
     "output_type": "stream",
     "text": [
      "\n",
      " 30%|██▉       | 148/500 [03:52<09:31,  1.62s/it]\u001b[A"
     ]
    },
    {
     "name": "stdout",
     "output_type": "stream",
     "text": [
      "0.14297317\n"
     ]
    },
    {
     "name": "stderr",
     "output_type": "stream",
     "text": [
      "\n",
      " 30%|██▉       | 149/500 [03:54<09:58,  1.70s/it]\u001b[A"
     ]
    },
    {
     "name": "stdout",
     "output_type": "stream",
     "text": [
      "0.12861985\n"
     ]
    },
    {
     "name": "stderr",
     "output_type": "stream",
     "text": [
      "\n",
      " 30%|███       | 150/500 [03:55<09:29,  1.63s/it]\u001b[A"
     ]
    },
    {
     "name": "stdout",
     "output_type": "stream",
     "text": [
      "0.15165679\n"
     ]
    },
    {
     "name": "stderr",
     "output_type": "stream",
     "text": [
      "\n",
      " 30%|███       | 151/500 [03:57<09:24,  1.62s/it]\u001b[A"
     ]
    },
    {
     "name": "stdout",
     "output_type": "stream",
     "text": [
      "0.13172677\n"
     ]
    },
    {
     "name": "stderr",
     "output_type": "stream",
     "text": [
      "\n",
      " 30%|███       | 152/500 [03:58<09:15,  1.60s/it]\u001b[A"
     ]
    },
    {
     "name": "stdout",
     "output_type": "stream",
     "text": [
      "0.102918915\n"
     ]
    },
    {
     "name": "stderr",
     "output_type": "stream",
     "text": [
      "\n",
      " 31%|███       | 153/500 [04:00<08:59,  1.55s/it]\u001b[A"
     ]
    },
    {
     "name": "stdout",
     "output_type": "stream",
     "text": [
      "0.09567717\n"
     ]
    },
    {
     "name": "stderr",
     "output_type": "stream",
     "text": [
      "\n",
      " 31%|███       | 154/500 [04:01<09:13,  1.60s/it]\u001b[A"
     ]
    },
    {
     "name": "stdout",
     "output_type": "stream",
     "text": [
      "0.10016088\n"
     ]
    },
    {
     "name": "stderr",
     "output_type": "stream",
     "text": [
      "\n",
      " 31%|███       | 155/500 [04:03<08:53,  1.55s/it]\u001b[A"
     ]
    },
    {
     "name": "stdout",
     "output_type": "stream",
     "text": [
      "0.10811117\n"
     ]
    },
    {
     "name": "stderr",
     "output_type": "stream",
     "text": [
      "\n",
      " 31%|███       | 156/500 [04:04<08:56,  1.56s/it]\u001b[A"
     ]
    },
    {
     "name": "stdout",
     "output_type": "stream",
     "text": [
      "0.08274896\n"
     ]
    },
    {
     "name": "stderr",
     "output_type": "stream",
     "text": [
      "\n",
      " 31%|███▏      | 157/500 [04:06<08:59,  1.57s/it]\u001b[A"
     ]
    },
    {
     "name": "stdout",
     "output_type": "stream",
     "text": [
      "0.084735185\n"
     ]
    },
    {
     "name": "stderr",
     "output_type": "stream",
     "text": [
      "\n",
      " 32%|███▏      | 158/500 [04:07<08:38,  1.52s/it]\u001b[A"
     ]
    },
    {
     "name": "stdout",
     "output_type": "stream",
     "text": [
      "0.07906982\n"
     ]
    },
    {
     "name": "stderr",
     "output_type": "stream",
     "text": [
      "\n",
      " 32%|███▏      | 159/500 [04:09<08:31,  1.50s/it]\u001b[A"
     ]
    },
    {
     "name": "stdout",
     "output_type": "stream",
     "text": [
      "0.08622193\n"
     ]
    },
    {
     "name": "stderr",
     "output_type": "stream",
     "text": [
      "\n",
      " 32%|███▏      | 160/500 [04:10<08:33,  1.51s/it]\u001b[A"
     ]
    },
    {
     "name": "stdout",
     "output_type": "stream",
     "text": [
      "0.074968725\n"
     ]
    },
    {
     "name": "stderr",
     "output_type": "stream",
     "text": [
      "\n",
      " 32%|███▏      | 161/500 [04:12<08:22,  1.48s/it]\u001b[A"
     ]
    },
    {
     "name": "stdout",
     "output_type": "stream",
     "text": [
      "0.09959452\n"
     ]
    },
    {
     "name": "stderr",
     "output_type": "stream",
     "text": [
      "\n",
      " 32%|███▏      | 162/500 [04:13<08:16,  1.47s/it]\u001b[A"
     ]
    },
    {
     "name": "stdout",
     "output_type": "stream",
     "text": [
      "0.09559654\n"
     ]
    },
    {
     "name": "stderr",
     "output_type": "stream",
     "text": [
      "\n",
      " 33%|███▎      | 163/500 [04:15<08:00,  1.42s/it]\u001b[A"
     ]
    },
    {
     "name": "stdout",
     "output_type": "stream",
     "text": [
      "0.09604327\n"
     ]
    },
    {
     "name": "stderr",
     "output_type": "stream",
     "text": [
      "\n",
      " 33%|███▎      | 164/500 [04:16<07:51,  1.40s/it]\u001b[A"
     ]
    },
    {
     "name": "stdout",
     "output_type": "stream",
     "text": [
      "0.074517645\n"
     ]
    },
    {
     "name": "stderr",
     "output_type": "stream",
     "text": [
      "\n",
      " 33%|███▎      | 165/500 [04:17<07:52,  1.41s/it]\u001b[A"
     ]
    },
    {
     "name": "stdout",
     "output_type": "stream",
     "text": [
      "0.07400623\n"
     ]
    },
    {
     "name": "stderr",
     "output_type": "stream",
     "text": [
      "\n",
      " 33%|███▎      | 166/500 [04:19<07:46,  1.40s/it]\u001b[A"
     ]
    },
    {
     "name": "stdout",
     "output_type": "stream",
     "text": [
      "0.06833233\n"
     ]
    },
    {
     "name": "stderr",
     "output_type": "stream",
     "text": [
      "\n",
      " 33%|███▎      | 167/500 [04:20<07:37,  1.37s/it]\u001b[A"
     ]
    },
    {
     "name": "stdout",
     "output_type": "stream",
     "text": [
      "0.080662884\n"
     ]
    },
    {
     "name": "stderr",
     "output_type": "stream",
     "text": [
      "\n",
      " 34%|███▎      | 168/500 [04:21<07:26,  1.34s/it]\u001b[A"
     ]
    },
    {
     "name": "stdout",
     "output_type": "stream",
     "text": [
      "0.07363935\n"
     ]
    },
    {
     "name": "stderr",
     "output_type": "stream",
     "text": [
      "\n",
      " 34%|███▍      | 169/500 [04:23<08:02,  1.46s/it]\u001b[A"
     ]
    },
    {
     "name": "stdout",
     "output_type": "stream",
     "text": [
      "0.0927206\n"
     ]
    },
    {
     "name": "stderr",
     "output_type": "stream",
     "text": [
      "\n",
      " 34%|███▍      | 170/500 [04:25<08:07,  1.48s/it]\u001b[A"
     ]
    },
    {
     "name": "stdout",
     "output_type": "stream",
     "text": [
      "0.06605662\n"
     ]
    },
    {
     "name": "stderr",
     "output_type": "stream",
     "text": [
      "\n",
      " 34%|███▍      | 171/500 [04:26<07:43,  1.41s/it]\u001b[A"
     ]
    },
    {
     "name": "stdout",
     "output_type": "stream",
     "text": [
      "0.13120267\n"
     ]
    },
    {
     "name": "stderr",
     "output_type": "stream",
     "text": [
      "\n",
      " 34%|███▍      | 172/500 [04:27<07:17,  1.33s/it]\u001b[A"
     ]
    },
    {
     "name": "stdout",
     "output_type": "stream",
     "text": [
      "0.08418408\n"
     ]
    },
    {
     "name": "stderr",
     "output_type": "stream",
     "text": [
      "\n",
      " 35%|███▍      | 173/500 [04:29<07:56,  1.46s/it]\u001b[A"
     ]
    },
    {
     "name": "stdout",
     "output_type": "stream",
     "text": [
      "0.07856236\n"
     ]
    },
    {
     "name": "stderr",
     "output_type": "stream",
     "text": [
      "\n",
      " 35%|███▍      | 174/500 [04:30<08:08,  1.50s/it]\u001b[A"
     ]
    },
    {
     "name": "stdout",
     "output_type": "stream",
     "text": [
      "0.08012041\n"
     ]
    },
    {
     "name": "stderr",
     "output_type": "stream",
     "text": [
      "\n",
      " 35%|███▌      | 175/500 [04:32<07:58,  1.47s/it]\u001b[A"
     ]
    },
    {
     "name": "stdout",
     "output_type": "stream",
     "text": [
      "0.08335297\n"
     ]
    },
    {
     "name": "stderr",
     "output_type": "stream",
     "text": [
      "\n",
      " 35%|███▌      | 176/500 [04:33<07:46,  1.44s/it]\u001b[A"
     ]
    },
    {
     "name": "stdout",
     "output_type": "stream",
     "text": [
      "0.08405967\n"
     ]
    },
    {
     "name": "stderr",
     "output_type": "stream",
     "text": [
      "\n",
      " 35%|███▌      | 177/500 [04:34<07:37,  1.42s/it]\u001b[A"
     ]
    },
    {
     "name": "stdout",
     "output_type": "stream",
     "text": [
      "0.09351247\n"
     ]
    },
    {
     "name": "stderr",
     "output_type": "stream",
     "text": [
      "\n",
      " 36%|███▌      | 178/500 [04:36<07:19,  1.36s/it]\u001b[A"
     ]
    },
    {
     "name": "stdout",
     "output_type": "stream",
     "text": [
      "0.069797285\n"
     ]
    },
    {
     "name": "stderr",
     "output_type": "stream",
     "text": [
      "\n",
      " 36%|███▌      | 179/500 [04:37<06:59,  1.31s/it]\u001b[A"
     ]
    },
    {
     "name": "stdout",
     "output_type": "stream",
     "text": [
      "0.07988493\n"
     ]
    },
    {
     "name": "stderr",
     "output_type": "stream",
     "text": [
      "\n",
      " 36%|███▌      | 180/500 [04:38<06:41,  1.25s/it]\u001b[A"
     ]
    },
    {
     "name": "stdout",
     "output_type": "stream",
     "text": [
      "0.08447597\n"
     ]
    },
    {
     "name": "stderr",
     "output_type": "stream",
     "text": [
      "\n",
      " 36%|███▌      | 181/500 [04:39<06:53,  1.30s/it]\u001b[A"
     ]
    },
    {
     "name": "stdout",
     "output_type": "stream",
     "text": [
      "0.06995142\n"
     ]
    },
    {
     "name": "stderr",
     "output_type": "stream",
     "text": [
      "\n",
      " 36%|███▋      | 182/500 [04:41<06:38,  1.25s/it]\u001b[A"
     ]
    },
    {
     "name": "stdout",
     "output_type": "stream",
     "text": [
      "0.07599988\n"
     ]
    },
    {
     "name": "stderr",
     "output_type": "stream",
     "text": [
      "\n",
      " 37%|███▋      | 183/500 [04:42<06:43,  1.27s/it]\u001b[A"
     ]
    },
    {
     "name": "stdout",
     "output_type": "stream",
     "text": [
      "0.07348456\n"
     ]
    },
    {
     "name": "stderr",
     "output_type": "stream",
     "text": [
      "\n",
      " 37%|███▋      | 184/500 [04:43<06:26,  1.22s/it]\u001b[A"
     ]
    },
    {
     "name": "stdout",
     "output_type": "stream",
     "text": [
      "0.11040424\n"
     ]
    },
    {
     "name": "stderr",
     "output_type": "stream",
     "text": [
      "\n",
      " 37%|███▋      | 185/500 [04:44<06:34,  1.25s/it]\u001b[A"
     ]
    },
    {
     "name": "stdout",
     "output_type": "stream",
     "text": [
      "0.12414317\n"
     ]
    },
    {
     "name": "stderr",
     "output_type": "stream",
     "text": [
      "\n",
      " 37%|███▋      | 186/500 [04:46<06:53,  1.32s/it]\u001b[A"
     ]
    },
    {
     "name": "stdout",
     "output_type": "stream",
     "text": [
      "0.13167945\n"
     ]
    },
    {
     "name": "stderr",
     "output_type": "stream",
     "text": [
      "\n",
      " 37%|███▋      | 187/500 [04:47<07:16,  1.39s/it]\u001b[A"
     ]
    },
    {
     "name": "stdout",
     "output_type": "stream",
     "text": [
      "0.10442635\n"
     ]
    },
    {
     "name": "stderr",
     "output_type": "stream",
     "text": [
      "\n",
      " 38%|███▊      | 188/500 [04:49<07:01,  1.35s/it]\u001b[A"
     ]
    },
    {
     "name": "stdout",
     "output_type": "stream",
     "text": [
      "0.10319789\n"
     ]
    },
    {
     "name": "stderr",
     "output_type": "stream",
     "text": [
      "\n",
      " 38%|███▊      | 189/500 [04:50<06:45,  1.30s/it]\u001b[A"
     ]
    },
    {
     "name": "stdout",
     "output_type": "stream",
     "text": [
      "0.12585062\n"
     ]
    },
    {
     "name": "stderr",
     "output_type": "stream",
     "text": [
      "\n",
      " 38%|███▊      | 190/500 [04:51<06:34,  1.27s/it]\u001b[A"
     ]
    },
    {
     "name": "stdout",
     "output_type": "stream",
     "text": [
      "0.1310365\n"
     ]
    },
    {
     "name": "stderr",
     "output_type": "stream",
     "text": [
      "\n",
      " 38%|███▊      | 191/500 [04:52<06:30,  1.26s/it]\u001b[A"
     ]
    },
    {
     "name": "stdout",
     "output_type": "stream",
     "text": [
      "0.13839373\n"
     ]
    },
    {
     "name": "stderr",
     "output_type": "stream",
     "text": [
      "\n",
      " 38%|███▊      | 192/500 [04:54<07:07,  1.39s/it]\u001b[A"
     ]
    },
    {
     "name": "stdout",
     "output_type": "stream",
     "text": [
      "0.094096094\n"
     ]
    },
    {
     "name": "stderr",
     "output_type": "stream",
     "text": [
      "\n",
      " 39%|███▊      | 193/500 [04:55<07:05,  1.39s/it]\u001b[A"
     ]
    },
    {
     "name": "stdout",
     "output_type": "stream",
     "text": [
      "0.12539546\n"
     ]
    },
    {
     "name": "stderr",
     "output_type": "stream",
     "text": [
      "\n",
      " 39%|███▉      | 194/500 [04:57<07:17,  1.43s/it]\u001b[A"
     ]
    },
    {
     "name": "stdout",
     "output_type": "stream",
     "text": [
      "0.10153354\n"
     ]
    },
    {
     "name": "stderr",
     "output_type": "stream",
     "text": [
      "\n",
      " 39%|███▉      | 195/500 [04:58<07:15,  1.43s/it]\u001b[A"
     ]
    },
    {
     "name": "stdout",
     "output_type": "stream",
     "text": [
      "0.09961664\n"
     ]
    },
    {
     "name": "stderr",
     "output_type": "stream",
     "text": [
      "\n",
      " 39%|███▉      | 196/500 [04:59<06:59,  1.38s/it]\u001b[A"
     ]
    },
    {
     "name": "stdout",
     "output_type": "stream",
     "text": [
      "0.09356806\n"
     ]
    },
    {
     "name": "stderr",
     "output_type": "stream",
     "text": [
      "\n",
      " 39%|███▉      | 197/500 [05:01<07:10,  1.42s/it]\u001b[A"
     ]
    },
    {
     "name": "stdout",
     "output_type": "stream",
     "text": [
      "0.10503901\n"
     ]
    },
    {
     "name": "stderr",
     "output_type": "stream",
     "text": [
      "\n",
      " 40%|███▉      | 198/500 [05:02<07:06,  1.41s/it]\u001b[A"
     ]
    },
    {
     "name": "stdout",
     "output_type": "stream",
     "text": [
      "0.12665842\n"
     ]
    },
    {
     "name": "stderr",
     "output_type": "stream",
     "text": [
      "\n",
      " 40%|███▉      | 199/500 [05:04<06:50,  1.36s/it]\u001b[A"
     ]
    },
    {
     "name": "stdout",
     "output_type": "stream",
     "text": [
      "0.13247791\n"
     ]
    },
    {
     "name": "stderr",
     "output_type": "stream",
     "text": [
      "\n",
      " 40%|████      | 200/500 [05:05<06:55,  1.39s/it]\u001b[A"
     ]
    },
    {
     "name": "stdout",
     "output_type": "stream",
     "text": [
      "0.06778543\n"
     ]
    },
    {
     "name": "stderr",
     "output_type": "stream",
     "text": [
      "\n",
      " 40%|████      | 201/500 [05:06<06:41,  1.34s/it]\u001b[A"
     ]
    },
    {
     "name": "stdout",
     "output_type": "stream",
     "text": [
      "0.100042515\n"
     ]
    },
    {
     "name": "stderr",
     "output_type": "stream",
     "text": [
      "\n",
      " 40%|████      | 202/500 [05:08<06:30,  1.31s/it]\u001b[A"
     ]
    },
    {
     "name": "stdout",
     "output_type": "stream",
     "text": [
      "0.09064422\n"
     ]
    },
    {
     "name": "stderr",
     "output_type": "stream",
     "text": [
      "\n",
      " 41%|████      | 203/500 [05:09<06:24,  1.29s/it]\u001b[A"
     ]
    },
    {
     "name": "stdout",
     "output_type": "stream",
     "text": [
      "0.10584246\n"
     ]
    },
    {
     "name": "stderr",
     "output_type": "stream",
     "text": [
      "\n",
      " 41%|████      | 204/500 [05:10<06:24,  1.30s/it]\u001b[A"
     ]
    },
    {
     "name": "stdout",
     "output_type": "stream",
     "text": [
      "0.097798735\n"
     ]
    },
    {
     "name": "stderr",
     "output_type": "stream",
     "text": [
      "\n",
      " 41%|████      | 205/500 [05:11<06:17,  1.28s/it]\u001b[A"
     ]
    },
    {
     "name": "stdout",
     "output_type": "stream",
     "text": [
      "0.10608484\n"
     ]
    },
    {
     "name": "stderr",
     "output_type": "stream",
     "text": [
      "\n",
      " 41%|████      | 206/500 [05:13<06:36,  1.35s/it]\u001b[A"
     ]
    },
    {
     "name": "stdout",
     "output_type": "stream",
     "text": [
      "0.0852824\n"
     ]
    },
    {
     "name": "stderr",
     "output_type": "stream",
     "text": [
      "\n",
      " 41%|████▏     | 207/500 [05:14<06:18,  1.29s/it]\u001b[A"
     ]
    },
    {
     "name": "stdout",
     "output_type": "stream",
     "text": [
      "0.10768277\n"
     ]
    },
    {
     "name": "stderr",
     "output_type": "stream",
     "text": [
      "\n",
      " 42%|████▏     | 208/500 [05:15<06:27,  1.33s/it]\u001b[A"
     ]
    },
    {
     "name": "stdout",
     "output_type": "stream",
     "text": [
      "0.09084709\n"
     ]
    },
    {
     "name": "stderr",
     "output_type": "stream",
     "text": [
      "\n",
      " 42%|████▏     | 209/500 [05:17<06:35,  1.36s/it]\u001b[A"
     ]
    },
    {
     "name": "stdout",
     "output_type": "stream",
     "text": [
      "0.067383535\n"
     ]
    },
    {
     "name": "stderr",
     "output_type": "stream",
     "text": [
      "\n",
      " 42%|████▏     | 210/500 [05:18<06:29,  1.34s/it]\u001b[A"
     ]
    },
    {
     "name": "stdout",
     "output_type": "stream",
     "text": [
      "0.10520555\n"
     ]
    },
    {
     "name": "stderr",
     "output_type": "stream",
     "text": [
      "\n",
      " 42%|████▏     | 211/500 [05:20<06:37,  1.37s/it]\u001b[A"
     ]
    },
    {
     "name": "stdout",
     "output_type": "stream",
     "text": [
      "0.08133174\n"
     ]
    },
    {
     "name": "stderr",
     "output_type": "stream",
     "text": [
      "\n",
      " 42%|████▏     | 212/500 [05:21<06:55,  1.44s/it]\u001b[A"
     ]
    },
    {
     "name": "stdout",
     "output_type": "stream",
     "text": [
      "0.080788486\n"
     ]
    },
    {
     "name": "stderr",
     "output_type": "stream",
     "text": [
      "\n",
      " 43%|████▎     | 213/500 [05:23<07:16,  1.52s/it]\u001b[A"
     ]
    },
    {
     "name": "stdout",
     "output_type": "stream",
     "text": [
      "0.07801296\n"
     ]
    },
    {
     "name": "stderr",
     "output_type": "stream",
     "text": [
      "\n",
      " 43%|████▎     | 214/500 [05:25<07:53,  1.66s/it]\u001b[A"
     ]
    },
    {
     "name": "stdout",
     "output_type": "stream",
     "text": [
      "0.068493724\n"
     ]
    },
    {
     "name": "stderr",
     "output_type": "stream",
     "text": [
      "\n",
      " 43%|████▎     | 215/500 [05:27<09:04,  1.91s/it]\u001b[A"
     ]
    },
    {
     "name": "stdout",
     "output_type": "stream",
     "text": [
      "0.08179446\n"
     ]
    },
    {
     "name": "stderr",
     "output_type": "stream",
     "text": [
      "\n",
      " 43%|████▎     | 216/500 [05:30<09:32,  2.02s/it]\u001b[A"
     ]
    },
    {
     "name": "stdout",
     "output_type": "stream",
     "text": [
      "0.05367376\n"
     ]
    },
    {
     "name": "stderr",
     "output_type": "stream",
     "text": [
      "\n",
      " 43%|████▎     | 217/500 [05:32<09:17,  1.97s/it]\u001b[A"
     ]
    },
    {
     "name": "stdout",
     "output_type": "stream",
     "text": [
      "0.094025925\n"
     ]
    },
    {
     "name": "stderr",
     "output_type": "stream",
     "text": [
      "\n",
      " 44%|████▎     | 218/500 [05:33<09:13,  1.96s/it]\u001b[A"
     ]
    },
    {
     "name": "stdout",
     "output_type": "stream",
     "text": [
      "0.059188884\n"
     ]
    },
    {
     "name": "stderr",
     "output_type": "stream",
     "text": [
      "\n",
      " 44%|████▍     | 219/500 [05:35<08:44,  1.87s/it]\u001b[A"
     ]
    },
    {
     "name": "stdout",
     "output_type": "stream",
     "text": [
      "0.08045101\n"
     ]
    },
    {
     "name": "stderr",
     "output_type": "stream",
     "text": [
      "\n",
      " 44%|████▍     | 220/500 [05:37<08:18,  1.78s/it]\u001b[A"
     ]
    },
    {
     "name": "stdout",
     "output_type": "stream",
     "text": [
      "0.07399011\n"
     ]
    },
    {
     "name": "stderr",
     "output_type": "stream",
     "text": [
      "\n",
      " 44%|████▍     | 221/500 [05:38<07:25,  1.60s/it]\u001b[A"
     ]
    },
    {
     "name": "stdout",
     "output_type": "stream",
     "text": [
      "0.06906533\n"
     ]
    },
    {
     "name": "stderr",
     "output_type": "stream",
     "text": [
      "\n",
      " 44%|████▍     | 222/500 [05:40<08:07,  1.75s/it]\u001b[A"
     ]
    },
    {
     "name": "stdout",
     "output_type": "stream",
     "text": [
      "0.0721917\n"
     ]
    },
    {
     "name": "stderr",
     "output_type": "stream",
     "text": [
      "\n",
      " 45%|████▍     | 223/500 [05:41<07:43,  1.67s/it]\u001b[A"
     ]
    },
    {
     "name": "stdout",
     "output_type": "stream",
     "text": [
      "0.10824533\n"
     ]
    },
    {
     "name": "stderr",
     "output_type": "stream",
     "text": [
      "\n",
      " 45%|████▍     | 224/500 [05:43<07:44,  1.68s/it]\u001b[A"
     ]
    },
    {
     "name": "stdout",
     "output_type": "stream",
     "text": [
      "0.13888736\n"
     ]
    },
    {
     "name": "stderr",
     "output_type": "stream",
     "text": [
      "\n",
      " 45%|████▌     | 225/500 [05:44<07:05,  1.55s/it]\u001b[A"
     ]
    },
    {
     "name": "stdout",
     "output_type": "stream",
     "text": [
      "0.12444405\n"
     ]
    },
    {
     "name": "stderr",
     "output_type": "stream",
     "text": [
      "\n",
      " 45%|████▌     | 226/500 [05:46<06:47,  1.49s/it]\u001b[A"
     ]
    },
    {
     "name": "stdout",
     "output_type": "stream",
     "text": [
      "0.11516647\n"
     ]
    },
    {
     "name": "stderr",
     "output_type": "stream",
     "text": [
      "\n",
      " 45%|████▌     | 227/500 [05:47<06:44,  1.48s/it]\u001b[A"
     ]
    },
    {
     "name": "stdout",
     "output_type": "stream",
     "text": [
      "0.106087014\n"
     ]
    },
    {
     "name": "stderr",
     "output_type": "stream",
     "text": [
      "\n",
      " 46%|████▌     | 228/500 [05:48<06:23,  1.41s/it]\u001b[A"
     ]
    },
    {
     "name": "stdout",
     "output_type": "stream",
     "text": [
      "0.08950222\n"
     ]
    },
    {
     "name": "stderr",
     "output_type": "stream",
     "text": [
      "\n",
      " 46%|████▌     | 229/500 [05:50<06:22,  1.41s/it]\u001b[A"
     ]
    },
    {
     "name": "stdout",
     "output_type": "stream",
     "text": [
      "0.08959059\n"
     ]
    },
    {
     "name": "stderr",
     "output_type": "stream",
     "text": [
      "\n",
      " 46%|████▌     | 230/500 [05:52<06:40,  1.48s/it]\u001b[A"
     ]
    },
    {
     "name": "stdout",
     "output_type": "stream",
     "text": [
      "0.12956944\n"
     ]
    },
    {
     "name": "stderr",
     "output_type": "stream",
     "text": [
      "\n",
      " 46%|████▌     | 231/500 [05:53<06:46,  1.51s/it]\u001b[A"
     ]
    },
    {
     "name": "stdout",
     "output_type": "stream",
     "text": [
      "0.11667815\n"
     ]
    },
    {
     "name": "stderr",
     "output_type": "stream",
     "text": [
      "\n",
      " 46%|████▋     | 232/500 [05:54<06:29,  1.45s/it]\u001b[A"
     ]
    },
    {
     "name": "stdout",
     "output_type": "stream",
     "text": [
      "0.09062625\n"
     ]
    },
    {
     "name": "stderr",
     "output_type": "stream",
     "text": [
      "\n",
      " 47%|████▋     | 233/500 [05:56<06:23,  1.44s/it]\u001b[A"
     ]
    },
    {
     "name": "stdout",
     "output_type": "stream",
     "text": [
      "0.106151246\n"
     ]
    },
    {
     "name": "stderr",
     "output_type": "stream",
     "text": [
      "\n",
      " 47%|████▋     | 234/500 [05:57<06:16,  1.42s/it]\u001b[A"
     ]
    },
    {
     "name": "stdout",
     "output_type": "stream",
     "text": [
      "0.13428588\n"
     ]
    },
    {
     "name": "stderr",
     "output_type": "stream",
     "text": [
      "\n",
      " 47%|████▋     | 235/500 [05:59<06:21,  1.44s/it]\u001b[A"
     ]
    },
    {
     "name": "stdout",
     "output_type": "stream",
     "text": [
      "0.12598923\n"
     ]
    },
    {
     "name": "stderr",
     "output_type": "stream",
     "text": [
      "\n",
      " 47%|████▋     | 236/500 [06:00<06:04,  1.38s/it]\u001b[A"
     ]
    },
    {
     "name": "stdout",
     "output_type": "stream",
     "text": [
      "0.11714562\n"
     ]
    },
    {
     "name": "stderr",
     "output_type": "stream",
     "text": [
      "\n",
      " 47%|████▋     | 237/500 [06:01<06:00,  1.37s/it]\u001b[A"
     ]
    },
    {
     "name": "stdout",
     "output_type": "stream",
     "text": [
      "0.11458211\n"
     ]
    },
    {
     "name": "stderr",
     "output_type": "stream",
     "text": [
      "\n",
      " 48%|████▊     | 238/500 [06:02<05:35,  1.28s/it]\u001b[A"
     ]
    },
    {
     "name": "stdout",
     "output_type": "stream",
     "text": [
      "0.135355\n"
     ]
    },
    {
     "name": "stderr",
     "output_type": "stream",
     "text": [
      "\n",
      " 48%|████▊     | 239/500 [06:04<05:44,  1.32s/it]\u001b[A"
     ]
    },
    {
     "name": "stdout",
     "output_type": "stream",
     "text": [
      "0.14182396\n"
     ]
    },
    {
     "name": "stderr",
     "output_type": "stream",
     "text": [
      "\n",
      " 48%|████▊     | 240/500 [06:05<06:00,  1.39s/it]\u001b[A"
     ]
    },
    {
     "name": "stdout",
     "output_type": "stream",
     "text": [
      "0.11637868\n"
     ]
    },
    {
     "name": "stderr",
     "output_type": "stream",
     "text": [
      "\n",
      " 48%|████▊     | 241/500 [06:07<06:24,  1.48s/it]\u001b[A"
     ]
    },
    {
     "name": "stdout",
     "output_type": "stream",
     "text": [
      "0.11301895\n"
     ]
    },
    {
     "name": "stderr",
     "output_type": "stream",
     "text": [
      "\n",
      " 48%|████▊     | 242/500 [06:09<06:25,  1.50s/it]\u001b[A"
     ]
    },
    {
     "name": "stdout",
     "output_type": "stream",
     "text": [
      "0.09122208\n"
     ]
    },
    {
     "name": "stderr",
     "output_type": "stream",
     "text": [
      "\n",
      " 49%|████▊     | 243/500 [06:10<06:05,  1.42s/it]\u001b[A"
     ]
    },
    {
     "name": "stdout",
     "output_type": "stream",
     "text": [
      "0.0894591\n"
     ]
    },
    {
     "name": "stderr",
     "output_type": "stream",
     "text": [
      "\n",
      " 49%|████▉     | 244/500 [06:11<06:02,  1.42s/it]\u001b[A"
     ]
    },
    {
     "name": "stdout",
     "output_type": "stream",
     "text": [
      "0.061717223\n"
     ]
    },
    {
     "name": "stderr",
     "output_type": "stream",
     "text": [
      "\n",
      " 49%|████▉     | 245/500 [06:12<05:45,  1.36s/it]\u001b[A"
     ]
    },
    {
     "name": "stdout",
     "output_type": "stream",
     "text": [
      "0.07935982\n"
     ]
    },
    {
     "name": "stderr",
     "output_type": "stream",
     "text": [
      "\n",
      " 49%|████▉     | 246/500 [06:14<05:53,  1.39s/it]\u001b[A"
     ]
    },
    {
     "name": "stdout",
     "output_type": "stream",
     "text": [
      "0.07651961\n"
     ]
    },
    {
     "name": "stderr",
     "output_type": "stream",
     "text": [
      "\n",
      " 49%|████▉     | 247/500 [06:15<05:26,  1.29s/it]\u001b[A"
     ]
    },
    {
     "name": "stdout",
     "output_type": "stream",
     "text": [
      "0.09043126\n"
     ]
    },
    {
     "name": "stderr",
     "output_type": "stream",
     "text": [
      "\n",
      " 50%|████▉     | 248/500 [06:16<05:41,  1.36s/it]\u001b[A"
     ]
    },
    {
     "name": "stdout",
     "output_type": "stream",
     "text": [
      "0.071367376\n"
     ]
    },
    {
     "name": "stderr",
     "output_type": "stream",
     "text": [
      "\n",
      " 50%|████▉     | 249/500 [06:18<05:25,  1.30s/it]\u001b[A"
     ]
    },
    {
     "name": "stdout",
     "output_type": "stream",
     "text": [
      "0.07676074\n"
     ]
    },
    {
     "name": "stderr",
     "output_type": "stream",
     "text": [
      "\n",
      " 50%|█████     | 250/500 [06:19<05:30,  1.32s/it]\u001b[A"
     ]
    },
    {
     "name": "stdout",
     "output_type": "stream",
     "text": [
      "0.07770245\n"
     ]
    },
    {
     "name": "stderr",
     "output_type": "stream",
     "text": [
      "\n",
      " 50%|█████     | 251/500 [06:21<05:44,  1.38s/it]\u001b[A"
     ]
    },
    {
     "name": "stdout",
     "output_type": "stream",
     "text": [
      "0.078213975\n"
     ]
    },
    {
     "name": "stderr",
     "output_type": "stream",
     "text": [
      "\n",
      " 50%|█████     | 252/500 [06:22<05:53,  1.43s/it]\u001b[A"
     ]
    },
    {
     "name": "stdout",
     "output_type": "stream",
     "text": [
      "0.06939504\n"
     ]
    },
    {
     "name": "stderr",
     "output_type": "stream",
     "text": [
      "\n",
      " 51%|█████     | 253/500 [06:23<05:53,  1.43s/it]\u001b[A"
     ]
    },
    {
     "name": "stdout",
     "output_type": "stream",
     "text": [
      "0.06687595\n"
     ]
    },
    {
     "name": "stderr",
     "output_type": "stream",
     "text": [
      "\n",
      " 51%|█████     | 254/500 [06:25<06:12,  1.51s/it]\u001b[A"
     ]
    },
    {
     "name": "stdout",
     "output_type": "stream",
     "text": [
      "0.063160226\n"
     ]
    },
    {
     "name": "stderr",
     "output_type": "stream",
     "text": [
      "\n",
      " 51%|█████     | 255/500 [06:27<06:02,  1.48s/it]\u001b[A"
     ]
    },
    {
     "name": "stdout",
     "output_type": "stream",
     "text": [
      "0.082323\n"
     ]
    },
    {
     "name": "stderr",
     "output_type": "stream",
     "text": [
      "\n",
      " 51%|█████     | 256/500 [06:28<06:13,  1.53s/it]\u001b[A"
     ]
    },
    {
     "name": "stdout",
     "output_type": "stream",
     "text": [
      "0.11376182\n"
     ]
    },
    {
     "name": "stderr",
     "output_type": "stream",
     "text": [
      "\n",
      " 51%|█████▏    | 257/500 [06:30<06:10,  1.53s/it]\u001b[A"
     ]
    },
    {
     "name": "stdout",
     "output_type": "stream",
     "text": [
      "0.10283588\n"
     ]
    },
    {
     "name": "stderr",
     "output_type": "stream",
     "text": [
      "\n",
      " 52%|█████▏    | 258/500 [06:31<06:11,  1.53s/it]\u001b[A"
     ]
    },
    {
     "name": "stdout",
     "output_type": "stream",
     "text": [
      "0.09759749\n"
     ]
    },
    {
     "name": "stderr",
     "output_type": "stream",
     "text": [
      "\n",
      " 52%|█████▏    | 259/500 [06:33<06:06,  1.52s/it]\u001b[A"
     ]
    },
    {
     "name": "stdout",
     "output_type": "stream",
     "text": [
      "0.11614712\n"
     ]
    },
    {
     "name": "stderr",
     "output_type": "stream",
     "text": [
      "\n",
      " 52%|█████▏    | 260/500 [06:34<05:55,  1.48s/it]\u001b[A"
     ]
    },
    {
     "name": "stdout",
     "output_type": "stream",
     "text": [
      "0.17104954\n"
     ]
    },
    {
     "name": "stderr",
     "output_type": "stream",
     "text": [
      "\n",
      " 52%|█████▏    | 261/500 [06:36<05:52,  1.47s/it]\u001b[A"
     ]
    },
    {
     "name": "stdout",
     "output_type": "stream",
     "text": [
      "0.16361125\n"
     ]
    },
    {
     "name": "stderr",
     "output_type": "stream",
     "text": [
      "\n",
      " 52%|█████▏    | 262/500 [06:37<05:55,  1.49s/it]\u001b[A"
     ]
    },
    {
     "name": "stdout",
     "output_type": "stream",
     "text": [
      "0.13139683\n"
     ]
    },
    {
     "name": "stderr",
     "output_type": "stream",
     "text": [
      "\n",
      " 53%|█████▎    | 263/500 [06:39<06:01,  1.53s/it]\u001b[A"
     ]
    },
    {
     "name": "stdout",
     "output_type": "stream",
     "text": [
      "0.13016035\n"
     ]
    },
    {
     "name": "stderr",
     "output_type": "stream",
     "text": [
      "\n",
      " 53%|█████▎    | 264/500 [06:40<05:52,  1.49s/it]\u001b[A"
     ]
    },
    {
     "name": "stdout",
     "output_type": "stream",
     "text": [
      "0.11816985\n"
     ]
    },
    {
     "name": "stderr",
     "output_type": "stream",
     "text": [
      "\n",
      " 53%|█████▎    | 265/500 [06:42<05:45,  1.47s/it]\u001b[A"
     ]
    },
    {
     "name": "stdout",
     "output_type": "stream",
     "text": [
      "0.1138776\n"
     ]
    },
    {
     "name": "stderr",
     "output_type": "stream",
     "text": [
      "\n",
      " 53%|█████▎    | 266/500 [06:43<05:41,  1.46s/it]\u001b[A"
     ]
    },
    {
     "name": "stdout",
     "output_type": "stream",
     "text": [
      "0.11098504\n"
     ]
    },
    {
     "name": "stderr",
     "output_type": "stream",
     "text": [
      "\n",
      " 53%|█████▎    | 267/500 [06:44<05:29,  1.41s/it]\u001b[A"
     ]
    },
    {
     "name": "stdout",
     "output_type": "stream",
     "text": [
      "0.12366986\n"
     ]
    },
    {
     "name": "stderr",
     "output_type": "stream",
     "text": [
      "\n",
      " 54%|█████▎    | 268/500 [06:46<05:22,  1.39s/it]\u001b[A"
     ]
    },
    {
     "name": "stdout",
     "output_type": "stream",
     "text": [
      "0.122921616\n"
     ]
    },
    {
     "name": "stderr",
     "output_type": "stream",
     "text": [
      "\n",
      " 54%|█████▍    | 269/500 [06:47<05:15,  1.36s/it]\u001b[A"
     ]
    },
    {
     "name": "stdout",
     "output_type": "stream",
     "text": [
      "0.11255331\n"
     ]
    },
    {
     "name": "stderr",
     "output_type": "stream",
     "text": [
      "\n",
      " 54%|█████▍    | 270/500 [06:48<05:15,  1.37s/it]\u001b[A"
     ]
    },
    {
     "name": "stdout",
     "output_type": "stream",
     "text": [
      "0.1116539\n"
     ]
    },
    {
     "name": "stderr",
     "output_type": "stream",
     "text": [
      "\n",
      " 54%|█████▍    | 271/500 [06:50<05:15,  1.38s/it]\u001b[A"
     ]
    },
    {
     "name": "stdout",
     "output_type": "stream",
     "text": [
      "0.21551962\n"
     ]
    },
    {
     "name": "stderr",
     "output_type": "stream",
     "text": [
      "\n",
      " 54%|█████▍    | 272/500 [06:51<05:19,  1.40s/it]\u001b[A"
     ]
    },
    {
     "name": "stdout",
     "output_type": "stream",
     "text": [
      "0.15768579\n"
     ]
    },
    {
     "name": "stderr",
     "output_type": "stream",
     "text": [
      "\n",
      " 55%|█████▍    | 273/500 [06:53<05:18,  1.40s/it]\u001b[A"
     ]
    },
    {
     "name": "stdout",
     "output_type": "stream",
     "text": [
      "0.10941839\n"
     ]
    },
    {
     "name": "stderr",
     "output_type": "stream",
     "text": [
      "\n",
      " 55%|█████▍    | 274/500 [06:54<05:23,  1.43s/it]\u001b[A"
     ]
    },
    {
     "name": "stdout",
     "output_type": "stream",
     "text": [
      "0.08767555\n"
     ]
    },
    {
     "name": "stderr",
     "output_type": "stream",
     "text": [
      "\n",
      " 55%|█████▌    | 275/500 [06:56<05:30,  1.47s/it]\u001b[A"
     ]
    },
    {
     "name": "stdout",
     "output_type": "stream",
     "text": [
      "0.09260574\n"
     ]
    },
    {
     "name": "stderr",
     "output_type": "stream",
     "text": [
      "\n",
      " 55%|█████▌    | 276/500 [06:57<05:21,  1.43s/it]\u001b[A"
     ]
    },
    {
     "name": "stdout",
     "output_type": "stream",
     "text": [
      "0.08154239\n"
     ]
    },
    {
     "name": "stderr",
     "output_type": "stream",
     "text": [
      "\n",
      " 55%|█████▌    | 277/500 [06:59<05:25,  1.46s/it]\u001b[A"
     ]
    },
    {
     "name": "stdout",
     "output_type": "stream",
     "text": [
      "0.08014917\n"
     ]
    },
    {
     "name": "stderr",
     "output_type": "stream",
     "text": [
      "\n",
      " 56%|█████▌    | 278/500 [07:00<05:21,  1.45s/it]\u001b[A"
     ]
    },
    {
     "name": "stdout",
     "output_type": "stream",
     "text": [
      "0.1685917\n"
     ]
    },
    {
     "name": "stderr",
     "output_type": "stream",
     "text": [
      "\n",
      " 56%|█████▌    | 279/500 [07:01<05:23,  1.46s/it]\u001b[A"
     ]
    },
    {
     "name": "stdout",
     "output_type": "stream",
     "text": [
      "0.10405509\n"
     ]
    },
    {
     "name": "stderr",
     "output_type": "stream",
     "text": [
      "\n",
      " 56%|█████▌    | 280/500 [07:03<05:22,  1.47s/it]\u001b[A"
     ]
    },
    {
     "name": "stdout",
     "output_type": "stream",
     "text": [
      "0.104883514\n"
     ]
    },
    {
     "name": "stderr",
     "output_type": "stream",
     "text": [
      "\n",
      " 56%|█████▌    | 281/500 [07:04<05:14,  1.44s/it]\u001b[A"
     ]
    },
    {
     "name": "stdout",
     "output_type": "stream",
     "text": [
      "0.09903654\n"
     ]
    },
    {
     "name": "stderr",
     "output_type": "stream",
     "text": [
      "\n",
      " 56%|█████▋    | 282/500 [07:06<05:17,  1.45s/it]\u001b[A"
     ]
    },
    {
     "name": "stdout",
     "output_type": "stream",
     "text": [
      "0.11675836\n"
     ]
    },
    {
     "name": "stderr",
     "output_type": "stream",
     "text": [
      "\n",
      " 57%|█████▋    | 283/500 [07:07<04:59,  1.38s/it]\u001b[A"
     ]
    },
    {
     "name": "stdout",
     "output_type": "stream",
     "text": [
      "0.11435611\n"
     ]
    },
    {
     "name": "stderr",
     "output_type": "stream",
     "text": [
      "\n",
      " 57%|█████▋    | 284/500 [07:08<05:01,  1.40s/it]\u001b[A"
     ]
    },
    {
     "name": "stdout",
     "output_type": "stream",
     "text": [
      "0.098492414\n"
     ]
    },
    {
     "name": "stderr",
     "output_type": "stream",
     "text": [
      "\n",
      " 57%|█████▋    | 285/500 [07:10<05:25,  1.51s/it]\u001b[A"
     ]
    },
    {
     "name": "stdout",
     "output_type": "stream",
     "text": [
      "0.075503595\n"
     ]
    },
    {
     "name": "stderr",
     "output_type": "stream",
     "text": [
      "\n",
      " 57%|█████▋    | 286/500 [07:12<05:38,  1.58s/it]\u001b[A"
     ]
    },
    {
     "name": "stdout",
     "output_type": "stream",
     "text": [
      "0.07148945\n"
     ]
    },
    {
     "name": "stderr",
     "output_type": "stream",
     "text": [
      "\n",
      " 57%|█████▋    | 287/500 [07:13<05:15,  1.48s/it]\u001b[A"
     ]
    },
    {
     "name": "stdout",
     "output_type": "stream",
     "text": [
      "0.06434793\n"
     ]
    },
    {
     "name": "stderr",
     "output_type": "stream",
     "text": [
      "\n",
      " 58%|█████▊    | 288/500 [07:15<05:18,  1.50s/it]\u001b[A"
     ]
    },
    {
     "name": "stdout",
     "output_type": "stream",
     "text": [
      "0.049672566\n"
     ]
    },
    {
     "name": "stderr",
     "output_type": "stream",
     "text": [
      "\n",
      " 58%|█████▊    | 289/500 [07:16<05:22,  1.53s/it]\u001b[A"
     ]
    },
    {
     "name": "stdout",
     "output_type": "stream",
     "text": [
      "0.07411378\n"
     ]
    },
    {
     "name": "stderr",
     "output_type": "stream",
     "text": [
      "\n",
      " 58%|█████▊    | 290/500 [07:18<05:25,  1.55s/it]\u001b[A"
     ]
    },
    {
     "name": "stdout",
     "output_type": "stream",
     "text": [
      "0.08170338\n"
     ]
    },
    {
     "name": "stderr",
     "output_type": "stream",
     "text": [
      "\n",
      " 58%|█████▊    | 291/500 [07:20<05:29,  1.58s/it]\u001b[A"
     ]
    },
    {
     "name": "stdout",
     "output_type": "stream",
     "text": [
      "0.07786012\n"
     ]
    },
    {
     "name": "stderr",
     "output_type": "stream",
     "text": [
      "\n",
      " 58%|█████▊    | 292/500 [07:21<05:39,  1.63s/it]\u001b[A"
     ]
    },
    {
     "name": "stdout",
     "output_type": "stream",
     "text": [
      "0.061454955\n"
     ]
    },
    {
     "name": "stderr",
     "output_type": "stream",
     "text": [
      "\n",
      " 59%|█████▊    | 293/500 [07:23<05:24,  1.57s/it]\u001b[A"
     ]
    },
    {
     "name": "stdout",
     "output_type": "stream",
     "text": [
      "0.08591369\n"
     ]
    },
    {
     "name": "stderr",
     "output_type": "stream",
     "text": [
      "\n",
      " 59%|█████▉    | 294/500 [07:25<05:37,  1.64s/it]\u001b[A"
     ]
    },
    {
     "name": "stdout",
     "output_type": "stream",
     "text": [
      "0.04898908\n"
     ]
    },
    {
     "name": "stderr",
     "output_type": "stream",
     "text": [
      "\n",
      " 59%|█████▉    | 295/500 [07:26<05:26,  1.59s/it]\u001b[A"
     ]
    },
    {
     "name": "stdout",
     "output_type": "stream",
     "text": [
      "0.063791685\n"
     ]
    },
    {
     "name": "stderr",
     "output_type": "stream",
     "text": [
      "\n",
      " 59%|█████▉    | 296/500 [07:28<05:28,  1.61s/it]\u001b[A"
     ]
    },
    {
     "name": "stdout",
     "output_type": "stream",
     "text": [
      "0.10165145\n"
     ]
    },
    {
     "name": "stderr",
     "output_type": "stream",
     "text": [
      "\n",
      " 59%|█████▉    | 297/500 [07:29<05:12,  1.54s/it]\u001b[A"
     ]
    },
    {
     "name": "stdout",
     "output_type": "stream",
     "text": [
      "0.15260378\n"
     ]
    },
    {
     "name": "stderr",
     "output_type": "stream",
     "text": [
      "\n",
      " 60%|█████▉    | 298/500 [07:31<05:02,  1.50s/it]\u001b[A"
     ]
    },
    {
     "name": "stdout",
     "output_type": "stream",
     "text": [
      "0.081019305\n"
     ]
    },
    {
     "name": "stderr",
     "output_type": "stream",
     "text": [
      "\n",
      " 60%|█████▉    | 299/500 [07:32<04:50,  1.44s/it]\u001b[A"
     ]
    },
    {
     "name": "stdout",
     "output_type": "stream",
     "text": [
      "0.121570356\n"
     ]
    },
    {
     "name": "stderr",
     "output_type": "stream",
     "text": [
      "\n",
      " 60%|██████    | 300/500 [07:34<05:05,  1.53s/it]\u001b[A"
     ]
    },
    {
     "name": "stdout",
     "output_type": "stream",
     "text": [
      "0.11729963\n"
     ]
    },
    {
     "name": "stderr",
     "output_type": "stream",
     "text": [
      "\n",
      " 60%|██████    | 301/500 [07:35<04:47,  1.45s/it]\u001b[A"
     ]
    },
    {
     "name": "stdout",
     "output_type": "stream",
     "text": [
      "0.10583808\n"
     ]
    },
    {
     "name": "stderr",
     "output_type": "stream",
     "text": [
      "\n",
      " 60%|██████    | 302/500 [07:36<04:46,  1.45s/it]\u001b[A"
     ]
    },
    {
     "name": "stdout",
     "output_type": "stream",
     "text": [
      "0.1042644\n"
     ]
    },
    {
     "name": "stderr",
     "output_type": "stream",
     "text": [
      "\n",
      " 61%|██████    | 303/500 [07:38<05:12,  1.59s/it]\u001b[A"
     ]
    },
    {
     "name": "stdout",
     "output_type": "stream",
     "text": [
      "0.103892714\n"
     ]
    },
    {
     "name": "stderr",
     "output_type": "stream",
     "text": [
      "\n",
      " 61%|██████    | 304/500 [07:40<05:14,  1.61s/it]\u001b[A"
     ]
    },
    {
     "name": "stdout",
     "output_type": "stream",
     "text": [
      "0.12696524\n"
     ]
    },
    {
     "name": "stderr",
     "output_type": "stream",
     "text": [
      "\n",
      " 61%|██████    | 305/500 [07:41<05:10,  1.59s/it]\u001b[A"
     ]
    },
    {
     "name": "stdout",
     "output_type": "stream",
     "text": [
      "0.076040365\n"
     ]
    },
    {
     "name": "stderr",
     "output_type": "stream",
     "text": [
      "\n",
      " 61%|██████    | 306/500 [07:43<05:27,  1.69s/it]\u001b[A"
     ]
    },
    {
     "name": "stdout",
     "output_type": "stream",
     "text": [
      "0.07022128\n"
     ]
    },
    {
     "name": "stderr",
     "output_type": "stream",
     "text": [
      "\n",
      " 61%|██████▏   | 307/500 [07:45<05:08,  1.60s/it]\u001b[A"
     ]
    },
    {
     "name": "stdout",
     "output_type": "stream",
     "text": [
      "0.07920699\n"
     ]
    },
    {
     "name": "stderr",
     "output_type": "stream",
     "text": [
      "\n",
      " 62%|██████▏   | 308/500 [07:47<05:39,  1.77s/it]\u001b[A"
     ]
    },
    {
     "name": "stdout",
     "output_type": "stream",
     "text": [
      "0.11063196\n"
     ]
    },
    {
     "name": "stderr",
     "output_type": "stream",
     "text": [
      "\n",
      " 62%|██████▏   | 309/500 [07:48<05:18,  1.67s/it]\u001b[A"
     ]
    },
    {
     "name": "stdout",
     "output_type": "stream",
     "text": [
      "0.07804019\n"
     ]
    },
    {
     "name": "stderr",
     "output_type": "stream",
     "text": [
      "\n",
      " 62%|██████▏   | 310/500 [07:50<05:14,  1.65s/it]\u001b[A"
     ]
    },
    {
     "name": "stdout",
     "output_type": "stream",
     "text": [
      "0.0979291\n"
     ]
    },
    {
     "name": "stderr",
     "output_type": "stream",
     "text": [
      "\n",
      " 62%|██████▏   | 311/500 [07:52<05:11,  1.65s/it]\u001b[A"
     ]
    },
    {
     "name": "stdout",
     "output_type": "stream",
     "text": [
      "0.09183955\n"
     ]
    },
    {
     "name": "stderr",
     "output_type": "stream",
     "text": [
      "\n",
      " 62%|██████▏   | 312/500 [07:53<05:23,  1.72s/it]\u001b[A"
     ]
    },
    {
     "name": "stdout",
     "output_type": "stream",
     "text": [
      "0.10386541\n"
     ]
    },
    {
     "name": "stderr",
     "output_type": "stream",
     "text": [
      "\n",
      " 63%|██████▎   | 313/500 [07:55<05:10,  1.66s/it]\u001b[A"
     ]
    },
    {
     "name": "stdout",
     "output_type": "stream",
     "text": [
      "0.12599388\n"
     ]
    },
    {
     "name": "stderr",
     "output_type": "stream",
     "text": [
      "\n",
      " 63%|██████▎   | 314/500 [07:56<05:01,  1.62s/it]\u001b[A"
     ]
    },
    {
     "name": "stdout",
     "output_type": "stream",
     "text": [
      "0.10520525\n"
     ]
    },
    {
     "name": "stderr",
     "output_type": "stream",
     "text": [
      "\n",
      " 63%|██████▎   | 315/500 [07:58<04:56,  1.60s/it]\u001b[A"
     ]
    },
    {
     "name": "stdout",
     "output_type": "stream",
     "text": [
      "0.10692293\n"
     ]
    },
    {
     "name": "stderr",
     "output_type": "stream",
     "text": [
      "\n",
      " 63%|██████▎   | 316/500 [08:00<04:59,  1.63s/it]\u001b[A"
     ]
    },
    {
     "name": "stdout",
     "output_type": "stream",
     "text": [
      "0.09582284\n"
     ]
    },
    {
     "name": "stderr",
     "output_type": "stream",
     "text": [
      "\n",
      " 63%|██████▎   | 317/500 [08:01<04:47,  1.57s/it]\u001b[A"
     ]
    },
    {
     "name": "stdout",
     "output_type": "stream",
     "text": [
      "0.07095759\n"
     ]
    },
    {
     "name": "stderr",
     "output_type": "stream",
     "text": [
      "\n",
      " 64%|██████▎   | 318/500 [08:03<04:53,  1.61s/it]\u001b[A"
     ]
    },
    {
     "name": "stdout",
     "output_type": "stream",
     "text": [
      "0.08789653\n"
     ]
    },
    {
     "name": "stderr",
     "output_type": "stream",
     "text": [
      "\n",
      " 64%|██████▍   | 319/500 [08:05<05:04,  1.68s/it]\u001b[A"
     ]
    },
    {
     "name": "stdout",
     "output_type": "stream",
     "text": [
      "0.1012547\n"
     ]
    },
    {
     "name": "stderr",
     "output_type": "stream",
     "text": [
      "\n",
      " 64%|██████▍   | 320/500 [08:06<05:06,  1.71s/it]\u001b[A"
     ]
    },
    {
     "name": "stdout",
     "output_type": "stream",
     "text": [
      "0.06628232\n"
     ]
    },
    {
     "name": "stderr",
     "output_type": "stream",
     "text": [
      "\n",
      " 64%|██████▍   | 321/500 [08:08<05:04,  1.70s/it]\u001b[A"
     ]
    },
    {
     "name": "stdout",
     "output_type": "stream",
     "text": [
      "0.08437668\n"
     ]
    },
    {
     "name": "stderr",
     "output_type": "stream",
     "text": [
      "\n",
      " 64%|██████▍   | 322/500 [08:10<04:55,  1.66s/it]\u001b[A"
     ]
    },
    {
     "name": "stdout",
     "output_type": "stream",
     "text": [
      "0.091193534\n"
     ]
    },
    {
     "name": "stderr",
     "output_type": "stream",
     "text": [
      "\n",
      " 65%|██████▍   | 323/500 [08:11<04:44,  1.61s/it]\u001b[A"
     ]
    },
    {
     "name": "stdout",
     "output_type": "stream",
     "text": [
      "0.10871296\n"
     ]
    },
    {
     "name": "stderr",
     "output_type": "stream",
     "text": [
      "\n",
      " 65%|██████▍   | 324/500 [08:13<04:31,  1.54s/it]\u001b[A"
     ]
    },
    {
     "name": "stdout",
     "output_type": "stream",
     "text": [
      "0.080696106\n"
     ]
    },
    {
     "name": "stderr",
     "output_type": "stream",
     "text": [
      "\n",
      " 65%|██████▌   | 325/500 [08:14<04:42,  1.61s/it]\u001b[A"
     ]
    },
    {
     "name": "stdout",
     "output_type": "stream",
     "text": [
      "0.09746447\n"
     ]
    },
    {
     "name": "stderr",
     "output_type": "stream",
     "text": [
      "\n",
      " 65%|██████▌   | 326/500 [08:16<04:44,  1.64s/it]\u001b[A"
     ]
    },
    {
     "name": "stdout",
     "output_type": "stream",
     "text": [
      "0.09310403\n"
     ]
    },
    {
     "name": "stderr",
     "output_type": "stream",
     "text": [
      "\n",
      " 65%|██████▌   | 327/500 [08:18<05:14,  1.82s/it]\u001b[A"
     ]
    },
    {
     "name": "stdout",
     "output_type": "stream",
     "text": [
      "0.07614778\n"
     ]
    },
    {
     "name": "stderr",
     "output_type": "stream",
     "text": [
      "\n",
      " 66%|██████▌   | 328/500 [08:20<05:10,  1.80s/it]\u001b[A"
     ]
    },
    {
     "name": "stdout",
     "output_type": "stream",
     "text": [
      "0.08176534\n"
     ]
    },
    {
     "name": "stderr",
     "output_type": "stream",
     "text": [
      "\n",
      " 66%|██████▌   | 329/500 [08:21<04:37,  1.62s/it]\u001b[A"
     ]
    },
    {
     "name": "stdout",
     "output_type": "stream",
     "text": [
      "0.09563361\n"
     ]
    },
    {
     "name": "stderr",
     "output_type": "stream",
     "text": [
      "\n",
      " 66%|██████▌   | 330/500 [08:23<04:23,  1.55s/it]\u001b[A"
     ]
    },
    {
     "name": "stdout",
     "output_type": "stream",
     "text": [
      "0.10010766\n"
     ]
    },
    {
     "name": "stderr",
     "output_type": "stream",
     "text": [
      "\n",
      " 66%|██████▌   | 331/500 [08:24<04:14,  1.50s/it]\u001b[A"
     ]
    },
    {
     "name": "stdout",
     "output_type": "stream",
     "text": [
      "0.09382248\n"
     ]
    },
    {
     "name": "stderr",
     "output_type": "stream",
     "text": [
      "\n",
      " 66%|██████▋   | 332/500 [08:25<04:06,  1.46s/it]\u001b[A"
     ]
    },
    {
     "name": "stdout",
     "output_type": "stream",
     "text": [
      "0.080525704\n"
     ]
    },
    {
     "name": "stderr",
     "output_type": "stream",
     "text": [
      "\n",
      " 67%|██████▋   | 333/500 [08:27<03:56,  1.42s/it]\u001b[A"
     ]
    },
    {
     "name": "stdout",
     "output_type": "stream",
     "text": [
      "0.083188176\n"
     ]
    },
    {
     "name": "stderr",
     "output_type": "stream",
     "text": [
      "\n",
      " 67%|██████▋   | 334/500 [08:28<04:02,  1.46s/it]\u001b[A"
     ]
    },
    {
     "name": "stdout",
     "output_type": "stream",
     "text": [
      "0.08695\n"
     ]
    },
    {
     "name": "stderr",
     "output_type": "stream",
     "text": [
      "\n",
      " 67%|██████▋   | 335/500 [08:30<03:48,  1.39s/it]\u001b[A"
     ]
    },
    {
     "name": "stdout",
     "output_type": "stream",
     "text": [
      "0.09025284\n"
     ]
    },
    {
     "name": "stderr",
     "output_type": "stream",
     "text": [
      "\n",
      " 67%|██████▋   | 336/500 [08:31<03:59,  1.46s/it]\u001b[A"
     ]
    },
    {
     "name": "stdout",
     "output_type": "stream",
     "text": [
      "0.102982305\n"
     ]
    },
    {
     "name": "stderr",
     "output_type": "stream",
     "text": [
      "\n",
      " 67%|██████▋   | 337/500 [08:33<04:15,  1.57s/it]\u001b[A"
     ]
    },
    {
     "name": "stdout",
     "output_type": "stream",
     "text": [
      "0.0727878\n"
     ]
    },
    {
     "name": "stderr",
     "output_type": "stream",
     "text": [
      "\n",
      " 68%|██████▊   | 338/500 [08:35<04:21,  1.61s/it]\u001b[A"
     ]
    },
    {
     "name": "stdout",
     "output_type": "stream",
     "text": [
      "0.07433616\n"
     ]
    },
    {
     "name": "stderr",
     "output_type": "stream",
     "text": [
      "\n",
      " 68%|██████▊   | 339/500 [08:36<04:05,  1.52s/it]\u001b[A"
     ]
    },
    {
     "name": "stdout",
     "output_type": "stream",
     "text": [
      "0.07707713\n"
     ]
    },
    {
     "name": "stderr",
     "output_type": "stream",
     "text": [
      "\n",
      " 68%|██████▊   | 340/500 [08:37<03:59,  1.49s/it]\u001b[A"
     ]
    },
    {
     "name": "stdout",
     "output_type": "stream",
     "text": [
      "0.06265352\n"
     ]
    },
    {
     "name": "stderr",
     "output_type": "stream",
     "text": [
      "\n",
      " 68%|██████▊   | 341/500 [08:39<03:51,  1.45s/it]\u001b[A"
     ]
    },
    {
     "name": "stdout",
     "output_type": "stream",
     "text": [
      "0.08061257\n"
     ]
    },
    {
     "name": "stderr",
     "output_type": "stream",
     "text": [
      "\n",
      " 68%|██████▊   | 342/500 [08:40<03:46,  1.43s/it]\u001b[A"
     ]
    },
    {
     "name": "stdout",
     "output_type": "stream",
     "text": [
      "0.06329684\n"
     ]
    },
    {
     "name": "stderr",
     "output_type": "stream",
     "text": [
      "\n",
      " 69%|██████▊   | 343/500 [08:41<03:38,  1.39s/it]\u001b[A"
     ]
    },
    {
     "name": "stdout",
     "output_type": "stream",
     "text": [
      "0.08402084\n"
     ]
    },
    {
     "name": "stderr",
     "output_type": "stream",
     "text": [
      "\n",
      " 69%|██████▉   | 344/500 [08:43<03:21,  1.29s/it]\u001b[A"
     ]
    },
    {
     "name": "stdout",
     "output_type": "stream",
     "text": [
      "0.12197809\n"
     ]
    },
    {
     "name": "stderr",
     "output_type": "stream",
     "text": [
      "\n",
      " 69%|██████▉   | 345/500 [08:44<03:27,  1.34s/it]\u001b[A"
     ]
    },
    {
     "name": "stdout",
     "output_type": "stream",
     "text": [
      "0.06217679\n"
     ]
    },
    {
     "name": "stderr",
     "output_type": "stream",
     "text": [
      "\n",
      " 69%|██████▉   | 346/500 [08:45<03:26,  1.34s/it]\u001b[A"
     ]
    },
    {
     "name": "stdout",
     "output_type": "stream",
     "text": [
      "0.068635665\n"
     ]
    },
    {
     "name": "stderr",
     "output_type": "stream",
     "text": [
      "\n",
      " 69%|██████▉   | 347/500 [08:47<03:25,  1.34s/it]\u001b[A"
     ]
    },
    {
     "name": "stdout",
     "output_type": "stream",
     "text": [
      "0.06881845\n"
     ]
    },
    {
     "name": "stderr",
     "output_type": "stream",
     "text": [
      "\n",
      " 70%|██████▉   | 348/500 [08:48<03:24,  1.34s/it]\u001b[A"
     ]
    },
    {
     "name": "stdout",
     "output_type": "stream",
     "text": [
      "0.09559417\n"
     ]
    },
    {
     "name": "stderr",
     "output_type": "stream",
     "text": [
      "\n",
      " 70%|██████▉   | 349/500 [08:50<03:52,  1.54s/it]\u001b[A"
     ]
    },
    {
     "name": "stdout",
     "output_type": "stream",
     "text": [
      "0.073916905\n"
     ]
    },
    {
     "name": "stderr",
     "output_type": "stream",
     "text": [
      "\n",
      " 70%|███████   | 350/500 [08:52<04:10,  1.67s/it]\u001b[A"
     ]
    },
    {
     "name": "stdout",
     "output_type": "stream",
     "text": [
      "0.07998005\n"
     ]
    },
    {
     "name": "stderr",
     "output_type": "stream",
     "text": [
      "\n",
      " 70%|███████   | 351/500 [08:53<04:00,  1.62s/it]\u001b[A"
     ]
    },
    {
     "name": "stdout",
     "output_type": "stream",
     "text": [
      "0.08976663\n"
     ]
    },
    {
     "name": "stderr",
     "output_type": "stream",
     "text": [
      "\n",
      " 70%|███████   | 352/500 [08:55<03:54,  1.58s/it]\u001b[A"
     ]
    },
    {
     "name": "stdout",
     "output_type": "stream",
     "text": [
      "0.08040439\n"
     ]
    },
    {
     "name": "stderr",
     "output_type": "stream",
     "text": [
      "\n",
      " 71%|███████   | 353/500 [08:57<04:07,  1.68s/it]\u001b[A"
     ]
    },
    {
     "name": "stdout",
     "output_type": "stream",
     "text": [
      "0.06771537\n"
     ]
    },
    {
     "name": "stderr",
     "output_type": "stream",
     "text": [
      "\n",
      " 71%|███████   | 354/500 [08:58<03:53,  1.60s/it]\u001b[A"
     ]
    },
    {
     "name": "stdout",
     "output_type": "stream",
     "text": [
      "0.07597205\n"
     ]
    },
    {
     "name": "stderr",
     "output_type": "stream",
     "text": [
      "\n",
      " 71%|███████   | 355/500 [09:00<03:46,  1.56s/it]\u001b[A"
     ]
    },
    {
     "name": "stdout",
     "output_type": "stream",
     "text": [
      "0.0743837\n"
     ]
    },
    {
     "name": "stderr",
     "output_type": "stream",
     "text": [
      "\n",
      " 71%|███████   | 356/500 [09:01<03:41,  1.54s/it]\u001b[A"
     ]
    },
    {
     "name": "stdout",
     "output_type": "stream",
     "text": [
      "0.06357067\n"
     ]
    },
    {
     "name": "stderr",
     "output_type": "stream",
     "text": [
      "\n",
      " 71%|███████▏  | 357/500 [09:03<03:50,  1.61s/it]\u001b[A"
     ]
    },
    {
     "name": "stdout",
     "output_type": "stream",
     "text": [
      "0.059313968\n"
     ]
    },
    {
     "name": "stderr",
     "output_type": "stream",
     "text": [
      "\n",
      " 72%|███████▏  | 358/500 [09:05<03:49,  1.62s/it]\u001b[A"
     ]
    },
    {
     "name": "stdout",
     "output_type": "stream",
     "text": [
      "0.06588169\n"
     ]
    },
    {
     "name": "stderr",
     "output_type": "stream",
     "text": [
      "\n",
      " 72%|███████▏  | 359/500 [09:06<03:56,  1.68s/it]\u001b[A"
     ]
    },
    {
     "name": "stdout",
     "output_type": "stream",
     "text": [
      "0.064688854\n"
     ]
    },
    {
     "name": "stderr",
     "output_type": "stream",
     "text": [
      "\n",
      " 72%|███████▏  | 360/500 [09:09<04:14,  1.82s/it]\u001b[A"
     ]
    },
    {
     "name": "stdout",
     "output_type": "stream",
     "text": [
      "0.06993858\n"
     ]
    },
    {
     "name": "stderr",
     "output_type": "stream",
     "text": [
      "\n",
      " 72%|███████▏  | 361/500 [09:11<04:14,  1.83s/it]\u001b[A"
     ]
    },
    {
     "name": "stdout",
     "output_type": "stream",
     "text": [
      "0.07711356\n"
     ]
    },
    {
     "name": "stderr",
     "output_type": "stream",
     "text": [
      "\n",
      " 72%|███████▏  | 362/500 [09:12<04:06,  1.79s/it]\u001b[A"
     ]
    },
    {
     "name": "stdout",
     "output_type": "stream",
     "text": [
      "0.058975734\n"
     ]
    },
    {
     "name": "stderr",
     "output_type": "stream",
     "text": [
      "\n",
      " 73%|███████▎  | 363/500 [09:14<03:55,  1.72s/it]\u001b[A"
     ]
    },
    {
     "name": "stdout",
     "output_type": "stream",
     "text": [
      "0.06947661\n"
     ]
    },
    {
     "name": "stderr",
     "output_type": "stream",
     "text": [
      "\n",
      " 73%|███████▎  | 364/500 [09:16<04:03,  1.79s/it]\u001b[A"
     ]
    },
    {
     "name": "stdout",
     "output_type": "stream",
     "text": [
      "0.068387695\n"
     ]
    },
    {
     "name": "stderr",
     "output_type": "stream",
     "text": [
      "\n",
      " 73%|███████▎  | 365/500 [09:17<03:50,  1.71s/it]\u001b[A"
     ]
    },
    {
     "name": "stdout",
     "output_type": "stream",
     "text": [
      "0.07113871\n"
     ]
    },
    {
     "name": "stderr",
     "output_type": "stream",
     "text": [
      "\n",
      " 73%|███████▎  | 366/500 [09:19<03:41,  1.65s/it]\u001b[A"
     ]
    },
    {
     "name": "stdout",
     "output_type": "stream",
     "text": [
      "0.075441465\n"
     ]
    },
    {
     "name": "stderr",
     "output_type": "stream",
     "text": [
      "\n",
      " 73%|███████▎  | 367/500 [09:21<03:44,  1.69s/it]\u001b[A"
     ]
    },
    {
     "name": "stdout",
     "output_type": "stream",
     "text": [
      "0.052047126\n"
     ]
    },
    {
     "name": "stderr",
     "output_type": "stream",
     "text": [
      "\n",
      " 74%|███████▎  | 368/500 [09:22<03:48,  1.73s/it]\u001b[A"
     ]
    },
    {
     "name": "stdout",
     "output_type": "stream",
     "text": [
      "0.06529285\n"
     ]
    },
    {
     "name": "stderr",
     "output_type": "stream",
     "text": [
      "\n",
      " 74%|███████▍  | 369/500 [09:24<04:02,  1.85s/it]\u001b[A"
     ]
    },
    {
     "name": "stdout",
     "output_type": "stream",
     "text": [
      "0.056940667\n"
     ]
    },
    {
     "name": "stderr",
     "output_type": "stream",
     "text": [
      "\n",
      " 74%|███████▍  | 370/500 [09:26<03:49,  1.77s/it]\u001b[A"
     ]
    },
    {
     "name": "stdout",
     "output_type": "stream",
     "text": [
      "0.07497941\n"
     ]
    },
    {
     "name": "stderr",
     "output_type": "stream",
     "text": [
      "\n",
      " 74%|███████▍  | 371/500 [09:28<04:00,  1.87s/it]\u001b[A"
     ]
    },
    {
     "name": "stdout",
     "output_type": "stream",
     "text": [
      "0.065880656\n"
     ]
    },
    {
     "name": "stderr",
     "output_type": "stream",
     "text": [
      "\n",
      " 74%|███████▍  | 372/500 [09:30<04:04,  1.91s/it]\u001b[A"
     ]
    },
    {
     "name": "stdout",
     "output_type": "stream",
     "text": [
      "0.06296463\n"
     ]
    },
    {
     "name": "stderr",
     "output_type": "stream",
     "text": [
      "\n",
      " 75%|███████▍  | 373/500 [09:32<03:43,  1.76s/it]\u001b[A"
     ]
    },
    {
     "name": "stdout",
     "output_type": "stream",
     "text": [
      "0.07506911\n"
     ]
    },
    {
     "name": "stderr",
     "output_type": "stream",
     "text": [
      "\n",
      " 75%|███████▍  | 374/500 [09:33<03:25,  1.63s/it]\u001b[A"
     ]
    },
    {
     "name": "stdout",
     "output_type": "stream",
     "text": [
      "0.080962814\n"
     ]
    },
    {
     "name": "stderr",
     "output_type": "stream",
     "text": [
      "\n",
      " 75%|███████▌  | 375/500 [09:34<03:19,  1.59s/it]\u001b[A"
     ]
    },
    {
     "name": "stdout",
     "output_type": "stream",
     "text": [
      "0.07131349\n"
     ]
    },
    {
     "name": "stderr",
     "output_type": "stream",
     "text": [
      "\n",
      " 75%|███████▌  | 376/500 [09:36<03:02,  1.47s/it]\u001b[A"
     ]
    },
    {
     "name": "stdout",
     "output_type": "stream",
     "text": [
      "0.07162372\n"
     ]
    },
    {
     "name": "stderr",
     "output_type": "stream",
     "text": [
      "\n",
      " 75%|███████▌  | 377/500 [09:37<02:50,  1.39s/it]\u001b[A"
     ]
    },
    {
     "name": "stdout",
     "output_type": "stream",
     "text": [
      "0.06869971\n"
     ]
    },
    {
     "name": "stderr",
     "output_type": "stream",
     "text": [
      "\n",
      " 76%|███████▌  | 378/500 [09:38<02:37,  1.29s/it]\u001b[A"
     ]
    },
    {
     "name": "stdout",
     "output_type": "stream",
     "text": [
      "0.08643358\n"
     ]
    },
    {
     "name": "stderr",
     "output_type": "stream",
     "text": [
      "\n",
      " 76%|███████▌  | 379/500 [09:39<02:40,  1.33s/it]\u001b[A"
     ]
    },
    {
     "name": "stdout",
     "output_type": "stream",
     "text": [
      "0.07472441\n"
     ]
    },
    {
     "name": "stderr",
     "output_type": "stream",
     "text": [
      "\n",
      " 76%|███████▌  | 380/500 [09:41<02:40,  1.34s/it]\u001b[A"
     ]
    },
    {
     "name": "stdout",
     "output_type": "stream",
     "text": [
      "0.056513153\n"
     ]
    },
    {
     "name": "stderr",
     "output_type": "stream",
     "text": [
      "\n",
      " 76%|███████▌  | 381/500 [09:42<02:33,  1.29s/it]\u001b[A"
     ]
    },
    {
     "name": "stdout",
     "output_type": "stream",
     "text": [
      "0.080745205\n"
     ]
    },
    {
     "name": "stderr",
     "output_type": "stream",
     "text": [
      "\n",
      " 76%|███████▋  | 382/500 [09:43<02:31,  1.29s/it]\u001b[A"
     ]
    },
    {
     "name": "stdout",
     "output_type": "stream",
     "text": [
      "0.06831119\n"
     ]
    },
    {
     "name": "stderr",
     "output_type": "stream",
     "text": [
      "\n",
      " 77%|███████▋  | 383/500 [09:44<02:32,  1.30s/it]\u001b[A"
     ]
    },
    {
     "name": "stdout",
     "output_type": "stream",
     "text": [
      "0.09640615\n"
     ]
    },
    {
     "name": "stderr",
     "output_type": "stream",
     "text": [
      "\n",
      " 77%|███████▋  | 384/500 [09:46<02:31,  1.31s/it]\u001b[A"
     ]
    },
    {
     "name": "stdout",
     "output_type": "stream",
     "text": [
      "0.07256133\n"
     ]
    },
    {
     "name": "stderr",
     "output_type": "stream",
     "text": [
      "\n",
      " 77%|███████▋  | 385/500 [09:48<02:55,  1.52s/it]\u001b[A"
     ]
    },
    {
     "name": "stdout",
     "output_type": "stream",
     "text": [
      "0.060105305\n"
     ]
    },
    {
     "name": "stderr",
     "output_type": "stream",
     "text": [
      "\n",
      " 77%|███████▋  | 386/500 [09:49<02:53,  1.52s/it]\u001b[A"
     ]
    },
    {
     "name": "stdout",
     "output_type": "stream",
     "text": [
      "0.0731437\n"
     ]
    },
    {
     "name": "stderr",
     "output_type": "stream",
     "text": [
      "\n",
      " 77%|███████▋  | 387/500 [09:51<02:57,  1.57s/it]\u001b[A"
     ]
    },
    {
     "name": "stdout",
     "output_type": "stream",
     "text": [
      "0.06803204\n"
     ]
    },
    {
     "ename": "ValueError",
     "evalue": "operands could not be broadcast together with shapes (3,49000) (5,49000) ",
     "output_type": "error",
     "traceback": [
      "\u001b[0;31m---------------------------------------------------------------------------\u001b[0m",
      "\u001b[0;31mValueError\u001b[0m                                Traceback (most recent call last)",
      "\u001b[0;32m<ipython-input-19-7be002633d30>\u001b[0m in \u001b[0;36m<module>\u001b[0;34m\u001b[0m\n\u001b[1;32m      8\u001b[0m     \u001b[0mX_noise_batch\u001b[0m \u001b[0;34m=\u001b[0m \u001b[0mload_noise_batch\u001b[0m\u001b[0;34m(\u001b[0m\u001b[0mbatch_num\u001b[0m\u001b[0;34m)\u001b[0m\u001b[0;34m\u001b[0m\u001b[0;34m\u001b[0m\u001b[0m\n\u001b[1;32m      9\u001b[0m \u001b[0;34m\u001b[0m\u001b[0m\n\u001b[0;32m---> 10\u001b[0;31m     \u001b[0mX_batch\u001b[0m \u001b[0;34m=\u001b[0m \u001b[0mX_voice_batch\u001b[0m \u001b[0;34m+\u001b[0m \u001b[0mX_noise_batch\u001b[0m\u001b[0;34m\u001b[0m\u001b[0;34m\u001b[0m\u001b[0m\n\u001b[0m\u001b[1;32m     11\u001b[0m     \u001b[0mX_batch\u001b[0m \u001b[0;34m=\u001b[0m \u001b[0maudios_to_spectrograms\u001b[0m\u001b[0;34m(\u001b[0m\u001b[0mX_batch\u001b[0m\u001b[0;34m,\u001b[0m \u001b[0msr\u001b[0m\u001b[0;34m)\u001b[0m\u001b[0;34m[\u001b[0m\u001b[0;34m:\u001b[0m\u001b[0;34m,\u001b[0m \u001b[0;32mNone\u001b[0m\u001b[0;34m,\u001b[0m \u001b[0;34m:\u001b[0m\u001b[0;34m,\u001b[0m \u001b[0;34m:\u001b[0m\u001b[0;34m]\u001b[0m\u001b[0;34m\u001b[0m\u001b[0;34m\u001b[0m\u001b[0m\n\u001b[1;32m     12\u001b[0m \u001b[0;34m\u001b[0m\u001b[0m\n",
      "\u001b[0;31mValueError\u001b[0m: operands could not be broadcast together with shapes (3,49000) (5,49000) "
     ]
    }
   ],
   "source": [
    "crit = nn.MSELoss()\n",
    "losses = []\n",
    "\n",
    "batch_num = 5\n",
    "\n",
    "for epoch in tqdm(range(500)):\n",
    "    X_voice_batch = load_voice_batch(batch_num)\n",
    "    X_noise_batch = load_noise_batch(batch_num)\n",
    "    \n",
    "    X_batch = X_voice_batch + X_noise_batch\n",
    "    X_batch = audios_to_spectrograms(X_batch, sr)[:, None, :, :]\n",
    "    \n",
    "    Y_batch = audios_to_spectrograms(X_voice_batch, sr)[:, None, :, :]\n",
    "    \n",
    "    X_batch = torch.from_numpy(X_batch).to(device, dtype)\n",
    "    Y_batch = torch.from_numpy(Y_batch).to(device, dtype)\n",
    "    \n",
    "    \n",
    "    vin.opt.zero_grad()\n",
    "    Y = vin.forward(X_batch)\n",
    "    loss = crit(Y, Y_batch)\n",
    "    \n",
    "    loss.backward()\n",
    "    \n",
    "    vin.opt.step()\n",
    "    \n",
    "    losses.append(loss.detach().cpu().numpy())\n",
    "    print(loss.detach().cpu().numpy())\n",
    "    \n",
    "plt.plot(np.arange(len(losses)), losses)"
   ]
  },
  {
   "cell_type": "code",
   "execution_count": 18,
   "metadata": {},
   "outputs": [
    {
     "data": {
      "image/png": "[encoded data removed]",
      "text/plain": [
       "<Figure size 720x288 with 2 Axes>"
      ]
     },
     "metadata": {
      "needs_background": "light"
     },
     "output_type": "display_data"
    },
    {
     "data": {
      "image/png": "[encoded data removed]",
      "text/plain": [
       "<Figure size 720x288 with 2 Axes>"
      ]
     },
     "metadata": {
      "needs_background": "light"
     },
     "output_type": "display_data"
    },
    {
     "data": {
      "text/html": [
       "\n",
       "                <audio  controls=\"controls\" >\n",
       "                    <source src=\"data:audio/wav;base64,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\" type=\"audio/wav\" />\n",
       "                    Your browser does not support the audio element.\n",
       "                </audio>\n",
       "              "
      ],
      "text/plain": [
       "<IPython.lib.display.Audio object>"
      ]
     },
     "metadata": {},
     "output_type": "display_data"
    },
    {
     "data": {
      "text/html": [
       "\n",
       "                <audio  controls=\"controls\" >\n",
       "                    <source src=\"data:audio/wav;base64,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\" type=\"audio/wav\" />\n",
       "                    Your browser does not support the audio element.\n",
       "                </audio>\n",
       "              "
      ],
      "text/plain": [
       "<IPython.lib.display.Audio object>"
      ]
     },
     "metadata": {},
     "output_type": "display_data"
    }
   ],
   "source": [
    "Y_pred = vin.forward(X_test2)[0,0].detach().cpu().numpy()\n",
    "\n",
    "show_spectrogram(Y_pred, sr)\n",
    "plt.show()\n",
    "show_spectrogram(Y_test2[0,0].detach().cpu().numpy(), sr)\n",
    "plt.show()\n",
    "play_audio(spectrogram_to_audio(Y_pred, sr), sr)\n",
    "play_audio(spectrogram_to_audio(Y_test2[0,0], sr), sr)"
   ]
  },
  {
   "cell_type": "code",
   "execution_count": null,
   "metadata": {},
   "outputs": [],
   "source": []
  },
  {
   "cell_type": "code",
   "execution_count": null,
   "metadata": {},
   "outputs": [],
   "source": []
  },
  {
   "cell_type": "code",
   "execution_count": null,
   "metadata": {},
   "outputs": [],
   "source": []
  },
  {
   "cell_type": "code",
   "execution_count": null,
   "metadata": {},
   "outputs": [],
   "source": []
  },
  {
   "cell_type": "code",
   "execution_count": null,
   "metadata": {},
   "outputs": [],
   "source": []
  },
  {
   "cell_type": "code",
   "execution_count": null,
   "metadata": {},
   "outputs": [],
   "source": []
  },
  {
   "cell_type": "code",
   "execution_count": null,
   "metadata": {},
   "outputs": [],
   "source": []
  },
  {
   "cell_type": "code",
   "execution_count": null,
   "metadata": {},
   "outputs": [],
   "source": []
  },
  {
   "cell_type": "code",
   "execution_count": null,
   "metadata": {},
   "outputs": [],
   "source": []
  },
  {
   "cell_type": "code",
   "execution_count": null,
   "metadata": {},
   "outputs": [],
   "source": [
    "class TempNet(nn.Module):\n",
    "    def __init__(self):\n",
    "        super(TempNet, self).__init__()\n",
    "        self.conv1 = nn.Conv2d(1, 2, 3, padding=1)\n",
    "        self.conv2 = nn.Conv2d(2, 4, 3, padding=1)\n",
    "        self.conv3 = nn.Conv2d(4, 8, 3, padding=1)\n",
    "        \n",
    "        self.convt1 = nn.ConvTranspose2d(8, 4, 3, padding=1)\n",
    "        self.convt2 = nn.ConvTranspose2d(4, 2, 3, padding=1)\n",
    "        self.convt3 = nn.ConvTranspose2d(2, 1, 3, padding=1)\n",
    "        \n",
    "        self.opt = torch.optim.Adam(self.parameters(), lr=0.001)\n",
    "    \n",
    "    def forward(self, x):\n",
    "        x = self.conv1(x)\n",
    "        x = self.conv2(x)\n",
    "        x = self.conv3(x)\n",
    "        \n",
    "        x = self.convt1(x)\n",
    "        x = self.convt2(x)\n",
    "        x = self.convt3(x)\n",
    "        x = torch.tanh(x)\n",
    "        \n",
    "        return x\n",
    "    \n",
    "tn = TempNet().to(device)"
   ]
  },
  {
   "cell_type": "code",
   "execution_count": null,
   "metadata": {},
   "outputs": [],
   "source": [
    "X = torch.from_numpy(spectrogram)[None, None, ...].float()"
   ]
  },
  {
   "cell_type": "code",
   "execution_count": null,
   "metadata": {},
   "outputs": [],
   "source": [
    "spectrogramp = tn.forward(X).detach().cpu().numpy()[0,0]\n",
    "show_spectrogram(spectrogramp, sr)\n",
    "plt.show()\n",
    "play_audio(spectrogram_to_audio(spectrogramp, sr, normalize=True), sr)"
   ]
  },
  {
   "cell_type": "code",
   "execution_count": null,
   "metadata": {
    "scrolled": true
   },
   "outputs": [],
   "source": [
    "crit = nn.MSELoss()\n",
    "losses = []\n",
    "for epoch in tqdm(range(500)):\n",
    "    Y = tn.forward(X)\n",
    "    loss = crit(X, Y)\n",
    "    \n",
    "    loss.backward()\n",
    "    \n",
    "    tn.opt.step()\n",
    "    tn.opt.zero_grad()\n",
    "    \n",
    "    losses.append(loss.detach().cpu().numpy())\n",
    "    \n",
    "plt.plot(np.arange(len(losses)), losses)"
   ]
  },
  {
   "cell_type": "code",
   "execution_count": null,
   "metadata": {},
   "outputs": [],
   "source": [
    "spectrogramp = tn.forward(X).detach().cpu().numpy()[0,0]\n",
    "show_spectrogram(spectrogramp, sr)\n",
    "play_audio(spectrogram_to_audio(spectrogramp, sr, normalize=True), sr)"
   ]
  },
  {
   "cell_type": "markdown",
   "metadata": {},
   "source": [
    "# Idea for the future:\n",
    "\n",
    "\n",
    "so we make a audio classifer. Train it heavily with lots of data and use Conv1d\n",
    "\n",
    "D: raw audio -> is human speech or not\n",
    "\n",
    "\n",
    "Then we train network to take mixed audio signal and seperate it into speech and noise\n",
    "\n",
    "we make sure speech is speech with D. we can make sure noise is noise with ~D. the sum should be the signal\n",
    "\n",
    "\n",
    "compare these results with the simple noisy -> speech model\n"
   ]
  }
 ],
 "metadata": {
  "kernelspec": {
   "display_name": "Python 3",
   "language": "python",
   "name": "python3"
  },
  "language_info": {
   "codemirror_mode": {
    "name": "ipython",
    "version": 3
   },
   "file_extension": ".py",
   "mimetype": "text/x-python",
   "name": "python",
   "nbconvert_exporter": "python",
   "pygments_lexer": "ipython3",
   "version": "3.7.1"
  }
 },
 "nbformat": 4,
 "nbformat_minor": 4
}
