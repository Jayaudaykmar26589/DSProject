{
 "cells": [
  {
   "cell_type": "code",
   "execution_count": 7,
   "metadata": {},
   "outputs": [],
   "source": [
    "import mir_eval\n",
    "import numpy as np"
   ]
  },
  {
   "cell_type": "code",
   "execution_count": 8,
   "metadata": {},
   "outputs": [
    {
     "data": {
      "text/plain": [
       "<function mir_eval.separation.bss_eval_sources(reference_sources, estimated_sources, compute_permutation=True)>"
      ]
     },
     "execution_count": 8,
     "metadata": {},
     "output_type": "execute_result"
    }
   ],
   "source": [
    "mir_eval.separation.bss_eval_sources"
   ]
  },
  {
   "cell_type": "code",
   "execution_count": 9,
   "metadata": {},
   "outputs": [],
   "source": [
    "voices = np.load('datasets/voices_sr8000_dur5.npy')\n",
    "noises = np.load('datasets/noises_sr8000_dur5.npy')"
   ]
  },
  {
   "cell_type": "code",
   "execution_count": 13,
   "metadata": {},
   "outputs": [],
   "source": [
    "sources = np.stack((voices[0], noises[0]))"
   ]
  },
  {
   "cell_type": "code",
   "execution_count": 21,
   "metadata": {},
   "outputs": [
    {
     "data": {
      "text/plain": [
       "(array([276.15648954, 258.11776949]),\n",
       " array([291.84691549, 246.70462771]),\n",
       " array([276.1568244 , 246.30826499]),\n",
       " array([0, 1]))"
      ]
     },
     "execution_count": 21,
     "metadata": {},
     "output_type": "execute_result"
    }
   ],
   "source": [
    "mir_eval.separation.bss_eval_sources(sources, sources)"
   ]
  },
  {
   "cell_type": "code",
   "execution_count": 5,
   "metadata": {},
   "outputs": [
    {
     "name": "stdout",
     "output_type": "stream",
     "text": [
      "tensor(0.0208)\n"
     ]
    }
   ],
   "source": [
    "import pytorch_ssim\n",
    "import torch\n",
    "\n",
    "img1 = torch.rand(1, 1, 256, 256)\n",
    "img2 = torch.rand(1, 1, 256, 256)\n",
    "\n",
    "print(pytorch_ssim.ssim(img1, img2))\n",
    "\n",
    "# ssim_loss = pytorch_ssim.SSIM(window_size = 11)\n",
    "\n",
    "# print(ssim_loss(img1, img2))"
   ]
  },
  {
   "cell_type": "code",
   "execution_count": null,
   "metadata": {},
   "outputs": [],
   "source": []
  }
 ],
 "metadata": {
  "kernelspec": {
   "display_name": "Python 3",
   "language": "python",
   "name": "python3"
  },
  "language_info": {
   "codemirror_mode": {
    "name": "ipython",
    "version": 3
   },
   "file_extension": ".py",
   "mimetype": "text/x-python",
   "name": "python",
   "nbconvert_exporter": "python",
   "pygments_lexer": "ipython3",
   "version": "3.7.4"
  }
 },
 "nbformat": 4,
 "nbformat_minor": 4
}
