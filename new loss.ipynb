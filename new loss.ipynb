{
 "cells": [
  {
   "cell_type": "code",
   "execution_count": 2,
   "metadata": {},
   "outputs": [
    {
     "name": "stdout",
     "output_type": "stream",
     "text": [
      "cpu\n"
     ]
    }
   ],
   "source": [
    "%matplotlib inline\n",
    "import matplotlib.pyplot as plt\n",
    "import numpy as np\n",
    "\n",
    "from tqdm.notebook import tqdm\n",
    "\n",
    "import librosa\n",
    "import librosa.display\n",
    "\n",
    "import torch\n",
    "import torch.nn as nn\n",
    "from torchsummary import summary\n",
    "\n",
    "from common_audio import *\n",
    "from audio_dataset import *\n",
    "\n",
    "torch.manual_seed(0)\n",
    "np.random.seed(0)\n",
    "\n",
    "device = torch.device('cuda' if torch.cuda.is_available() else 'cpu')\n",
    "dtype = torch.float\n",
    "\n",
    "print(device)\n"
   ]
  },
  {
   "cell_type": "code",
   "execution_count": 80,
   "metadata": {},
   "outputs": [],
   "source": [
    "mse = nn.MSELoss()\n",
    "mse_no_reduction = nn.MSELoss(reduction='none')\n",
    "\n",
    "def projection(X, B):\n",
    "    B = torch.stack(B, axis=0).transpose(0, 1)\n",
    "    pred_coefs = torch.inverse(B.transpose(0, 1)@B)@B.transpose(0, 1) @ X\n",
    "    \n",
    "    residual = X - (B*(pred_coefs[None, :])).sum(axis=1)\n",
    "    residual_mag = torch.norm(residual) # want this to be 0\n",
    "    return pred_coefs, residual_mag\n",
    "\n",
    "def projection_loss(X, B, true_coefs, weights, res_weight):\n",
    "    pred_coefs, residual_mag = projection(X, B)\n",
    "    \n",
    "    loss1 = torch.dot(weights, mse_no_reduction(pred_coefs, true_coefs))\n",
    "    loss2 = res_weight * mse(residual_mag, torch.tensor(0.))\n",
    "    \n",
    "    return loss1 + loss2 \n"
   ]
  },
  {
   "cell_type": "code",
   "execution_count": 103,
   "metadata": {},
   "outputs": [
    {
     "name": "stdout",
     "output_type": "stream",
     "text": [
      "Before: \n",
      "MSE:  tensor(94.3321)\n",
      "Projection:  (tensor([1.0000, 1.0000]), tensor(7.9897e-05))\n",
      "Projection loss:  tensor(1.)\n",
      "After: \n",
      "MSE:  tensor(3.7114e-06)\n",
      "Projection:  (tensor([1.0000e+00, 3.1829e-05]), tensor(0.0601))\n",
      "Projection loss:  tensor(0.0036)\n"
     ]
    }
   ],
   "source": [
    "torch.manual_seed(0)\n",
    "\n",
    "z_dim = 1000\n",
    "B = (10*torch.randn(z_dim), 10*torch.randn(z_dim))\n",
    "\n",
    "true_coefs = torch.tensor([1., 0.])\n",
    "weights = torch.tensor([1., 1.])\n",
    "res_weight = torch.tensor(1.)\n",
    "\n",
    "X = 1*B[0] + 1*B[1]\n",
    "\n",
    "print('Before: ')\n",
    "print('MSE: ', mse(X, B[0]))\n",
    "print('Projection: ',projection(X, B))\n",
    "print('Projection loss: ', projection_loss(X, B, true_coefs, weights, res_weight))\n",
    "\n",
    "X.requires_grad_(True)\n",
    "opt = torch.optim.Adam([X], lr=0.01)\n",
    "for steps in range(1000):\n",
    "    opt.zero_grad()\n",
    "    loss = mse_loss(X, B[0])\n",
    "    loss.backward()\n",
    "    opt.step()\n",
    "\n",
    "X.requires_grad_(False)\n",
    "print('After: ')\n",
    "print('MSE: ', mse(X, B[0]))\n",
    "print('Projection: ',projection(X, B))\n",
    "print('Projection loss: ', projection_loss(X, B, true_coefs, weights, res_weight))\n"
   ]
  },
  {
   "cell_type": "code",
   "execution_count": 102,
   "metadata": {},
   "outputs": [
    {
     "name": "stdout",
     "output_type": "stream",
     "text": [
      "Before: \n",
      "MSE:  tensor(94.3321)\n",
      "Projection:  (tensor([1.0000, 1.0000]), tensor(7.9897e-05))\n",
      "Projection loss:  tensor(1.)\n",
      "After: \n",
      "MSE:  tensor(56.2494)\n",
      "Projection:  (tensor([9.8108e-01, 4.3306e-08]), tensor(237.0898))\n",
      "Projection loss:  tensor(1.8755e-15)\n"
     ]
    }
   ],
   "source": [
    "torch.manual_seed(0)\n",
    "\n",
    "z_dim = 1000\n",
    "B = (10*torch.randn(z_dim), 10*torch.randn(z_dim))\n",
    "\n",
    "true_coefs = torch.tensor([1., 0.])\n",
    "weights = torch.tensor([0., 1.])\n",
    "res_weight = torch.tensor(0.)\n",
    "\n",
    "X = 1*B[0] + 1*B[1]\n",
    "\n",
    "print('Before: ')\n",
    "print('MSE: ', mse(X, B[0]))\n",
    "print('Projection: ',projection(X, B))\n",
    "print('Projection loss: ', projection_loss(X, B, true_coefs, weights, res_weight))\n",
    "\n",
    "X.requires_grad_(True)\n",
    "opt = torch.optim.Adam([X], lr=0.01)\n",
    "for steps in range(1000):\n",
    "    opt.zero_grad()\n",
    "    loss = projection_loss(X, B, true_coefs, weights, res_weight)\n",
    "    loss.backward()\n",
    "    opt.step()\n",
    "\n",
    "X.requires_grad_(False)\n",
    "print('After: ')\n",
    "print('MSE: ', mse(X, B[0]))\n",
    "print('Projection: ',projection(X, B))\n",
    "print('Projection loss: ', projection_loss(X, B, true_coefs, weights, res_weight))\n"
   ]
  },
  {
   "cell_type": "code",
   "execution_count": null,
   "metadata": {},
   "outputs": [],
   "source": []
  },
  {
   "cell_type": "code",
   "execution_count": null,
   "metadata": {},
   "outputs": [],
   "source": []
  },
  {
   "cell_type": "code",
   "execution_count": null,
   "metadata": {},
   "outputs": [],
   "source": []
  },
  {
   "cell_type": "code",
   "execution_count": null,
   "metadata": {},
   "outputs": [],
   "source": []
  },
  {
   "cell_type": "code",
   "execution_count": null,
   "metadata": {},
   "outputs": [],
   "source": []
  },
  {
   "cell_type": "code",
   "execution_count": 56,
   "metadata": {},
   "outputs": [],
   "source": [
    "# utility\n",
    "def to_torch(*arrays, device=device, dtype=dtype):\n",
    "    if len(arrays) == 1:\n",
    "        array = arrays[0]\n",
    "        if isinstance(array, np.ndarray):\n",
    "            array = torch.from_numpy(array)\n",
    "        return array.to(device, dtype)\n",
    "    ret = ()\n",
    "    for array in arrays:\n",
    "        ret += to_torch(array, device=device, dtype=dtype),\n",
    "    return ret\n",
    "\n",
    "def to_np(*arrays):\n",
    "    if len(arrays) == 1:\n",
    "        return arrays[0].detach().cpu().numpy()\n",
    "    ret = ()\n",
    "    for array in arrays:\n",
    "        ret += to_np(array),\n",
    "    return ret"
   ]
  },
  {
   "cell_type": "code",
   "execution_count": null,
   "metadata": {},
   "outputs": [],
   "source": []
  }
 ],
 "metadata": {
  "kernelspec": {
   "display_name": "Python 3",
   "language": "python",
   "name": "python3"
  },
  "language_info": {
   "codemirror_mode": {
    "name": "ipython",
    "version": 3
   },
   "file_extension": ".py",
   "mimetype": "text/x-python",
   "name": "python",
   "nbconvert_exporter": "python",
   "pygments_lexer": "ipython3",
   "version": "3.7.1"
  }
 },
 "nbformat": 4,
 "nbformat_minor": 4
}
