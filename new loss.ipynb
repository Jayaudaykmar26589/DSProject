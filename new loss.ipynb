{
 "cells": [
  {
   "cell_type": "code",
   "execution_count": 3,
   "metadata": {},
   "outputs": [
    {
     "name": "stdout",
     "output_type": "stream",
     "text": [
      "cpu\n"
     ]
    }
   ],
   "source": [
    "%matplotlib inline\n",
    "import matplotlib.pyplot as plt\n",
    "import numpy as np\n",
    "\n",
    "from tqdm.notebook import tqdm\n",
    "\n",
    "import librosa\n",
    "import librosa.display\n",
    "\n",
    "import torch\n",
    "import torch.nn as nn\n",
    "from torchsummary import summary\n",
    "\n",
    "from common_audio import *\n",
    "from audio_dataset import *\n",
    "\n",
    "torch.manual_seed(0)\n",
    "np.random.seed(0)\n",
    "\n",
    "device = torch.device('cuda' if torch.cuda.is_available() else 'cpu')\n",
    "dtype = torch.float\n",
    "\n",
    "print(device)\n"
   ]
  },
  {
   "cell_type": "code",
   "execution_count": 24,
   "metadata": {},
   "outputs": [],
   "source": [
    "def cool_new_loss(vh, v, n): #not vectorized yet\n",
    "    M = torch.stack((v, n),axis=0).transpose(0, 1)\n",
    "    ans = torch.inverse(M.transpose(0, 1)@M)@M.transpose(0, 1) @ vh\n",
    "    e = torch.norm(vh-ans[0]*v - ans[1]*n) # want this to be 0\n",
    "    \n",
    "    loss = 0*(ans[0] - 1.)**2 + 1*(ans[1] - 0.)**2 #+ (e**2)\n",
    "    \n",
    "    return loss\n",
    "    \n",
    "def mse_loss(vh, v):\n",
    "    return ((vh-v)**2).mean()\n",
    "\n",
    "def test(vh, v, n):\n",
    "    M = torch.stack((v, n),axis=0).transpose(0, 1)\n",
    "    ans = torch.inverse(M.transpose(0, 1)@M)@M.transpose(0, 1) @ vh\n",
    "    e = torch.norm(vh-ans[0]*v - ans[1]*n) # want this to be 0\n",
    "    return ans[0].item(), ans[1].item(), e.item()"
   ]
  },
  {
   "cell_type": "code",
   "execution_count": 25,
   "metadata": {},
   "outputs": [
    {
     "name": "stdout",
     "output_type": "stream",
     "text": [
      "tensor(943321.2500)\n",
      "(1.0, 1.000000238418579, 0.007320504169911146)\n",
      "tensor(195350.0625)\n",
      "(1.0016117095947266, 0.4160824120044708, 5662.10986328125)\n"
     ]
    }
   ],
   "source": [
    "torch.manual_seed(0)\n",
    "\n",
    "z_dim = 1000\n",
    "\n",
    "v = 1000*torch.randn(z_dim)\n",
    "n = 1000*torch.randn(z_dim)\n",
    "\n",
    "m = v+n\n",
    "\n",
    "vh = m.clone().requires_grad_()\n",
    "opt = torch.optim.Adam([vh], lr=1)\n",
    "\n",
    "print(mse_loss(vh, v).detach())\n",
    "print(test(vh, v, n))\n",
    "\n",
    "for steps in range(1000):\n",
    "    opt.zero_grad()\n",
    "    loss = mse_loss(vh, v)\n",
    "    loss.backward()\n",
    "    opt.step()\n",
    "    \n",
    "print(mse_loss(vh, v).detach())\n",
    "print(test(vh, v, n))"
   ]
  },
  {
   "cell_type": "code",
   "execution_count": 26,
   "metadata": {},
   "outputs": [
    {
     "name": "stdout",
     "output_type": "stream",
     "text": [
      "tensor(943321.2500)\n",
      "(1.0, 1.000000238418579, 0.007320504169911146)\n",
      "tensor(331935.9688)\n",
      "(0.9891633987426758, 0.35580939054489136, 14568.7197265625)\n"
     ]
    }
   ],
   "source": [
    "torch.manual_seed(0)\n",
    "\n",
    "z_dim = 1000\n",
    "\n",
    "v = 1000*torch.randn(z_dim)\n",
    "n = 1000*torch.randn(z_dim)\n",
    "\n",
    "m = v+n\n",
    "\n",
    "vh = m.clone().requires_grad_()\n",
    "opt = torch.optim.Adam([vh], lr=1)\n",
    "\n",
    "print(mse_loss(vh, v).detach())\n",
    "print(test(vh, v, n))\n",
    "\n",
    "for steps in range(1000):\n",
    "    opt.zero_grad()\n",
    "    loss = cool_new_loss(vh, v, n)\n",
    "    loss.backward()\n",
    "    opt.step()\n",
    "    \n",
    "print(mse_loss(vh, v).detach())\n",
    "print(test(vh, v, n))"
   ]
  },
  {
   "cell_type": "code",
   "execution_count": 23,
   "metadata": {},
   "outputs": [
    {
     "name": "stdout",
     "output_type": "stream",
     "text": [
      "(1.0, 1.0, 0.0)\n",
      "(1.0, 0.9003496766090393, 0.0)\n"
     ]
    }
   ],
   "source": [
    "X = torch.tensor([1.,0,0])\n",
    "Y = torch.tensor([0.,1,0])\n",
    "p = X+Y + torch.tensor([0,0,0])\n",
    "p.requires_grad_()\n",
    "\n",
    "print(test(p, X, Y))\n",
    "\n",
    "opt = torch.optim.Adam([p], lr=0.01)\n",
    "for steps in range(10):\n",
    "    opt.zero_grad()\n",
    "    loss = mse_loss(p, X)\n",
    "    loss.backward()\n",
    "    opt.step()\n",
    "    \n",
    "print(test(p, X, Y))"
   ]
  },
  {
   "cell_type": "code",
   "execution_count": null,
   "metadata": {},
   "outputs": [],
   "source": []
  }
 ],
 "metadata": {
  "kernelspec": {
   "display_name": "Python 3",
   "language": "python",
   "name": "python3"
  },
  "language_info": {
   "codemirror_mode": {
    "name": "ipython",
    "version": 3
   },
   "file_extension": ".py",
   "mimetype": "text/x-python",
   "name": "python",
   "nbconvert_exporter": "python",
   "pygments_lexer": "ipython3",
   "version": "3.7.1"
  }
 },
 "nbformat": 4,
 "nbformat_minor": 4
}
