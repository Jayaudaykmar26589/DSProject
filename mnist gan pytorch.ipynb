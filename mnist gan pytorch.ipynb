{
 "cells": [
  {
   "cell_type": "code",
   "execution_count": 245,
   "metadata": {},
   "outputs": [
    {
     "name": "stdout",
     "output_type": "stream",
     "text": [
      "cpu\n"
     ]
    }
   ],
   "source": [
    "import numpy as np\n",
    "import matplotlib.pyplot as plt\n",
    "\n",
    "import torch\n",
    "import torch.nn as nn\n",
    "\n",
    "from tqdm.notebook import tqdm\n",
    "\n",
    "# import glob\n",
    "# import imageio\n",
    "# import os\n",
    "# import PIL\n",
    "# import time\n",
    "\n",
    "\n",
    "torch_device = torch.device('cuda' if torch.cuda.is_available() else 'cpu')\n",
    "torch_float_dtype = torch.float\n",
    "torch_int_dtype = torch.int\n",
    "\n",
    "print(torch_device)\n"
   ]
  },
  {
   "cell_type": "code",
   "execution_count": 10,
   "metadata": {},
   "outputs": [],
   "source": [
    "import sklearn.datasets\n",
    "mnist_dataset = sklearn.datasets.fetch_openml('mnist_784')"
   ]
  },
  {
   "cell_type": "code",
   "execution_count": 12,
   "metadata": {},
   "outputs": [],
   "source": [
    "X, Y = mnist_dataset.data.reshape(-1, 28, 28)/255. , mnist_dataset.target.astype(int)\n",
    "\n",
    "X = torch.from_numpy(X).to(torch_device).type(torch_float_dtype)\n",
    "Y = torch.from_numpy(Y).to(torch_device).type(torch_int_dtype)\n",
    "\n",
    "del mnist_dataset"
   ]
  },
  {
   "cell_type": "code",
   "execution_count": 78,
   "metadata": {},
   "outputs": [
    {
     "name": "stdout",
     "output_type": "stream",
     "text": [
      "5\n"
     ]
    },
    {
     "data": {
      "image/png": "[encoded data removed]",
      "text/plain": [
       "<Figure size 432x288 with 1 Axes>"
      ]
     },
     "metadata": {
      "needs_background": "light"
     },
     "output_type": "display_data"
    }
   ],
   "source": [
    "plt.imshow(X[0].cpu().numpy(), cmap='gray')\n",
    "print(Y[0].cpu().numpy())"
   ]
  },
  {
   "cell_type": "code",
   "execution_count": 201,
   "metadata": {},
   "outputs": [],
   "source": [
    "class GeneratorNet(nn.Module):\n",
    "    \n",
    "    def __init__(self):\n",
    "        super().__init__()\n",
    "        \n",
    "        self.leakyReLu = nn.LeakyReLU()\n",
    "        \n",
    "        self.lin1 = nn.Linear(100, 256*7*7)\n",
    "        self.bn1 = nn.BatchNorm1d(1)\n",
    "        self.convt1 = nn.ConvTranspose2d(256, 128, (5, 5), stride=(1, 1), padding=(2,2))\n",
    "        self.bn2 = nn.BatchNorm2d(128)\n",
    "        self.convt2 = nn.ConvTranspose2d(128, 64, (5, 5), stride=(2, 2), padding=(2,2), output_padding=(1,1))\n",
    "        self.bn3 = nn.BatchNorm2d(64)\n",
    "        self.convt3 = nn.ConvTranspose2d(64, 1, (5, 5), stride=(2, 2), padding=(2,2), output_padding=(1,1))\n",
    "        \n",
    "    def forward(self, x):\n",
    "        x = self.lin1(x)\n",
    "\n",
    "        x = x[:, None, :]\n",
    "        x = self.bn1(x)\n",
    "        x = self.leakyReLu(x)\n",
    "\n",
    "        x = x.view(-1, 256, 7, 7)\n",
    "\n",
    "        x = self.convt1(x)\n",
    "        x = self.bn2(x)\n",
    "        x = self.leakyReLu(x)\n",
    "\n",
    "        x = self.convt2(x)\n",
    "        x = self.bn3(x)\n",
    "        x = self.leakyReLu(x)\n",
    "\n",
    "        x = self.convt3(x)\n",
    "        return x[:, 0, :, :]\n",
    "        \n",
    "gm = GeneratorNet()\n",
    "gm = gm.to(torch_device)"
   ]
  },
  {
   "cell_type": "code",
   "execution_count": 204,
   "metadata": {},
   "outputs": [
    {
     "data": {
      "text/plain": [
       "<matplotlib.image.AxesImage at 0x13b1e37f0>"
      ]
     },
     "execution_count": 204,
     "metadata": {},
     "output_type": "execute_result"
    },
    {
     "data": {
      "image/png": "[encoded data removed]",
      "text/plain": [
       "<Figure size 432x288 with 1 Axes>"
      ]
     },
     "metadata": {
      "needs_background": "light"
     },
     "output_type": "display_data"
    }
   ],
   "source": [
    "init_imgs = gm.forward(torch.zeros(10, 100))\n",
    "# print(init_imgs.shape)\n",
    "plt.imshow(init_imgs[0].cpu().detach().numpy(), cmap='gray')"
   ]
  },
  {
   "cell_type": "code",
   "execution_count": 131,
   "metadata": {},
   "outputs": [],
   "source": [
    "class DiscriminatorNet(nn.Module):\n",
    "    def __init__(self):\n",
    "        super().__init__()\n",
    "        \n",
    "        self.leakyReLu = nn.LeakyReLU()\n",
    "        self.dropout = nn.Dropout(0.3)\n",
    "        \n",
    "        self.conv1 = nn.Conv2d(1, 64, (5,5), stride=(2, 2), padding=(2,2))\n",
    "        self.conv2 = nn.Conv2d(64, 128, (5,5), stride=(2, 2), padding=(2,2))\n",
    "        self.lin = nn.Linear(128*7*7, 1)\n",
    "        \n",
    "        self.sigmoid = nn.Sigmoid()\n",
    "        \n",
    "    def forward(self, x):\n",
    "        x = x[:, None, :, :]\n",
    "        x = self.conv1(x)\n",
    "        x = self.leakyReLu(x)\n",
    "        x = self.dropout(x)\n",
    "        \n",
    "        x = self.conv2(x)\n",
    "        x = self.leakyReLu(x)\n",
    "        x = self.dropout(x)\n",
    "        \n",
    "        x = x.view(-1, 128*7*7)\n",
    "        x = self.lin(x)\n",
    "        x = self.sigmoid(x)\n",
    "        x = x[:, 0]\n",
    "        return x\n",
    "        \n",
    "        \n",
    "#         dm.add(layers.Conv2D(64, (5, 5), strides=(2, 2), padding='same',\n",
    "#                                          input_shape=[28, 28, 1]))\n",
    "#         dm.add(layers.LeakyReLU())\n",
    "#         dm.add(layers.Dropout(0.3))\n",
    "\n",
    "#         dm.add(layers.Conv2D(128, (5, 5), strides=(2, 2), padding='same'))\n",
    "#         dm.add(layers.LeakyReLU())\n",
    "#         dm.add(layers.Dropout(0.3))\n",
    "\n",
    "#         dm.add(layers.Flatten())\n",
    "#         dm.add(layers.Dense(1))\n",
    "\n",
    "\n",
    "        \n",
    "dm = DiscriminatorNet()\n",
    "dm = dm.to(torch_device)"
   ]
  },
  {
   "cell_type": "code",
   "execution_count": 207,
   "metadata": {},
   "outputs": [
    {
     "name": "stdout",
     "output_type": "stream",
     "text": [
      "torch.Size([5])\n"
     ]
    }
   ],
   "source": [
    "init_guesses = dm.forward(X[:5])\n",
    "print(init_guesses.shape)"
   ]
  },
  {
   "cell_type": "code",
   "execution_count": 241,
   "metadata": {},
   "outputs": [
    {
     "data": {
      "image/png": "[encoded data removed]",
      "text/plain": [
       "<Figure size 432x288 with 4 Axes>"
      ]
     },
     "metadata": {
      "needs_background": "light"
     },
     "output_type": "display_data"
    }
   ],
   "source": [
    "rows = 2\n",
    "columns = 2\n",
    "vis_noises = np.random.normal(0, 1, (rows*columns, 100))\n",
    "vis_noises = torch.from_numpy(vis_noises).type(torch_float_dtype).to(torch_device)\n",
    "\n",
    "def show_generator_model_images(gm):\n",
    "    imgs = gm.forward(vis_noises).detach().cpu().numpy()\n",
    "    \n",
    "    for i in range(rows*columns):\n",
    "        plt.subplot(rows, columns, i+1)\n",
    "        plt.imshow(imgs[i, :, :], cmap='gray')\n",
    "#         plt.colorbar()\n",
    "        plt.axis('off')\n",
    "    \n",
    "    \n",
    "show_generator_model_images(gm)"
   ]
  },
  {
   "cell_type": "code",
   "execution_count": 98,
   "metadata": {},
   "outputs": [],
   "source": [
    "g_optim = torch.optim.Adam(gm.parameters(), lr=0.0001)\n",
    "d_optim = torch.optim.Adam(dm.parameters(), lr=0.0001)"
   ]
  },
  {
   "cell_type": "code",
   "execution_count": 232,
   "metadata": {},
   "outputs": [],
   "source": [
    "cross_entropy = nn.BCELoss()\n",
    "\n",
    "# real_output is the output of discriminator with real input images\n",
    "# fake_output is the output of discriminator with fake input images\n",
    "def discriminator_loss(real_output, fake_output):\n",
    "    real_loss = cross_entropy(real_output, torch.ones_like(real_output)) # want to correctly identify real\n",
    "    fake_loss = cross_entropy(fake_output, torch.zeros_like(fake_output))  # want to correctly identify fake\n",
    "    return real_loss + fake_loss\n",
    "\n",
    "# fake_output is the output of discriminator with fake input images\n",
    "def generator_loss(fake_output):\n",
    "    return cross_entropy(fake_output, torch.ones_like(fake_output)) # want to trick discriminator with fake output"
   ]
  },
  {
   "cell_type": "code",
   "execution_count": 233,
   "metadata": {},
   "outputs": [],
   "source": [
    "def train_step(image_batch):\n",
    "    noise = np.random.normal(0, 1, (image_batch.shape[0], 100))\n",
    "    noise = torch.from_numpy(noise).type(torch_float_dtype).to(torch_device)\n",
    "    \n",
    "    fake_image_batch = gm(noise) # run generator to get fake images\n",
    "\n",
    "    real_output = dm(image_batch) # run discriminator on real images\n",
    "    fake_output = dm(fake_image_batch) # run discriminator on fake images\n",
    "\n",
    "    g_loss = generator_loss(fake_output) # needs one for loss function, only the one it generated\n",
    "    d_loss = discriminator_loss(real_output, fake_output) # needs both for loss function\n",
    "\n",
    "    g_loss.backward(retain_graph=True)\n",
    "    d_loss.backward()\n",
    "    \n",
    "    g_optim.step()\n",
    "    d_optim.step()\n",
    "    g_optim.zero_grad()\n",
    "    d_optim.zero_grad()"
   ]
  },
  {
   "cell_type": "code",
   "execution_count": 242,
   "metadata": {},
   "outputs": [],
   "source": [
    "batch_size = 100\n",
    "\n",
    "def train(images, epochs):\n",
    "    for epoch in range(epochs):\n",
    "        for i_batch in tqdm(range(images.shape[0] // batch_size)):\n",
    "            image_batch = images[i_batch*batch_size:(i_batch+1)*batch_size]\n",
    "            train_step(image_batch)\n",
    "            \n",
    "            if i_batch%10==0:\n",
    "                show_generator_model_images(gm)\n",
    "#                 plt.savefig(f'mnist_gan/epoch_{epoch:03d}_step_{i_batch:03d}')\n",
    "#                 plt.close()\n",
    "                plt.show()\n"
   ]
  },
  {
   "cell_type": "code",
   "execution_count": 243,
   "metadata": {},
   "outputs": [
    {
     "name": "stderr",
     "output_type": "stream",
     "text": [
      "\n",
      "  0%|          | 0/700 [00:00<?, ?it/s]\u001b[A"
     ]
    },
    {
     "data": {
      "image/png": "[encoded data removed]",
      "text/plain": [
       "<Figure size 432x288 with 4 Axes>"
      ]
     },
     "metadata": {
      "needs_background": "light"
     },
     "output_type": "display_data"
    },
    {
     "name": "stderr",
     "output_type": "stream",
     "text": [
      "\n",
      "  0%|          | 1/700 [00:01<22:52,  1.96s/it]\u001b[A\n",
      "  0%|          | 2/700 [00:03<21:00,  1.81s/it]\u001b[A\n",
      "  0%|          | 3/700 [00:04<19:37,  1.69s/it]\u001b[A\n",
      "  1%|          | 4/700 [00:06<19:43,  1.70s/it]\u001b[A\n",
      "  1%|          | 5/700 [00:08<20:59,  1.81s/it]\u001b[A\n",
      "  1%|          | 6/700 [00:10<20:09,  1.74s/it]\u001b[A"
     ]
    },
    {
     "ename": "KeyboardInterrupt",
     "evalue": "",
     "output_type": "error",
     "traceback": [
      "\u001b[0;31m---------------------------------------------------------------------------\u001b[0m",
      "\u001b[0;31mKeyboardInterrupt\u001b[0m                         Traceback (most recent call last)",
      "\u001b[0;32m<ipython-input-243-c0fa7aa48520>\u001b[0m in \u001b[0;36m<module>\u001b[0;34m\u001b[0m\n\u001b[0;32m----> 1\u001b[0;31m \u001b[0mtrain\u001b[0m\u001b[0;34m(\u001b[0m\u001b[0mX\u001b[0m\u001b[0;34m,\u001b[0m \u001b[0;36m10\u001b[0m\u001b[0;34m)\u001b[0m\u001b[0;34m\u001b[0m\u001b[0;34m\u001b[0m\u001b[0m\n\u001b[0m",
      "\u001b[0;32m<ipython-input-242-7d6b0398146f>\u001b[0m in \u001b[0;36mtrain\u001b[0;34m(images, epochs)\u001b[0m\n\u001b[1;32m      5\u001b[0m         \u001b[0;32mfor\u001b[0m \u001b[0mi_batch\u001b[0m \u001b[0;32min\u001b[0m \u001b[0mtqdm\u001b[0m\u001b[0;34m(\u001b[0m\u001b[0mrange\u001b[0m\u001b[0;34m(\u001b[0m\u001b[0mimages\u001b[0m\u001b[0;34m.\u001b[0m\u001b[0mshape\u001b[0m\u001b[0;34m[\u001b[0m\u001b[0;36m0\u001b[0m\u001b[0;34m]\u001b[0m \u001b[0;34m//\u001b[0m \u001b[0mbatch_size\u001b[0m\u001b[0;34m)\u001b[0m\u001b[0;34m)\u001b[0m\u001b[0;34m:\u001b[0m\u001b[0;34m\u001b[0m\u001b[0;34m\u001b[0m\u001b[0m\n\u001b[1;32m      6\u001b[0m             \u001b[0mimage_batch\u001b[0m \u001b[0;34m=\u001b[0m \u001b[0mimages\u001b[0m\u001b[0;34m[\u001b[0m\u001b[0mi_batch\u001b[0m\u001b[0;34m*\u001b[0m\u001b[0mbatch_size\u001b[0m\u001b[0;34m:\u001b[0m\u001b[0;34m(\u001b[0m\u001b[0mi_batch\u001b[0m\u001b[0;34m+\u001b[0m\u001b[0;36m1\u001b[0m\u001b[0;34m)\u001b[0m\u001b[0;34m*\u001b[0m\u001b[0mbatch_size\u001b[0m\u001b[0;34m]\u001b[0m\u001b[0;34m\u001b[0m\u001b[0;34m\u001b[0m\u001b[0m\n\u001b[0;32m----> 7\u001b[0;31m             \u001b[0mtrain_step\u001b[0m\u001b[0;34m(\u001b[0m\u001b[0mimage_batch\u001b[0m\u001b[0;34m)\u001b[0m\u001b[0;34m\u001b[0m\u001b[0;34m\u001b[0m\u001b[0m\n\u001b[0m\u001b[1;32m      8\u001b[0m \u001b[0;34m\u001b[0m\u001b[0m\n\u001b[1;32m      9\u001b[0m             \u001b[0;32mif\u001b[0m \u001b[0mi_batch\u001b[0m\u001b[0;34m%\u001b[0m\u001b[0;36m10\u001b[0m\u001b[0;34m==\u001b[0m\u001b[0;36m0\u001b[0m\u001b[0;34m:\u001b[0m\u001b[0;34m\u001b[0m\u001b[0;34m\u001b[0m\u001b[0m\n",
      "\u001b[0;32m<ipython-input-233-022e60244c74>\u001b[0m in \u001b[0;36mtrain_step\u001b[0;34m(image_batch)\u001b[0m\n\u001b[1;32m     11\u001b[0m     \u001b[0md_loss\u001b[0m \u001b[0;34m=\u001b[0m \u001b[0mdiscriminator_loss\u001b[0m\u001b[0;34m(\u001b[0m\u001b[0mreal_output\u001b[0m\u001b[0;34m,\u001b[0m \u001b[0mfake_output\u001b[0m\u001b[0;34m)\u001b[0m \u001b[0;31m# needs both for loss function\u001b[0m\u001b[0;34m\u001b[0m\u001b[0;34m\u001b[0m\u001b[0m\n\u001b[1;32m     12\u001b[0m \u001b[0;34m\u001b[0m\u001b[0m\n\u001b[0;32m---> 13\u001b[0;31m     \u001b[0mg_loss\u001b[0m\u001b[0;34m.\u001b[0m\u001b[0mbackward\u001b[0m\u001b[0;34m(\u001b[0m\u001b[0mretain_graph\u001b[0m\u001b[0;34m=\u001b[0m\u001b[0;32mTrue\u001b[0m\u001b[0;34m)\u001b[0m\u001b[0;34m\u001b[0m\u001b[0;34m\u001b[0m\u001b[0m\n\u001b[0m\u001b[1;32m     14\u001b[0m     \u001b[0md_loss\u001b[0m\u001b[0;34m.\u001b[0m\u001b[0mbackward\u001b[0m\u001b[0;34m(\u001b[0m\u001b[0;34m)\u001b[0m\u001b[0;34m\u001b[0m\u001b[0;34m\u001b[0m\u001b[0m\n\u001b[1;32m     15\u001b[0m \u001b[0;34m\u001b[0m\u001b[0m\n",
      "\u001b[0;32m/Library/Frameworks/Python.framework/Versions/3.7/lib/python3.7/site-packages/torch/tensor.py\u001b[0m in \u001b[0;36mbackward\u001b[0;34m(self, gradient, retain_graph, create_graph)\u001b[0m\n\u001b[1;32m    193\u001b[0m                 \u001b[0mproducts\u001b[0m\u001b[0;34m.\u001b[0m \u001b[0mDefaults\u001b[0m \u001b[0mto\u001b[0m\u001b[0;31m \u001b[0m\u001b[0;31m`\u001b[0m\u001b[0;31m`\u001b[0m\u001b[0;32mFalse\u001b[0m\u001b[0;31m`\u001b[0m\u001b[0;31m`\u001b[0m\u001b[0;34m.\u001b[0m\u001b[0;34m\u001b[0m\u001b[0;34m\u001b[0m\u001b[0m\n\u001b[1;32m    194\u001b[0m         \"\"\"\n\u001b[0;32m--> 195\u001b[0;31m         \u001b[0mtorch\u001b[0m\u001b[0;34m.\u001b[0m\u001b[0mautograd\u001b[0m\u001b[0;34m.\u001b[0m\u001b[0mbackward\u001b[0m\u001b[0;34m(\u001b[0m\u001b[0mself\u001b[0m\u001b[0;34m,\u001b[0m \u001b[0mgradient\u001b[0m\u001b[0;34m,\u001b[0m \u001b[0mretain_graph\u001b[0m\u001b[0;34m,\u001b[0m \u001b[0mcreate_graph\u001b[0m\u001b[0;34m)\u001b[0m\u001b[0;34m\u001b[0m\u001b[0;34m\u001b[0m\u001b[0m\n\u001b[0m\u001b[1;32m    196\u001b[0m \u001b[0;34m\u001b[0m\u001b[0m\n\u001b[1;32m    197\u001b[0m     \u001b[0;32mdef\u001b[0m \u001b[0mregister_hook\u001b[0m\u001b[0;34m(\u001b[0m\u001b[0mself\u001b[0m\u001b[0;34m,\u001b[0m \u001b[0mhook\u001b[0m\u001b[0;34m)\u001b[0m\u001b[0;34m:\u001b[0m\u001b[0;34m\u001b[0m\u001b[0;34m\u001b[0m\u001b[0m\n",
      "\u001b[0;32m/Library/Frameworks/Python.framework/Versions/3.7/lib/python3.7/site-packages/torch/autograd/__init__.py\u001b[0m in \u001b[0;36mbackward\u001b[0;34m(tensors, grad_tensors, retain_graph, create_graph, grad_variables)\u001b[0m\n\u001b[1;32m     97\u001b[0m     Variable._execution_engine.run_backward(\n\u001b[1;32m     98\u001b[0m         \u001b[0mtensors\u001b[0m\u001b[0;34m,\u001b[0m \u001b[0mgrad_tensors\u001b[0m\u001b[0;34m,\u001b[0m \u001b[0mretain_graph\u001b[0m\u001b[0;34m,\u001b[0m \u001b[0mcreate_graph\u001b[0m\u001b[0;34m,\u001b[0m\u001b[0;34m\u001b[0m\u001b[0;34m\u001b[0m\u001b[0m\n\u001b[0;32m---> 99\u001b[0;31m         allow_unreachable=True)  # allow_unreachable flag\n\u001b[0m\u001b[1;32m    100\u001b[0m \u001b[0;34m\u001b[0m\u001b[0m\n\u001b[1;32m    101\u001b[0m \u001b[0;34m\u001b[0m\u001b[0m\n",
      "\u001b[0;31mKeyboardInterrupt\u001b[0m: "
     ]
    }
   ],
   "source": [
    "train(X, 10)"
   ]
  },
  {
   "cell_type": "code",
   "execution_count": null,
   "metadata": {},
   "outputs": [],
   "source": []
  },
  {
   "cell_type": "code",
   "execution_count": null,
   "metadata": {},
   "outputs": [],
   "source": []
  },
  {
   "cell_type": "code",
   "execution_count": null,
   "metadata": {},
   "outputs": [],
   "source": []
  },
  {
   "cell_type": "code",
   "execution_count": null,
   "metadata": {},
   "outputs": [],
   "source": []
  },
  {
   "cell_type": "code",
   "execution_count": null,
   "metadata": {},
   "outputs": [],
   "source": []
  },
  {
   "cell_type": "code",
   "execution_count": null,
   "metadata": {},
   "outputs": [],
   "source": [
    "(train_images, train_labels), (test_images, test_labels) = tf.keras.datasets.mnist.load_data()\n",
    "\n",
    "# train_images = np.stack((train_images, train_images, train_images), axis=3)\n",
    "# train_images_color = train_images.copy()\n",
    "# # train_images_color[train_images>0] = np.random.uniform(0, 255, train_images_color[train_images>0].shape)\n",
    "# train_images_color[:, :, :, 1] = 0\n",
    "# train_images_color[:, :, :, 2] = 0\n",
    "\n",
    "def create_generator_model():\n",
    "    gm = tf.keras.Sequential()\n",
    "    gm.add(layers.Dense(7*7*256, use_bias=False, input_shape=(100,)))\n",
    "    gm.add(layers.BatchNormalization())\n",
    "    gm.add(layers.LeakyReLU())\n",
    "\n",
    "    gm.add(layers.Reshape((7, 7, 256)))\n",
    "    assert gm.output_shape == (None, 7, 7, 256) # Note: None is the batch size\n",
    "\n",
    "    gm.add(layers.Conv2DTranspose(128, (5, 5), strides=(1, 1), padding='same', use_bias=False))\n",
    "    assert gm.output_shape == (None, 7, 7, 128)\n",
    "    gm.add(layers.BatchNormalization())\n",
    "    gm.add(layers.LeakyReLU())\n",
    "\n",
    "    gm.add(layers.Conv2DTranspose(64, (5, 5), strides=(2, 2), padding='same', use_bias=False))\n",
    "    assert gm.output_shape == (None, 14, 14, 64)\n",
    "    gm.add(layers.BatchNormalization())\n",
    "    gm.add(layers.LeakyReLU())\n",
    "\n",
    "    gm.add(layers.Conv2DTranspose(1, (5, 5), strides=(2, 2), padding='same', use_bias=False, activation='tanh'))\n",
    "    assert gm.output_shape == (None, 28, 28, 1)\n",
    "\n",
    "    return gm\n",
    "    \n",
    "\n",
    "def create_discriminator_model():\n",
    "    dm = tf.keras.Sequential()\n",
    "    dm.add(layers.Conv2D(64, (5, 5), strides=(2, 2), padding='same',\n",
    "                                     input_shape=[28, 28, 1]))\n",
    "    dm.add(layers.LeakyReLU())\n",
    "    dm.add(layers.Dropout(0.3))\n",
    "\n",
    "    dm.add(layers.Conv2D(128, (5, 5), strides=(2, 2), padding='same'))\n",
    "    dm.add(layers.LeakyReLU())\n",
    "    dm.add(layers.Dropout(0.3))\n",
    "\n",
    "    dm.add(layers.Flatten())\n",
    "    dm.add(layers.Dense(1))\n",
    "\n",
    "    return dm\n",
    "\n",
    "gm = create_generator_model()\n",
    "dm = create_discriminator_model()\n",
    "\n",
    "rows = 10\n",
    "columns = 10\n",
    "vis_noises = np.random.normal(0, 1, (rows*columns, 100))\n",
    "\n",
    "def show_generator_model_images(gm):\n",
    "    imgs = gm.predict(vis_noises)\n",
    "    \n",
    "    for i in range(rows*columns):\n",
    "        plt.subplot(rows, columns, i+1)\n",
    "        plt.imshow(imgs[i, :, :, 0], cmap='gray')\n",
    "#         plt.colorbar()\n",
    "        plt.axis('off')\n",
    "show_generator_model_images(gm)\n",
    "\n",
    "g_optim = tf.keras.optimizers.Adam(1e-4)\n",
    "d_optim = tf.keras.optimizers.Adam(1e-4)\n",
    "\n",
    "cross_entropy = tf.keras.losses.BinaryCrossentropy(from_logits=True)\n",
    "\n",
    "# real_output is the output of discriminator with real input images\n",
    "# fake_output is the output of discriminator with fake input images\n",
    "def discriminator_loss(real_output, fake_output):\n",
    "    real_loss = cross_entropy(tf.ones_like(real_output), real_output) # want to correctly identify real\n",
    "    fake_loss = cross_entropy(tf.zeros_like(fake_output), fake_output)  # want to correctly identify fake\n",
    "    return real_loss + fake_loss\n",
    "\n",
    "# fake_output is the output of discriminator with fake input images\n",
    "def generator_loss(fake_output):\n",
    "    return cross_entropy(tf.ones_like(fake_output), fake_output) # want to trick discriminator with fake output\n",
    "\n",
    "@tf.function\n",
    "def train_step(image_batch):\n",
    "    noise = np.random.normal(0, 1, (image_batch.shape[0], 100))\n",
    "    \n",
    "    # gradient tapes needed to keep track of gradients (auto differentiation)\n",
    "    with tf.GradientTape() as g_tape, tf.GradientTape() as d_tape:\n",
    "        fake_image_batch = gm(noise, training=True) # run generator to get fake images\n",
    "        \n",
    "        real_output = dm(image_batch[..., None], training=True) # run discriminator on real images\n",
    "        fake_output = dm(fake_image_batch, training=True) # run discriminator on fake images\n",
    "        \n",
    "        g_loss = generator_loss(fake_output) # needs one for loss function, only the one it generated\n",
    "        d_loss = discriminator_loss(real_output, fake_output) # needs both for loss function\n",
    "\n",
    "    g_grad = g_tape.gradient(g_loss, gm.trainable_variables)\n",
    "    d_grad = d_tape.gradient(d_loss, dm.trainable_variables)\n",
    "    \n",
    "    g_optim.apply_gradients(zip(g_grad, gm.trainable_variables))\n",
    "    d_optim.apply_gradients(zip(d_grad, dm.trainable_variables))\n",
    "\n",
    "batch_size = 100\n",
    "\n",
    "def train(images, epochs):\n",
    "    for epoch in range(epochs):\n",
    "        for i_batch in tqdm(range(int(images.shape[0]/batch_size))):\n",
    "            image_batch = images[i_batch*batch_size:(i_batch+1)*batch_size]\n",
    "            train_step(image_batch)\n",
    "            \n",
    "            if i_batch%10==0:\n",
    "                show_generator_model_images(gm)\n",
    "                plt.savefig(f'mnist_gan/epoch_{epoch:03d}_step_{i_batch:03d}')\n",
    "                plt.close()\n",
    "\n",
    "\n",
    "train((train_images-127.5)/127.5, 10)\n",
    "\n"
   ]
  },
  {
   "cell_type": "code",
   "execution_count": null,
   "metadata": {},
   "outputs": [],
   "source": []
  },
  {
   "cell_type": "code",
   "execution_count": null,
   "metadata": {},
   "outputs": [],
   "source": []
  },
  {
   "cell_type": "code",
   "execution_count": null,
   "metadata": {},
   "outputs": [],
   "source": []
  },
  {
   "cell_type": "code",
   "execution_count": null,
   "metadata": {},
   "outputs": [],
   "source": []
  },
  {
   "cell_type": "code",
   "execution_count": null,
   "metadata": {},
   "outputs": [],
   "source": []
  },
  {
   "cell_type": "code",
   "execution_count": 258,
   "metadata": {},
   "outputs": [
    {
     "name": "stdout",
     "output_type": "stream",
     "text": [
      "None\n"
     ]
    }
   ],
   "source": [
    "t_a = torch.tensor(3.)\n",
    "t_b = torch.tensor(8.)\n",
    "t_a.requires_grad = True\n",
    "t_b.requires_grad = True\n",
    "\n",
    "t_c = a*b\n",
    "\n",
    "t_c.backward()\n",
    "\n",
    "print(t_a.grad)"
   ]
  },
  {
   "cell_type": "code",
   "execution_count": null,
   "metadata": {},
   "outputs": [],
   "source": []
  }
 ],
 "metadata": {
  "kernelspec": {
   "display_name": "Python 3",
   "language": "python",
   "name": "python3"
  },
  "language_info": {
   "codemirror_mode": {
    "name": "ipython",
    "version": 3
   },
   "file_extension": ".py",
   "mimetype": "text/x-python",
   "name": "python",
   "nbconvert_exporter": "python",
   "pygments_lexer": "ipython3",
   "version": "3.7.1"
  }
 },
 "nbformat": 4,
 "nbformat_minor": 4
}
